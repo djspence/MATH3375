{
 "cells": [
  {
   "cell_type": "markdown",
   "id": "ranging-amplifier",
   "metadata": {},
   "source": [
    "# MATH 3375 Examples Notebook #1\n",
    "# Exploratory Data Analysis (EDA)\n",
    "\n",
    "This is a 'Markdown' cell.  The cell below is a CODE cell.  Use CTRL-Enter to render a Markdown cell or execute a code cell. (Use SHIFT-Enter to render/execute AND proceed to the next cell.)"
   ]
  },
  {
   "cell_type": "code",
   "execution_count": null,
   "id": "after-henry",
   "metadata": {},
   "outputs": [],
   "source": [
    "head(iris)   # See the first few rows of Iris data set\n",
    "?iris        # Bring up R documentation that explains this data set"
   ]
  },
  {
   "cell_type": "markdown",
   "id": "atlantic-uncle",
   "metadata": {},
   "source": [
    "## What to explore...\n",
    "### 1. Types of Variables\n",
    "Quantitative vs. Categorical  \n",
    "_Note: In R, categorical variables are called 'factors'_  \n"
   ]
  },
  {
   "cell_type": "markdown",
   "id": "facial-patent",
   "metadata": {},
   "source": [
    "\n",
    "### 2. Size of Data Set\n",
    "How many rows?  How many columns?"
   ]
  },
  {
   "cell_type": "code",
   "execution_count": null,
   "id": "associate-elevation",
   "metadata": {},
   "outputs": [],
   "source": [
    "nrow(iris)\n",
    "ncol(iris)"
   ]
  },
  {
   "cell_type": "markdown",
   "id": "compliant-anxiety",
   "metadata": {},
   "source": [
    "### 3. Variable Summaries\n",
    "\n",
    "The type of summary will depend on the type of variable"
   ]
  },
  {
   "cell_type": "code",
   "execution_count": null,
   "id": "decimal-prime",
   "metadata": {},
   "outputs": [],
   "source": [
    "summary(iris$Petal.Length)"
   ]
  },
  {
   "cell_type": "code",
   "execution_count": null,
   "id": "binary-coordination",
   "metadata": {},
   "outputs": [],
   "source": [
    "summary(iris$Species)"
   ]
  },
  {
   "cell_type": "markdown",
   "id": "educational-psychology",
   "metadata": {},
   "source": [
    "You can also compute individual statistics. These are the most common."
   ]
  },
  {
   "cell_type": "code",
   "execution_count": null,
   "id": "catholic-provider",
   "metadata": {},
   "outputs": [],
   "source": [
    "mean(iris$Petal.Length)   #Mean\n",
    "var(iris$Petal.Length)    #Variance\n",
    "sd(iris$Petal.Length)     #Standard Deviation"
   ]
  },
  {
   "cell_type": "markdown",
   "id": "sticky-reality",
   "metadata": {},
   "source": [
    "### 4. Adding Another Feature (New Column) \n",
    "\n",
    "You can compute a new column from existing data set columns. Here we compute the ratio of the petal length to its width."
   ]
  },
  {
   "cell_type": "code",
   "execution_count": null,
   "id": "banner-architect",
   "metadata": {},
   "outputs": [],
   "source": [
    "iris$Petal.Ratio <- iris$Petal.Length/iris$Petal.Width\n",
    "head(iris)"
   ]
  },
  {
   "cell_type": "code",
   "execution_count": null,
   "id": "military-cooling",
   "metadata": {},
   "outputs": [],
   "source": [
    "summary(iris$Petal.Ratio)"
   ]
  },
  {
   "cell_type": "markdown",
   "id": "forty-latest",
   "metadata": {},
   "source": [
    "### Visualizing Data\n",
    "\n",
    "Below are some of the most common plots used to explore data visually.\n",
    "\n",
    "#### Boxplots"
   ]
  },
  {
   "cell_type": "code",
   "execution_count": null,
   "id": "taken-lighter",
   "metadata": {},
   "outputs": [],
   "source": [
    "boxplot(iris$Petal.Length, main=\"Iris Petal Length\")"
   ]
  },
  {
   "cell_type": "code",
   "execution_count": null,
   "id": "actual-edition",
   "metadata": {},
   "outputs": [],
   "source": [
    "boxplot(Petal.Length ~ Species, data=iris, main=\"Iris Petal Length by Species\")"
   ]
  },
  {
   "cell_type": "code",
   "execution_count": null,
   "id": "organized-serve",
   "metadata": {},
   "outputs": [],
   "source": [
    "boxplot(Petal.Length ~ Species, data=iris, main=\"Iris Petal Length by Species\", horizontal=TRUE, col=\"purple\")"
   ]
  },
  {
   "cell_type": "code",
   "execution_count": null,
   "id": "political-circus",
   "metadata": {},
   "outputs": [],
   "source": [
    "boxplot(Petal.Length ~ Species, data=iris, main=\"Iris Petal Length by Species\", \n",
    "        horizontal=TRUE, col=c(\"lightblue\",\"blue\",\"darkblue\"))"
   ]
  },
  {
   "cell_type": "markdown",
   "id": "indie-wings",
   "metadata": {},
   "source": [
    "### Histograms\n"
   ]
  },
  {
   "cell_type": "code",
   "execution_count": null,
   "id": "iraqi-juice",
   "metadata": {},
   "outputs": [],
   "source": [
    "hist(iris$Petal.Length, main=\"Distribution of Iris Petal Length\")"
   ]
  },
  {
   "cell_type": "code",
   "execution_count": null,
   "id": "described-mirror",
   "metadata": {},
   "outputs": [],
   "source": [
    "# Try this histogram with different bin widths\n",
    "\n",
    "hist(iris$Petal.Length, breaks = seq(from=0, to=7, by=0.7), main=\"Distribution of Iris Petal Length\")\n"
   ]
  },
  {
   "cell_type": "markdown",
   "id": "offshore-voice",
   "metadata": {},
   "source": [
    "### Describing the Distribution of a Quantitative Variable\n",
    "* Shape: Symmetry or Skew\n",
    "* Shape: Uniform, Peaks - unimodal, bimodal, others\n",
    "* Center: Mean and Median\n",
    "* Spread: Range, IQR, standard deviation\n",
    "* Outliers"
   ]
  },
  {
   "cell_type": "markdown",
   "id": "final-mississippi",
   "metadata": {},
   "source": [
    "### Scatter Plots\n",
    "\n",
    "Visualize how two quantitative variables are related."
   ]
  },
  {
   "cell_type": "code",
   "execution_count": null,
   "id": "standard-reaction",
   "metadata": {},
   "outputs": [],
   "source": [
    "plot(iris$Petal.Length,iris$Petal.Width, main=\"Iris Petal Dimensions\", xlab=\"Length\", ylab=\"Width\")"
   ]
  },
  {
   "cell_type": "code",
   "execution_count": null,
   "id": "reflected-agency",
   "metadata": {},
   "outputs": [],
   "source": [
    "shapes = c(15,16,17)\n",
    "colors = c(\"lightpink\", \"blue\", \"mediumorchid\")\n",
    "plot(iris$Petal.Length,iris$Petal.Width, main=\"Iris Petal Dimensions by Species\", xlab=\"Length\", ylab=\"Width\",\n",
    "    col=colors[factor(iris$Species)], pch=shapes[factor(iris$Species)])\n",
    "\n",
    "legend(\"topleft\",\n",
    "       legend = levels(iris$Species),\n",
    "       pch = shapes,\n",
    "       col = colors)\n",
    "\n"
   ]
  },
  {
   "cell_type": "markdown",
   "id": "quality-nylon",
   "metadata": {},
   "source": [
    "### Suggestion \n",
    "\n",
    "Use one or more code cells below to explore other variables and the possible relationships between them. Don't forget to include the new variable that we created (Petal.Ratio). Which variable(s) would you expect to be the best _predictor(s)_ of the species of Iris?"
   ]
  }
 ],
 "metadata": {
  "kernelspec": {
   "display_name": "R",
   "language": "R",
   "name": "ir"
  },
  "language_info": {
   "codemirror_mode": "r",
   "file_extension": ".r",
   "mimetype": "text/x-r-source",
   "name": "R",
   "pygments_lexer": "r",
   "version": "4.0.3"
  }
 },
 "nbformat": 4,
 "nbformat_minor": 5
}
