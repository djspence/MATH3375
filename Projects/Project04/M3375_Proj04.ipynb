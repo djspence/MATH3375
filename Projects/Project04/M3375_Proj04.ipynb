{
 "cells": [
  {
   "cell_type": "markdown",
   "id": "noted-hebrew",
   "metadata": {},
   "source": [
    "### MATH 3375 Project 4 - Logistic Regression\n",
    "\n",
    "For this project, we will use a data set with several features of individual e-mails to predict whether the e-mail should be classified as 'spam'. The data set was obtained from the Machine Learning Repository at UC Irvine. \n",
    "\n",
    "Below is documentation related to the data set. \n",
    "\n",
    "    | SPAM E-MAIL DATABASE ATTRIBUTES \n",
    "    |\n",
    "    | 48 continuous real [0,100] attributes of type word_freq_WORD \n",
    "    | = percentage of words in the e-mail that match WORD,\n",
    "    | i.e. 100 * (number of times the WORD appears in the e-mail) / \n",
    "    | (total number of words in e-mail).  A \"word\" in this case is any \n",
    "    | string of alphanumeric characters bounded by non-alphanumeric \n",
    "    | characters or end-of-string.\n",
    "    | Example: word_freq_credit indicates the percentage of words \n",
    "    |          in the email that are 'credit'\n",
    "    |\n",
    "    | 6 continuous real [0,100] attributes of type char_freq_#\n",
    "    | = percentage of characters in the e-mail that match a specific \n",
    "    | character, given by the table below:\n",
    "\n",
    "|feature|character description|character|\n",
    "|-------|---------------------|:---------:|\n",
    "| char_freq_1| semicolon |**;**|            \n",
    "| char_freq_2| left parenthesis |(|      \n",
    "| char_freq_3| left bracket |$[$|\n",
    "| char_freq_4| exclamation mark|**!**| \n",
    "| char_freq_5| dollar sign |$|\n",
    "| char_freq_6| hashtag/pound sign |#|\n",
    "\n",
    "\n",
    "    | i.e. 100 * (number of CHAR occurences)/(total characters in e-mail)\n",
    "    | Example: char_freq_4 indicates the percentage of characters \n",
    "    |          in the email that are an exclamation mark\n",
    "    |\n",
    "    | 1 continuous real [1,...] attribute: capital_run_length_average\n",
    "    | = average length of uninterrupted sequences of capital letters\n",
    "    |\n",
    "    | 1 continuous integer [1,...] attribute: capital_run_length_longest\n",
    "    | = length of longest uninterrupted sequence of capital letters\n",
    "    |\n",
    "    | 1 continuous integer [1,...] attribute: capital_run_length_total\n",
    "    | = sum of length of uninterrupted sequences of capital letters\n",
    "    | = total number of capital letters in the e-mail\n",
    "    |\n",
    "    | 1 nominal {0,1} class attribute: is_spam\n",
    "    | = denotes whether the e-mail was considered spam (1) or not (0), \n",
    "    | i.e. unsolicited commercial e-mail.  \n",
    "    |\n",
    "    | For more information, see file 'spambase.DOCUMENTATION' at the\n",
    "    | UCI Machine Learning Repository: http://www.ics.uci.edu/~mlearn/MLRepository.html\n",
    "\n",
    "\n",
    "\n",
    "\n"
   ]
  },
  {
   "cell_type": "code",
   "execution_count": null,
   "id": "instructional-algorithm",
   "metadata": {},
   "outputs": [],
   "source": [
    "spam_data <- read.csv(\"spambase.csv\")\n",
    "head(spam_data)"
   ]
  },
  {
   "cell_type": "markdown",
   "id": "passing-reception",
   "metadata": {},
   "source": [
    "## Tasks\n",
    "\n",
    "### Exploratory Data Analysis\n",
    "\n",
    "##### 1. Use code to find the answers to the following questions.\n",
    "\n",
    "**Type your answers in this cell.**  \n",
    "\n",
    "_For an answer to receive credit, the code cell(s) below must have supporting code to show how your answers were obtained._\n",
    "\n",
    "* How many rows are in the data set?\n",
    "    <br>Answer:\n",
    "    \n",
    "    \n",
    "* OTHER than the response variable, how many features (columns) are in the data set?\n",
    "    <br>Answer:\n",
    "    \n",
    "    \n",
    "* What proportion of the data points in the data set are classified as spam?\n",
    "    <br>Answer:\n",
    "    \n",
    "    \n",
    "* Does the word 'money' show up more frequently in spam e-mails than non-spam emails? (_HINT: Use a plot to visualize this_.)\n",
    "    <br>Answer:\n",
    "    "
   ]
  },
  {
   "cell_type": "code",
   "execution_count": null,
   "id": "lesbian-census",
   "metadata": {},
   "outputs": [],
   "source": [
    "#Put code for Exercise 1 in this cell. You may add additional cells if you like.\n"
   ]
  },
  {
   "cell_type": "markdown",
   "id": "electric-purpose",
   "metadata": {},
   "source": [
    "### Partitioning Data\n",
    "\n",
    "##### 2. Partition the data set into training and test sets.\n",
    "\n",
    "Partition the data set into a training set (80% of the data) and a test set (20% of the data).  Note that you should train your model(s) _**using ONLY the training data**.  We are saving the test data set to evaluate performance of the models._"
   ]
  },
  {
   "cell_type": "code",
   "execution_count": null,
   "id": "light-patient",
   "metadata": {},
   "outputs": [],
   "source": [
    "#Put code for Exercise 2 in this cell. You may add additional cells if you like.\n",
    "\n"
   ]
  },
  {
   "cell_type": "markdown",
   "id": "mathematical-ranch",
   "metadata": {},
   "source": [
    "### Create a Model\n",
    "\n",
    "##### 3. Create a Logistic Regression Model with Five Predictors\n",
    "\n",
    "Create a Logistic Regression model to predict whether a model is spam. The model should meet the following guidelines:\n",
    "\n",
    "* The model should use only FIVE of the features in the data set as predictors\n",
    "* At least TWO of the features should be from the set of **word_freq_xxxx** features\n",
    "* At least ONE of the features should be from the set of **char_freq_x** features\n",
    "* At least ONE of the features should be from the set of **capital_run_length_xxxx** features\n",
    "\n",
    "Beyond the guidelines above, the choice of predictors is up to you.  Show your model summary after you have created the model."
   ]
  },
  {
   "cell_type": "code",
   "execution_count": null,
   "id": "ecological-silver",
   "metadata": {},
   "outputs": [],
   "source": [
    "#Put solution to Exercise 3 in this cell. You may add additional cells if you like.\n"
   ]
  },
  {
   "cell_type": "markdown",
   "id": "streaming-chemical",
   "metadata": {},
   "source": [
    "### Interpret the Model\n",
    "\n",
    "##### 3a. Answer the following questions about the model.\n",
    "\n",
    "(Type your answers in this cell.)\n",
    "\n",
    "* Which predictors are significant, and at what significance level?\n",
    "    <br>Answer:\n",
    "    \n",
    "    \n",
    "* Use the model coefficients in your summary to complete the following equation for using the model to predict the **_probability_** that an e-mail is spam. Note that the equation is written in LaTex.\n",
    "\n",
    "$$P(Y=1|x_1,x_2,x_3,x_4,x_5) = $$"
   ]
  },
  {
   "cell_type": "markdown",
   "id": "raising-empty",
   "metadata": {},
   "source": [
    "### Predictions\n",
    "\n",
    "##### 4. Generate Probability Predictions\n",
    "\n",
    "Use your model to generate probability predictions for records **_in the test set_**. Display a few rows showing the predicted probability **_and_** the value of the **is_spam** response variable for each record. (Suggestion: Create a dataframe and then show only the first few rows, NOT the entire dataframe.) "
   ]
  },
  {
   "cell_type": "code",
   "execution_count": null,
   "id": "resident-plymouth",
   "metadata": {},
   "outputs": [],
   "source": [
    "#Put solution to Exercise 4 in this cell. You may add additional cells if you like.\n"
   ]
  },
  {
   "cell_type": "markdown",
   "id": "parallel-panic",
   "metadata": {},
   "source": [
    "##### 5. Explore Classification Thresholds\n",
    "\n",
    "Test several thresholds for classification, where probability > threshold results in a POSITIVE (spam) classification, and any other probability results in a NEGATIVE (non-spam) classification.  **_Use at least the values 0.3, 0.4, 0.5, 0.6, and 0.7_** as thresholds. You may also use others if you choose. \n",
    "\n",
    "For each threhold, you should do the following:\n",
    "\n",
    "* Generate binary (0/1) predictions for the **_test_** data set.\n",
    "* Create and display an ROC plot. \n",
    "* Display the Area Under the Curve (AUC) value for the plot."
   ]
  },
  {
   "cell_type": "code",
   "execution_count": null,
   "id": "super-antibody",
   "metadata": {},
   "outputs": [],
   "source": [
    "#Put solution to Exercise 5 in this cell. You may add additional cells if you like.\n"
   ]
  },
  {
   "cell_type": "markdown",
   "id": "measured-uruguay",
   "metadata": {},
   "source": [
    "##### 5a. Identify the Best Threshold\n",
    "\n",
    "Based on your results above, which threshold is the most suitable for predicting classification? (Give your answer in this cell with a VERY brief justification.)"
   ]
  },
  {
   "cell_type": "markdown",
   "id": "registered-timer",
   "metadata": {},
   "source": [
    "### Final Model Metrics\n",
    "\n",
    "##### 6. Create a Confusion Matrix \n",
    "\n",
    "Using the threshold you selected above, create and display a confusion matrix for the classifications predicted with that threshold for the **_test_** data set.\n"
   ]
  },
  {
   "cell_type": "code",
   "execution_count": null,
   "id": "specific-convert",
   "metadata": {},
   "outputs": [],
   "source": [
    "#Put solution to Exercise 6 in this cell. You may add additional cells if you like.\n"
   ]
  },
  {
   "cell_type": "markdown",
   "id": "rising-candidate",
   "metadata": {},
   "source": [
    "##### 7. Compute Model Metrics\n",
    "\n",
    "Using the confusion matrix you created in Exercise 7, compute the following metrics.  Write your answers in this cell.\n",
    "\n",
    "* Accuracy\n",
    "    <br>Answer:\n",
    "    \n",
    "    \n",
    "* Sensitivity\n",
    "    <br>Answer:\n",
    "    \n",
    "    \n",
    "* Specificity\n",
    "    <br>Answer:\n",
    "    \n",
    "    \n",
    "* Precision\n",
    "    <br>Answer:\n",
    "    \n",
    "    "
   ]
  },
  {
   "cell_type": "code",
   "execution_count": null,
   "id": "corresponding-store",
   "metadata": {},
   "outputs": [],
   "source": [
    "#Put solution to Exercise 7 in this cell. You may add additional cells if you like.\n"
   ]
  },
  {
   "cell_type": "markdown",
   "id": "involved-train",
   "metadata": {},
   "source": [
    "##### 8. Create a Calibration Plot\n",
    "\n",
    "Using the **_test data set_**, create a calibration plot."
   ]
  },
  {
   "cell_type": "code",
   "execution_count": null,
   "id": "described-memory",
   "metadata": {},
   "outputs": [],
   "source": [
    "#Put solution to Exercise 8 in this cell. You may add additional cells if you like.\n"
   ]
  },
  {
   "cell_type": "markdown",
   "id": "checked-prairie",
   "metadata": {},
   "source": [
    "##### 8a. Evaluate the Quality of Your Model\n",
    "\n",
    "Type your answers in this cell.\n",
    "\n",
    "1. Interpret the calibration plot. What does it tell you?\n",
    "2. Interpret the metrics you computed in Exercise 7. What do they tell you?\n",
    "3. Based on both the metrics AND the calibration plot, what is your assessment of the model overall? Explain.\n",
    "\n"
   ]
  }
 ],
 "metadata": {
  "kernelspec": {
   "display_name": "R",
   "language": "R",
   "name": "ir"
  },
  "language_info": {
   "codemirror_mode": "r",
   "file_extension": ".r",
   "mimetype": "text/x-r-source",
   "name": "R",
   "pygments_lexer": "r",
   "version": "4.0.3"
  }
 },
 "nbformat": 4,
 "nbformat_minor": 5
}
