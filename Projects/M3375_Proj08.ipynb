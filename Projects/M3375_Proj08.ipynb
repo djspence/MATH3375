{
 "cells": [
  {
   "cell_type": "markdown",
   "id": "noted-hebrew",
   "metadata": {},
   "source": [
    "### MATH 3375 Project 8 - Probability Models and Simulation  \n",
    "\n",
    "The scenario for this project is the cost of maintaining the lighting in a large industrial facility where electronic components are manufactured. The production area is a large open space lit by 1900 industrial sized fluorescent bulbs with identical specifications (size, lumens, etc.)  Because the production area has just been constructed, all the bulbs are new.\n",
    "\n",
    "The data files below are based on data collected on the same type of fluorescent bulbs at a similar plant. The files are:\n",
    "* failures.csv - this gives the age **_in years_** of each bulb at the time it stopped working\n",
    "* replacement_cost.csv - this gives the costs in recent history of replacing a single bulb\n",
    "\n",
    "Each file has 5000 records.\n"
   ]
  },
  {
   "cell_type": "code",
   "execution_count": 1,
   "id": "instructional-algorithm",
   "metadata": {},
   "outputs": [
    {
     "data": {
      "text/html": [
       "<table>\n",
       "<caption>A data.frame: 6 × 1</caption>\n",
       "<thead>\n",
       "\t<tr><th></th><th scope=col>age</th></tr>\n",
       "\t<tr><th></th><th scope=col>&lt;dbl&gt;</th></tr>\n",
       "</thead>\n",
       "<tbody>\n",
       "\t<tr><th scope=row>1</th><td>10.281964</td></tr>\n",
       "\t<tr><th scope=row>2</th><td>10.788115</td></tr>\n",
       "\t<tr><th scope=row>3</th><td>10.834839</td></tr>\n",
       "\t<tr><th scope=row>4</th><td> 9.130032</td></tr>\n",
       "\t<tr><th scope=row>5</th><td>10.467756</td></tr>\n",
       "\t<tr><th scope=row>6</th><td> 9.597252</td></tr>\n",
       "</tbody>\n",
       "</table>\n"
      ],
      "text/latex": [
       "A data.frame: 6 × 1\n",
       "\\begin{tabular}{r|l}\n",
       "  & age\\\\\n",
       "  & <dbl>\\\\\n",
       "\\hline\n",
       "\t1 & 10.281964\\\\\n",
       "\t2 & 10.788115\\\\\n",
       "\t3 & 10.834839\\\\\n",
       "\t4 &  9.130032\\\\\n",
       "\t5 & 10.467756\\\\\n",
       "\t6 &  9.597252\\\\\n",
       "\\end{tabular}\n"
      ],
      "text/markdown": [
       "\n",
       "A data.frame: 6 × 1\n",
       "\n",
       "| <!--/--> | age &lt;dbl&gt; |\n",
       "|---|---|\n",
       "| 1 | 10.281964 |\n",
       "| 2 | 10.788115 |\n",
       "| 3 | 10.834839 |\n",
       "| 4 |  9.130032 |\n",
       "| 5 | 10.467756 |\n",
       "| 6 |  9.597252 |\n",
       "\n"
      ],
      "text/plain": [
       "  age      \n",
       "1 10.281964\n",
       "2 10.788115\n",
       "3 10.834839\n",
       "4  9.130032\n",
       "5 10.467756\n",
       "6  9.597252"
      ]
     },
     "metadata": {},
     "output_type": "display_data"
    }
   ],
   "source": [
    "failures <- read.csv(\"failures.csv\")\n",
    "head(failures)"
   ]
  },
  {
   "cell_type": "code",
   "execution_count": 2,
   "id": "retired-missouri",
   "metadata": {},
   "outputs": [
    {
     "data": {
      "text/html": [
       "<table>\n",
       "<caption>A data.frame: 6 × 1</caption>\n",
       "<thead>\n",
       "\t<tr><th></th><th scope=col>cost</th></tr>\n",
       "\t<tr><th></th><th scope=col>&lt;dbl&gt;</th></tr>\n",
       "</thead>\n",
       "<tbody>\n",
       "\t<tr><th scope=row>1</th><td>284.8945</td></tr>\n",
       "\t<tr><th scope=row>2</th><td>274.3347</td></tr>\n",
       "\t<tr><th scope=row>3</th><td>275.4443</td></tr>\n",
       "\t<tr><th scope=row>4</th><td>272.5122</td></tr>\n",
       "\t<tr><th scope=row>5</th><td>280.7522</td></tr>\n",
       "\t<tr><th scope=row>6</th><td>289.6177</td></tr>\n",
       "</tbody>\n",
       "</table>\n"
      ],
      "text/latex": [
       "A data.frame: 6 × 1\n",
       "\\begin{tabular}{r|l}\n",
       "  & cost\\\\\n",
       "  & <dbl>\\\\\n",
       "\\hline\n",
       "\t1 & 284.8945\\\\\n",
       "\t2 & 274.3347\\\\\n",
       "\t3 & 275.4443\\\\\n",
       "\t4 & 272.5122\\\\\n",
       "\t5 & 280.7522\\\\\n",
       "\t6 & 289.6177\\\\\n",
       "\\end{tabular}\n"
      ],
      "text/markdown": [
       "\n",
       "A data.frame: 6 × 1\n",
       "\n",
       "| <!--/--> | cost &lt;dbl&gt; |\n",
       "|---|---|\n",
       "| 1 | 284.8945 |\n",
       "| 2 | 274.3347 |\n",
       "| 3 | 275.4443 |\n",
       "| 4 | 272.5122 |\n",
       "| 5 | 280.7522 |\n",
       "| 6 | 289.6177 |\n",
       "\n"
      ],
      "text/plain": [
       "  cost    \n",
       "1 284.8945\n",
       "2 274.3347\n",
       "3 275.4443\n",
       "4 272.5122\n",
       "5 280.7522\n",
       "6 289.6177"
      ]
     },
     "metadata": {},
     "output_type": "display_data"
    }
   ],
   "source": [
    "replacement <- read.csv(\"replacement_costs.csv\")\n",
    "head(replacement)"
   ]
  },
  {
   "cell_type": "markdown",
   "id": "passing-reception",
   "metadata": {},
   "source": [
    "## Tasks\n",
    "\n",
    "### 1. Determine an appropriate distribution for time to failure\n",
    "\n",
    "The 'age' variable represents the time in years before a bulb fails (time to failure). \n",
    "\n",
    "You may assume that there is some Weibull distribution that reasonably represents the time to failure (in years). Your job is to determine the parameters (shape and scale) that produce a Weibull distribution that best fits the 'age' data. \n",
    "\n",
    "Your solution should include:\n",
    "* A histogram of the data\n",
    "* Q-Q plots demonstrating the data against your best-fitting distribution \n",
    "* Q-Q plots demonstrating the data against at least one other distribution that was close, but not as good as the one you chose"
   ]
  },
  {
   "cell_type": "code",
   "execution_count": null,
   "id": "lesbian-census",
   "metadata": {},
   "outputs": [],
   "source": [
    "#Put code for Exercise 1 in this cell. You may add additional cells if you like.\n"
   ]
  },
  {
   "cell_type": "markdown",
   "id": "missing-partition",
   "metadata": {},
   "source": [
    "#### 1a. Summarize your results\n",
    "\n",
    "Write answers in this cell.\n",
    "\n",
    "* Describe your process for selecting the _time to failure_ distribution with the 'best fit' for the data.\n",
    "* What distribution did you select as the best fit for the data? (Specify shape and scale parameters)\n"
   ]
  },
  {
   "cell_type": "markdown",
   "id": "conservative-squad",
   "metadata": {},
   "source": [
    "### 2. Determine an appropriate distribution for replacement cost\n",
    "\n",
    "The 'cost' variable represents instances of the cost to replace a bulb. Find a distribution with an appropriate **_shape_** and determine the specific distribution parameters for it.\n",
    "\n",
    "Your solution should include:\n",
    "* A histogram of the data\n",
    "* Q-Q plots demonstrating the data against your best-fitting distribution \n",
    "* Q-Q plots demonstrating the data against at least one other distribution that was close, but not as good as the one you chose"
   ]
  },
  {
   "cell_type": "code",
   "execution_count": null,
   "id": "light-patient",
   "metadata": {},
   "outputs": [],
   "source": [
    "#Put code for Exercise 2 in this cell. You may add additional cells if you like.\n",
    "\n"
   ]
  },
  {
   "cell_type": "markdown",
   "id": "consolidated-benjamin",
   "metadata": {},
   "source": [
    "#### 2a. Summarize your results\n",
    "\n",
    "Write answers in this cell.\n",
    "\n",
    "* Describe your process for selecting the _replacement cost_ distribution with the 'best fit' for the data.\n",
    "* What distribution did you select as the best fit for the data? (Specify all parameters)\n"
   ]
  },
  {
   "cell_type": "markdown",
   "id": "electric-purpose",
   "metadata": {},
   "source": [
    "###  3. Conduct a single simulation for initial 10-year period\n",
    "\n",
    "We want to simulate how many bulbs might fail within the first 10 years, and the total cost of replacing them.\n",
    "\n",
    "You should notice in your sample 'age' data that the distribution of time to failure suggests that in a 10-year period, no one bulb should need to be replaced twice (no bulb in our sample data had a life span of less than 5 years).  Therefore, we can assume that each bulb will need to be replaced **_at most_** one time.\n",
    "\n",
    "Design a simulation that uses the 'time to fail' distribution to randomly simulate the time before each of the 1900 bulbs installed will fail. Use this information to determine which bulbs will fail in less than 10 years. For each bulb that fails within the initial 10 years, use your 'cost to replace' distribution to randomly simulate the cost of replacing that bulb. _(Although it is not realistic, assume that the price of bulbs will remain stable over this 10-year period, and it will continue to follow the same distribution, regardless of when the bulb is replaced.)_\n",
    "\n",
    "Compute and display the total cost of bulb replacement for all bulbs replaced.\n",
    "\n",
    "Note that this should be a **_single_** simulation demonstrating one possible outcome for the total cost of bulb replacement.\n"
   ]
  },
  {
   "cell_type": "code",
   "execution_count": null,
   "id": "ecological-silver",
   "metadata": {},
   "outputs": [],
   "source": [
    "#Put solution to Exercise 3 in this cell. You may add additional cells if you like.\n"
   ]
  },
  {
   "cell_type": "markdown",
   "id": "mathematical-ranch",
   "metadata": {},
   "source": [
    "### 4. Repeat simulation multiple times to make predictions\n",
    "\n",
    "Use a loop to repeat the simulation 10000 times, keeping track of the total cost for each one.  \n",
    "\n",
    "#### a) Display a histogram of the total cost results for all 10000 simulations.\n",
    "#### b) Use the combined results to answer the following questions (place answers in the Markdown cell below the code)\n",
    "\n",
    "* What is the average expected total cost to replace all bulbs that fail within the initial 10-year period?\n",
    "* Give a 95% confidence interval for the expected total cost to replace all bulbs that fail during the initial 10 years?\n",
    "* What is the probability that this total cost will exceed $3500?"
   ]
  },
  {
   "cell_type": "code",
   "execution_count": null,
   "id": "resident-plymouth",
   "metadata": {},
   "outputs": [],
   "source": [
    "#Put solution to Exercise 4 in this cell. You may add additional cells if you like.\n"
   ]
  },
  {
   "cell_type": "markdown",
   "id": "activated-cable",
   "metadata": {},
   "source": [
    "#### 4b. Report Your Results\n",
    "\n",
    "Put your answers to the 3 prediction questions in this cell.\n",
    "\n",
    "* What is the average expected total cost to replace all bulbs that fail within the initial 10-year period?\n",
    "* Give a 95% confidence interval for the expected total cost to replace all bulbs that fail during the initial 10 years?\n",
    "* What is the probability that this total cost will exceed $3500?\n"
   ]
  }
 ],
 "metadata": {
  "kernelspec": {
   "display_name": "R",
   "language": "R",
   "name": "ir"
  },
  "language_info": {
   "codemirror_mode": "r",
   "file_extension": ".r",
   "mimetype": "text/x-r-source",
   "name": "R",
   "pygments_lexer": "r",
   "version": "4.0.3"
  }
 },
 "nbformat": 4,
 "nbformat_minor": 5
}
