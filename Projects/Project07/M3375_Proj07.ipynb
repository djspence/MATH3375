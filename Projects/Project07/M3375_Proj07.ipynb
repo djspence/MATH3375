{
 "cells": [
  {
   "cell_type": "markdown",
   "id": "noted-hebrew",
   "metadata": {},
   "source": [
    "### MATH 3375 Project 7 - K-Means Clustering \n",
    "\n",
    "For this project, we will use a data set with 38 features representing measures of sensors in an urban waste water treatment plant. There is no response variable. Therefore, this is an The objective is to **_classify_** the broad states of the treatment plant by _**clustering**_ similar data points together. Different clusters could then be analyzed to aid in predicting specific faults when future measures are recorded. \n",
    " \n",
    "\n",
    "Below is documentation related to the data set. \n",
    "\n",
    "    Title: Faults in a urban waste water treatment plant\n",
    "\n",
    "    Relevant Information:\n",
    "\n",
    "    This dataset comes from the daily measures of sensors in a urban waste water treatment plant. The objective is to \n",
    "    classify the operational state of the plant in order to predict faults through the state variables of the plant \n",
    "    at each of the stages of the treatment process. This domain has been stated as an ill-structured domain. \n",
    "   \n",
    "  \n",
    "    Number of instances: 527\n",
    "\n",
    "    Number of Attributes: 38\n",
    "\n",
    "    There are some missing values, all are unknown information.\n",
    "    [INSTRUCTOR NOTE: MISSING VALUES HAVE BEEN IMPUTED WITH THE MEDIAN FOR EACH FEATURE.]\n",
    "\n",
    "    Attribute Information:\n",
    "\n",
    "    All atrributes are numeric and continuous\n",
    "\n",
    "    N.  Attrib.    \n",
    "     1  Q-E        (input flow to plant)  \n",
    "     2  ZN-E       (input Zinc to plant)\n",
    "     3  PH-E       (input pH to plant) \n",
    "     4  DBO-E      (input Biological demand of oxygen to plant) \n",
    "     5  DQO-E      (input chemical demand of oxygen to plant)\n",
    "     6  SS-E       (input suspended solids to plant)  \n",
    "     7  SSV-E      (input volatile supended solids to plant)\n",
    "     8  SED-E      (input sediments to plant) \n",
    "     9  COND-E     (input conductivity to plant) \n",
    "    10  PH-P       (input pH to primary settler)\n",
    "    11  DBO-P      (input Biological demand of oxygen to primary settler)\n",
    "    12  SS-P       (input suspended solids to primary settler)\n",
    "    13  SSV-P      (input volatile supended solids to primary settler)\n",
    "    14  SED-P      (input sediments to primary settler) \n",
    "    15  COND-P     (input conductivity to primary settler)\n",
    "    16  PH-D       (input pH to secondary settler) \n",
    "    17  DBO-D      (input Biological demand of oxygen to secondary settler)\n",
    "    18  DQO-D      (input chemical demand of oxygen to secondary settler)\n",
    "    19  SS-D       (input suspended solids to secondary settler)\n",
    "    20  SSV-D      (input volatile supended solids to secondary settler)\n",
    "    21  SED-D      (input sediments to secondary settler)  \n",
    "    22  COND-D     (input conductivity to secondary settler) \n",
    "    23  PH-S       (output pH)   \n",
    "    24  DBO-S      (output Biological demand of oxygen)\n",
    "    25  DQO-S      (output chemical demand of oxygen)\n",
    "    26  SS-S       (output suspended solids)\n",
    "    27  SSV-S      (output volatile supended solids) \n",
    "    28  SED-S      (output sediments) \n",
    "    29  COND-S     (output conductivity)\n",
    "    30  RD-DBO-P   (performance input Biological demand of oxygen in primary settler)\n",
    "    31  RD-SS-P    (performance input suspended solids to primary settler)\n",
    "    32  RD-SED-P   (performance input sediments to primary settler)\n",
    "    33  RD-DBO-S   (performance input Biological demand of oxygen to secondary settler)\n",
    "    34  RD-DQO-S   (performance input chemical demand of oxygen to secondary settler)\n",
    "    35  RD-DBO-G   (global performance input Biological demand of oxygen)\n",
    "    36  RD-DQO-G   (global performance input chemical demand of oxygen)\n",
    "    37  RD-SS-G    (global performance input suspended solids) \n",
    "    38  RD-SED-G   (global performance input sediments)\n",
    "\n"
   ]
  },
  {
   "cell_type": "code",
   "execution_count": null,
   "id": "instructional-algorithm",
   "metadata": {},
   "outputs": [],
   "source": [
    "water_data <- read.csv(\"water_treatment_p7.csv\")\n",
    "head(water_data)"
   ]
  },
  {
   "cell_type": "markdown",
   "id": "passing-reception",
   "metadata": {},
   "source": [
    "## Tasks\n",
    "\n",
    "### Exploratory Data Analysis\n",
    "\n",
    "#### 1. Generate a data summary and boxplot for all features.\n",
    "\n",
    "First generate a data summary for all columns of the data set.  Then create boxplots for all 38 features. \n",
    "\n",
    "**_HINT:_** You can combined multiple boxplots by plotting multiple columns at one time.  To do this, you should plot sets of features in one plot for any set of features with **_similar ranges of data_**.\n",
    "\n",
    "Example: Your data summary should reveal that features PH_E, PH_P, PH_D, PH_S all have a similar range of values. Therefore, plotting them on the same set of axes will take less space, make them easy to read, and allow them to be compared easily. Either line of code below will accomplish this:\n",
    "\n",
    "    boxplot(water_data[,c('PH_E','PH_P','PH_D','PH_S')])  \n",
    "**OR**\n",
    "\n",
    "    boxplot(water_data[,c(3,10,16,23)])\n",
    "    "
   ]
  },
  {
   "cell_type": "code",
   "execution_count": null,
   "id": "lesbian-census",
   "metadata": {},
   "outputs": [],
   "source": [
    "#Put code for Exercise 1 in this cell. You may add additional cells if you like.\n"
   ]
  },
  {
   "cell_type": "markdown",
   "id": "marine-traffic",
   "metadata": {},
   "source": [
    "### Scale Data\n",
    "\n",
    "#### 2. Scale All Features \n",
    "\n",
    "Scale the values in every column with _**common scaling**_ so that all values range from 0 to 1. Note that you should be **_replacing_** the original values in each column with their scaled conversions. \n",
    "\n",
    "_Example:_ If an original column has values 2,5,8,12 then the scaled column should have values 0,0.3,0.6,1.  \n",
    "\n",
    "(Refer to previous course notes on _common scaling_.)"
   ]
  },
  {
   "cell_type": "code",
   "execution_count": null,
   "id": "light-patient",
   "metadata": {},
   "outputs": [],
   "source": [
    "#Put code for Exercise 2 in this cell. You may add additional cells if you like.\n",
    "\n"
   ]
  },
  {
   "cell_type": "markdown",
   "id": "electric-purpose",
   "metadata": {},
   "source": [
    "### Create K-Means Clusters\n",
    "\n",
    "#### 3. Create K-Means clusters for several values of k using all 38 features\n",
    "\n",
    "Using each value of k from 2 to 15, create a k-means cluster model.  Save the _total within sum-of-squares_ value for each value of k. Display the details of each cluster model."
   ]
  },
  {
   "cell_type": "code",
   "execution_count": null,
   "id": "ecological-silver",
   "metadata": {},
   "outputs": [],
   "source": [
    "#Put solution to Exercise 3 in this cell. You may add additional cells if you like.\n"
   ]
  },
  {
   "cell_type": "markdown",
   "id": "mathematical-ranch",
   "metadata": {},
   "source": [
    "### Select Preferred Cluster Model\n",
    "\n",
    "#### 4. Create an 'Elbow Diagram' and use it to identify the best value of k\n",
    "\n",
    "The elbow diagram is a plot with k-values on the x-axis and 'within SS' measures on the y-axis (representing total distance of points from their centroid).  Each individual point should be clearly visible on the plot, and the points should be connected by a line.  Make sure to label your plot appropriately."
   ]
  },
  {
   "cell_type": "code",
   "execution_count": null,
   "id": "resident-plymouth",
   "metadata": {},
   "outputs": [],
   "source": [
    "#Put solution to Exercise 4 in this cell. You may add additional cells if you like.\n"
   ]
  },
  {
   "cell_type": "markdown",
   "id": "activated-cable",
   "metadata": {},
   "source": [
    "#### 4a. Report Your Results\n",
    "\n",
    "Based on your plot, identify the most appropriate value to use for k.\n"
   ]
  },
  {
   "cell_type": "markdown",
   "id": "raising-empty",
   "metadata": {},
   "source": [
    "### Visualize Clusters\n",
    "\n",
    "#### 5. Create a 2D plot showing the composition of clusters.\n",
    "\n",
    "Examine your selected model (with the value of k that you identified above). Pick TWO features that appear most well distinguished between clusters (values of that feature should be as different as possible from one feature to another). \n",
    "\n",
    "Create a 2-dimensional scatterplot of all data points, using the 2 features you selected as x and y coordinates. _**Color the points based on the cluster to which they were assigned by your selected model above.**_ "
   ]
  },
  {
   "cell_type": "code",
   "execution_count": null,
   "id": "super-antibody",
   "metadata": {},
   "outputs": [],
   "source": [
    "#Put solution to Exercise 5 in this cell. You may add additional cells if you like.\n"
   ]
  },
  {
   "cell_type": "markdown",
   "id": "measured-uruguay",
   "metadata": {},
   "source": [
    "#### 5a. Report Your Results\n",
    "\n",
    "Using only the 2 predictors to represent the data points, how does the plot look? Are you able to visualize different regions for the clusters in only 2 dimensions? "
   ]
  }
 ],
 "metadata": {
  "kernelspec": {
   "display_name": "R",
   "language": "R",
   "name": "ir"
  },
  "language_info": {
   "codemirror_mode": "r",
   "file_extension": ".r",
   "mimetype": "text/x-r-source",
   "name": "R",
   "pygments_lexer": "r",
   "version": "4.0.3"
  }
 },
 "nbformat": 4,
 "nbformat_minor": 5
}
