{
 "cells": [
  {
   "cell_type": "markdown",
   "id": "noted-hebrew",
   "metadata": {},
   "source": [
    "### MATH 3375 Project 3 - Dimension Reduction\n",
    "\n",
    "For this project, we will use a data set with several attributes of white wine to predict the quality of the wine. The data set was obtained from the Machine Learning Repository at UC Irvine. \n",
    "\n",
    "Below is documentation related to the data set. (_Note that we are only using the **white** wine data for this assignment._)\n",
    "\n",
    "    1. Title: Wine Quality \n",
    "\n",
    "    2. Sources\n",
    "       Created by: Paulo Cortez (Univ. Minho), Antonio Cerdeira, Fernando Almeida, \n",
    "       Telmo Matos and Jose Reis (CVRVV) @ 2009\n",
    "   \n",
    "    3. Past Usage:\n",
    "\n",
    "    P. Cortez, A. Cerdeira, F. Almeida, T. Matos and J. Reis. \n",
    "    Modeling wine preferences by data mining from physicochemical properties.\n",
    "    In Decision Support Systems, Elsevier, 47(4):547-553. ISSN: 0167-9236.\n",
    "\n",
    "    In the above reference, two datasets were created, using red and white wine samples. \n",
    "    The inputs include objective tests (e.g. PH values) and the output is based on sensory data\n",
    "    (median of at least 3 evaluations made by wine experts). Each expert graded the wine quality \n",
    "    between 0 (very bad) and 10 (very excellent). \n",
    " \n",
    "    4. Relevant Information:\n",
    "\n",
    "    The two datasets are related to red and white variants of the Portuguese \"Vinho Verde\" wine. \n",
    "    For more details, consult: http://www.vinhoverde.pt/en/ or reference [Cortez et al., 2009]. \n",
    "    Due to privacy and logistic issues, only physicochemical (inputs) and sensory (the output)\n",
    "    variables are available (e.g. there is no data about grape types, wine brand, wine selling \n",
    "    price, etc.).\n",
    "\n",
    "    The classes are ordered and not balanced (e.g. there are munch more normal wines than \n",
    "    excellent or poor ones). Outlier detection algorithms could be used to detect the few \n",
    "    excellent or poor wines. Also, we are not sure if all input variables are relevant. \n",
    "    So it could be interesting to test feature selection methods. \n",
    "\n",
    "    5. Number of Instances: red wine - 1599; white wine - 4898. \n",
    "\n",
    "    6. Number of Attributes: 11 + output attribute\n",
    "  \n",
    "    Note: several of the attributes may be correlated, thus it makes sense to apply some \n",
    "    sort of feature selection.\n",
    "\n",
    "    7. Attribute information:\n",
    "\n",
    "    For more information, read [Cortez et al., 2009].\n",
    "\n",
    "    Input variables (based on physicochemical tests):\n",
    "        1 - fixed acidity\n",
    "        2 - volatile acidity\n",
    "        3 - citric acid\n",
    "        4 - residual sugar\n",
    "        5 - chlorides\n",
    "        6 - free sulfur dioxide\n",
    "        7 - total sulfur dioxide\n",
    "        8 - density\n",
    "        9 - pH\n",
    "        10 - sulphates\n",
    "        11 - alcohol\n",
    "    \n",
    "    Output variable (based on sensory data from wine experts): \n",
    "        12 - quality (score between 0 and 10)\n",
    "\n",
    "    8. Missing Attribute Values: None\n"
   ]
  },
  {
   "cell_type": "code",
   "execution_count": null,
   "id": "instructional-algorithm",
   "metadata": {},
   "outputs": [],
   "source": [
    "wine_data <- read.csv(\"winequality_white.csv\")\n",
    "head(wine_data)"
   ]
  },
  {
   "cell_type": "markdown",
   "id": "passing-reception",
   "metadata": {},
   "source": [
    "## Partitioning Data\n",
    "\n",
    "This step is done for you below.  Note that you should train ALL models **_using ONLY_ wine_train**.  We are saving **wine_test** to evaluate performance of the models."
   ]
  },
  {
   "cell_type": "code",
   "execution_count": null,
   "id": "light-patient",
   "metadata": {},
   "outputs": [],
   "source": [
    "set.seed(3375)\n",
    "\n",
    "train_size <- round(nrow(wine_data) * 0.7, 0)\n",
    "train_rows <- sample(1:nrow(wine_data), train_size)\n",
    "\n",
    "wine_train <- wine_data[train_rows,]\n",
    "wine_test <- wine_data[-train_rows,]\n"
   ]
  },
  {
   "cell_type": "markdown",
   "id": "recreational-bumper",
   "metadata": {},
   "source": [
    "## Tasks\n",
    "\n",
    "### Exploratory Data Analysis\n",
    "\n",
    "##### 1. Create a boxplot, histogram, and data summary for the response variable (wine quality).\n",
    "\n",
    "Use the **_original data set_** (wine_data) for this step."
   ]
  },
  {
   "cell_type": "code",
   "execution_count": null,
   "id": "elder-painting",
   "metadata": {},
   "outputs": [],
   "source": [
    "#Put solution to Exercise 1 in this cell. You may add additional cells if you like.\n"
   ]
  },
  {
   "cell_type": "markdown",
   "id": "billion-isaac",
   "metadata": {},
   "source": [
    "##### 1a. What observations do you have about the distribution of the response variable?\n",
    "\n",
    "(Write your answer in this cell.)"
   ]
  },
  {
   "cell_type": "markdown",
   "id": "proper-pointer",
   "metadata": {},
   "source": [
    "### Multicollinearity\n",
    "\n",
    "##### 2. Create a correlation matrix to show plots of the relationship between all variables in the data set.\n",
    "\n",
    "Use the **_original data set_** (wine_data) for this step."
   ]
  },
  {
   "cell_type": "code",
   "execution_count": null,
   "id": "lesbian-census",
   "metadata": {},
   "outputs": [],
   "source": [
    "#Put solution to Exercise 2 in this cell. You may add additional cells if you like.\n"
   ]
  },
  {
   "cell_type": "markdown",
   "id": "mathematical-ranch",
   "metadata": {},
   "source": [
    "##### 3. Examine Variance Inflation Factors for a Full Model\n",
    "\n",
    "* Create a model predicting quality using all other features in the data set as predictors. **Use only the training data set** (wine_train) to create this model.\n",
    "* Print a summary of your model.\n",
    "* Compute the VIF for all the predictors in the data set."
   ]
  },
  {
   "cell_type": "code",
   "execution_count": null,
   "id": "ecological-silver",
   "metadata": {},
   "outputs": [],
   "source": [
    "#Put solution to Exercise 3 in this cell. You may add additional cells if you like.\n"
   ]
  },
  {
   "cell_type": "markdown",
   "id": "streaming-chemical",
   "metadata": {},
   "source": [
    "##### 4. Based on your results in items 2 and 3, do you believe multicollinearity is an issue for this data set?\n",
    "\n",
    "Explain your reasoning clearly. Be sure to compare VIF values to an appropriate threshold. \n",
    "\n",
    "(Type your answer in this cell.)"
   ]
  },
  {
   "cell_type": "markdown",
   "id": "raising-empty",
   "metadata": {},
   "source": [
    "### Models\n",
    "\n",
    "Remember to use the **_training data_** set (wine_train) to create each of the models below."
   ]
  },
  {
   "cell_type": "markdown",
   "id": "parallel-panic",
   "metadata": {},
   "source": [
    "##### 5. Create a forward stepwise regression model.\n",
    "\n",
    "Start with a model using no predictors and allow R to show the steps taken in determining the final model.  Be sure to show a summary of the final model."
   ]
  },
  {
   "cell_type": "code",
   "execution_count": null,
   "id": "super-antibody",
   "metadata": {},
   "outputs": [],
   "source": [
    "#Put solution to Exercise 5 in this cell. You may add additional cells if you like.\n"
   ]
  },
  {
   "cell_type": "markdown",
   "id": "registered-timer",
   "metadata": {},
   "source": [
    "##### 6. Use LASSO to select a subset of the variables. \n",
    "\n",
    "* First create a LASSO model using all features as predictors\n",
    "* Show a summary of the LASSO model coefficients\n",
    "* Using only the predictors not eliminated by LASSO, create an ordinary least squares (OLS) model\n",
    "* Show the OLS model summary"
   ]
  },
  {
   "cell_type": "code",
   "execution_count": null,
   "id": "specific-convert",
   "metadata": {},
   "outputs": [],
   "source": [
    "#Put solution to Exercise 6 in this cell. You may add additional cells if you like.\n"
   ]
  },
  {
   "cell_type": "markdown",
   "id": "rising-candidate",
   "metadata": {},
   "source": [
    "##### 7. Create an Elastic Net Model\n",
    "\n",
    "* Create the Elastic Net using all features as predictors, with an alpha value of 0.5\n",
    "* Show a summary of the Elastic Net model coefficients"
   ]
  },
  {
   "cell_type": "code",
   "execution_count": null,
   "id": "corresponding-store",
   "metadata": {},
   "outputs": [],
   "source": [
    "#Put solution to Exercise 7 in this cell. You may add additional cells if you like.\n"
   ]
  },
  {
   "cell_type": "markdown",
   "id": "involved-train",
   "metadata": {},
   "source": [
    "##### 8. Compute Mean Square Error (MSE)\n",
    "\n",
    "Using the **_test data set_** (wine_test), compute the MSE for each of the 3 models (Stepwise, OLS with LASSO-selected features, and Elastic Net)."
   ]
  },
  {
   "cell_type": "code",
   "execution_count": null,
   "id": "described-memory",
   "metadata": {},
   "outputs": [],
   "source": [
    "#Put solution to Exercise 8 in this cell. You may add additional cells if you like.\n"
   ]
  },
  {
   "cell_type": "markdown",
   "id": "checked-prairie",
   "metadata": {},
   "source": [
    "##### 8a. Compare the Models\n",
    "\n",
    "Type your answers in this cell.\n",
    "\n",
    "1. Which predictors were included in each model? What was different and what was the same?\n",
    "2. Which models had the highest and lowest MSE?\n",
    "3. Which model would you choose to make predictions, and why?\n"
   ]
  }
 ],
 "metadata": {
  "kernelspec": {
   "display_name": "R",
   "language": "R",
   "name": "ir"
  },
  "language_info": {
   "codemirror_mode": "r",
   "file_extension": ".r",
   "mimetype": "text/x-r-source",
   "name": "R",
   "pygments_lexer": "r",
   "version": "4.0.3"
  }
 },
 "nbformat": 4,
 "nbformat_minor": 5
}
