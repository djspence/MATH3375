{
 "cells": [
  {
   "cell_type": "markdown",
   "id": "noted-hebrew",
   "metadata": {},
   "source": [
    "### MATH 3375 Project 5 - Classification Methods\n",
    "\n",
    "For this project, we will use a data set with fully anonymous data from credit card applications, with a binary response variable (last column) indicating if the application was positive (1) or negative (0). Positive means credit was granted to the applicant. \n",
    "\n",
    "The data set is a subset of rows and columns in the _Credit Approval_ dataset from the Machine Learning Repository at UC Irvine. Specifically, non-binary categorical features (columns) have been removed, and rows with missing data have been removed. The ten predictors include 4 binary features and 6 quantitative features. Feature names and descriptions have been masked to protect confidentiality. \n",
    "\n",
    "Below is documentation related to the data set. \n",
    "\n",
    "    Title: Credit Approval\n",
    "\n",
    "    Past Usage:\n",
    "\n",
    "    See Quinlan,\n",
    "    * \"Simplifying decision trees\", Int J Man-Machine Studies 27,\n",
    "      Dec 1987, pp. 221-234.\n",
    "    * \"C4.5: Programs for Machine Learning\", Morgan Kaufmann, Oct 1992\n",
    "  \n",
    "    Relevant Information:\n",
    "    This file concerns credit card applications.  All attribute names\n",
    "    and values have been changed to meaningless symbols to protect\n",
    "    confidentiality of the data.\n",
    "\n",
    "    Attribute Information:\n",
    "\n",
    "        A1: binary\n",
    "        A2: continuous\n",
    "        A3: continuous\n",
    "        A8: continuous\n",
    "        A9: binary\n",
    "        A10: binary\n",
    "        A11: continuous\n",
    "        A12: binary\n",
    "        A14: continuous\n",
    "        A15: continuous\n",
    "        R1:  binary (response variable - classification)\n"
   ]
  },
  {
   "cell_type": "code",
   "execution_count": null,
   "id": "instructional-algorithm",
   "metadata": {},
   "outputs": [],
   "source": [
    "credit_data <- read.delim(\"credit_app_data.txt\",header=TRUE,sep=\"\\t\")\n",
    "head(credit_data)"
   ]
  },
  {
   "cell_type": "markdown",
   "id": "passing-reception",
   "metadata": {},
   "source": [
    "## Tasks\n",
    "\n",
    "### Exploratory Data Analysis\n",
    "\n",
    "#### 1. Identify Predictors for a 2-Dimensional Model\n",
    "\n",
    "Use appropriate plots to identify TWO features in the data set that you think have the best potential as predictors in kNN and SVM models. (Note that this means your two predicting dimensions should separate the positive and negative data points effectively.\n",
    "\n",
    "    "
   ]
  },
  {
   "cell_type": "code",
   "execution_count": null,
   "id": "lesbian-census",
   "metadata": {},
   "outputs": [],
   "source": [
    "#Put code for Exercise 1 in this cell. You may add additional cells if you like.\n"
   ]
  },
  {
   "cell_type": "markdown",
   "id": "marine-traffic",
   "metadata": {},
   "source": [
    "#### 2. Visualize Data Points \n",
    "\n",
    "Using your 2 selected predictors as horizontal and vertical dimensions, plot your data points, identifying the response variable (R1) with _**color-coding and/or different markers**_. Include a legend on the plot that identifies which points represent 'Credit Granted' (positive) and 'Credit Not Granted' (negative)."
   ]
  },
  {
   "cell_type": "code",
   "execution_count": null,
   "id": "light-patient",
   "metadata": {},
   "outputs": [],
   "source": [
    "#Put code for Exercise 2 in this cell. You may add additional cells if you like.\n",
    "\n"
   ]
  },
  {
   "cell_type": "markdown",
   "id": "electric-purpose",
   "metadata": {},
   "source": [
    "### Partitioning Data\n",
    "\n",
    "#### 3. Partition the data set into training and test sets.\n",
    "\n",
    "Partition the data set into a training set (80% of the data) and a test set (20% of the data).  Note that you should train your model(s) _**using ONLY the training data**.  We are saving the test data set to evaluate performance of the models._"
   ]
  },
  {
   "cell_type": "code",
   "execution_count": null,
   "id": "ecological-silver",
   "metadata": {},
   "outputs": [],
   "source": [
    "#Put solution to Exercise 3 in this cell. You may add additional cells if you like.\n"
   ]
  },
  {
   "cell_type": "markdown",
   "id": "mathematical-ranch",
   "metadata": {},
   "source": [
    "### Create 2-Dimensional Models\n",
    "\n",
    "#### 4. Create k-Nearest Neighbors (kNN) Classifiers \n",
    "\n",
    "Using ONLY the 2 predictors that you selected in Task 1, create k-Nearest Neighbors models (from training set only) with at LEAST three different values of k. Use each model to predict the response variable for the data in the test set.  Use appropriate metrics (e.g., accuracy, sensitivity, specificity, confusion matrix, ROC curve with AUC) to decide which value of k has the best performance."
   ]
  },
  {
   "cell_type": "code",
   "execution_count": null,
   "id": "resident-plymouth",
   "metadata": {},
   "outputs": [],
   "source": [
    "#Put solution to Exercise 4 in this cell. You may add additional cells if you like.\n"
   ]
  },
  {
   "cell_type": "markdown",
   "id": "activated-cable",
   "metadata": {},
   "source": [
    "#### 4a. Report Your Results\n",
    "\n",
    "Report the metrics you used to compare your models (give the name AND value of the metric for each model). Identify which value of k gave the best predictions for this data set.\n"
   ]
  },
  {
   "cell_type": "markdown",
   "id": "raising-empty",
   "metadata": {},
   "source": [
    "#### 5. Create Support Vector Machine (SVM) Classifiers\n",
    "\n",
    "Again, using only the same 2 predictors as above, create 2 SVM classifiers: One should use a linear kernel and the other should use a radial kernel. Show a plot of the decision boundary for each model.  Again, use each model to predict the response variable for the test data set, and use appropriate metrics to compare the two models."
   ]
  },
  {
   "cell_type": "code",
   "execution_count": null,
   "id": "super-antibody",
   "metadata": {},
   "outputs": [],
   "source": [
    "#Put solution to Exercise 5 in this cell. You may add additional cells if you like.\n"
   ]
  },
  {
   "cell_type": "markdown",
   "id": "measured-uruguay",
   "metadata": {},
   "source": [
    "#### 5a. Report Your Results\n",
    "\n",
    "Report the metrics you used to compare the models. Identify which kernel gave the best predictions."
   ]
  },
  {
   "cell_type": "markdown",
   "id": "registered-timer",
   "metadata": {},
   "source": [
    "### Create Higher Dimension Models\n",
    "\n",
    "#### 6. Create a kNN Classifier \n",
    "\n",
    "Repeat Task 4 using ALL available features in the data set as predictors.\n"
   ]
  },
  {
   "cell_type": "code",
   "execution_count": null,
   "id": "specific-convert",
   "metadata": {},
   "outputs": [],
   "source": [
    "#Put solution to Exercise 6 in this cell. You may add additional cells if you like.\n"
   ]
  },
  {
   "cell_type": "markdown",
   "id": "attended-record",
   "metadata": {},
   "source": [
    "#### 6a. Report Your Results\n"
   ]
  },
  {
   "cell_type": "markdown",
   "id": "rising-candidate",
   "metadata": {},
   "source": [
    "#### 7. Create an SVM Classifier\n",
    "\n",
    "Repeat Task 5 using ALL available features in the data set as predictors.\n"
   ]
  },
  {
   "cell_type": "code",
   "execution_count": null,
   "id": "corresponding-store",
   "metadata": {},
   "outputs": [],
   "source": [
    "#Put solution to Exercise 7 in this cell. You may add additional cells if you like.\n"
   ]
  },
  {
   "cell_type": "markdown",
   "id": "treated-adams",
   "metadata": {},
   "source": [
    "#### 7a. Report Your Results\n"
   ]
  },
  {
   "cell_type": "markdown",
   "id": "involved-train",
   "metadata": {},
   "source": [
    "##### 8. Create a Decision Tree\n",
    "\n",
    "Using all available features in the data set as predictors, create at least one decision tree. (You may also do more than one tree with different pruning or complexity parameters, but this is not required.) Show a plot of the tree(s) you create. Use the tree(s) to generate predictions for the test data set, and use appropriate metrics to measure how well the tree(s) predict the response variable."
   ]
  },
  {
   "cell_type": "code",
   "execution_count": null,
   "id": "described-memory",
   "metadata": {},
   "outputs": [],
   "source": [
    "#Put solution to Exercise 8 in this cell. You may add additional cells if you like.\n"
   ]
  },
  {
   "cell_type": "markdown",
   "id": "checked-prairie",
   "metadata": {},
   "source": [
    "#### 8a. Compare Your 'Best' Models\n",
    "\n",
    "Use metrics to compare your BEST model from each of the above classifier tasks (4, 5, 6, 7, and 8). Of these 5 models, which one has the best performance? You may use metrics you already computed above, or you may compute additional metrics below.\n",
    "\n",
    "Identify your choice for best model; also explain on which metric your decision is based, and why you chose that metric.\n",
    "\n"
   ]
  },
  {
   "cell_type": "markdown",
   "id": "engaging-damages",
   "metadata": {},
   "source": [
    "### BONUS TASK\n",
    "\n",
    "This task is not required, but it is worth bonus points. \n",
    "\n",
    "Create a logistic regression model using any set of predictors you choose. Determine the threshold that gives you the best classification predictions. Compare this model to the others you discussed in Task 8 above, using the same metrics for comparison. \n",
    "\n",
    "How does the logistic regression model perform relative to the others?"
   ]
  },
  {
   "cell_type": "code",
   "execution_count": null,
   "id": "hungry-douglas",
   "metadata": {},
   "outputs": [],
   "source": [
    "#Put solution to Bonus Task in this cell (NOT REQUIRED)\n"
   ]
  }
 ],
 "metadata": {
  "kernelspec": {
   "display_name": "R",
   "language": "R",
   "name": "ir"
  },
  "language_info": {
   "codemirror_mode": "r",
   "file_extension": ".r",
   "mimetype": "text/x-r-source",
   "name": "R",
   "pygments_lexer": "r",
   "version": "4.0.3"
  }
 },
 "nbformat": 4,
 "nbformat_minor": 5
}
