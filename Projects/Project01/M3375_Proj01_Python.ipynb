{
 "cells": [
  {
   "cell_type": "markdown",
   "id": "lonely-balloon",
   "metadata": {},
   "source": [
    "### MATH 3375 Project 1 - Exploratory Data Analysis (Python Version)\n",
    "\n",
    "Below we load a data set of cars with several features. "
   ]
  },
  {
   "cell_type": "code",
   "execution_count": null,
   "id": "generic-oregon",
   "metadata": {},
   "outputs": [],
   "source": [
    "import pandas as pd\n",
    "import numpy as np"
   ]
  },
  {
   "cell_type": "code",
   "execution_count": null,
   "id": "thrown-bolivia",
   "metadata": {},
   "outputs": [],
   "source": [
    "car_data = pd.read_csv(\"cars2004.csv\")\n",
    "car_data"
   ]
  },
  {
   "cell_type": "markdown",
   "id": "finished-brass",
   "metadata": {},
   "source": [
    "#### Categorical or Quantitative?  (Missing Data)\n",
    "\n",
    "Examine each variable (column) above and see if you notice any issues in the data. \n",
    "\n",
    "Because some values are missing in the last 2 columns, these columns are stored as text instead of as numeric values.  The code below re-formats these columns as integers.  Missing values become None, a Python way to indicate no value is present."
   ]
  },
  {
   "cell_type": "code",
   "execution_count": null,
   "id": "sudden-county",
   "metadata": {},
   "outputs": [],
   "source": [
    "symbol = (car_data[\"Length\"][406])\n",
    "car_data[\"Length\"] = [None if x==symbol else int(x) for x in car_data[\"Length\"]]\n",
    "\n",
    "symbol = (car_data[\"Width\"][406])\n",
    "car_data[\"Width\"] = [None if x==symbol else int(x) for x in car_data[\"Width\"]]"
   ]
  },
  {
   "cell_type": "code",
   "execution_count": null,
   "id": "familiar-therapist",
   "metadata": {},
   "outputs": [],
   "source": [
    "car_data"
   ]
  },
  {
   "cell_type": "markdown",
   "id": "illegal-encounter",
   "metadata": {},
   "source": [
    "### Tasks\n",
    "\n",
    "##### 1. For every column EXCEPT the first, generate a data summary.\n",
    "\n",
    "This should include the \"5-number summary\" as well as the mean and standard deviation for each quantitative variable. For categorical variable, it should include counts of each category."
   ]
  },
  {
   "cell_type": "code",
   "execution_count": null,
   "id": "completed-offset",
   "metadata": {},
   "outputs": [],
   "source": [
    "#Put solution to Exercise 1 in this cell. You may add additional cells if you like.\n"
   ]
  },
  {
   "cell_type": "markdown",
   "id": "antique-jewelry",
   "metadata": {},
   "source": [
    "##### 2. For EACH quantitative variable, create the following boxplots: \n",
    "\n",
    "* One boxplot showing the value for all data points \n",
    "* One boxplot showing the value **BY** vehicle body type (the Body feature)\n",
    "* One boxplot showing the value **BY** wheel drive type (WheelDrive feature)\n",
    "\n"
   ]
  },
  {
   "cell_type": "code",
   "execution_count": null,
   "id": "illegal-light",
   "metadata": {},
   "outputs": [],
   "source": [
    "#Put solution to Exercise 2 in this cell. You may add additional cells if you like.\n"
   ]
  },
  {
   "cell_type": "markdown",
   "id": "arbitrary-brighton",
   "metadata": {},
   "source": [
    "##### 2a. Answer the following questions based on your boxplots.\n",
    "\n",
    "Put your answers in this cell. (Double-click the cell to edit.)\n",
    "\n",
    "1. Do any variables appear to have outliers? Which ones? High or low?\n",
    "2. Do any variables have outliers when grouped? If so, which variables and in which group(s)? High or low?"
   ]
  },
  {
   "cell_type": "markdown",
   "id": "naughty-relative",
   "metadata": {},
   "source": [
    "##### 3. Create histograms of MSRP, horsepower (HP), and weight."
   ]
  },
  {
   "cell_type": "code",
   "execution_count": null,
   "id": "domestic-jewel",
   "metadata": {},
   "outputs": [],
   "source": [
    "#Put solution to Exercise 3 in this cell. You may add additional cells if you like.\n"
   ]
  },
  {
   "cell_type": "markdown",
   "id": "dress-starter",
   "metadata": {},
   "source": [
    "##### 4. Use scatter plots to explore the relationship between MSRP and the other quantitative variables.  \n",
    "\n",
    "Let MSRP be the **RESPONSE** variable in each plot. (Response variable goes on the y-axis or vertical axis.)"
   ]
  },
  {
   "cell_type": "code",
   "execution_count": null,
   "id": "sophisticated-spending",
   "metadata": {},
   "outputs": [],
   "source": [
    "#Put solution to Exercise 4 in this cell. You may add additional cells if you like.\n"
   ]
  },
  {
   "cell_type": "markdown",
   "id": "forward-solomon",
   "metadata": {},
   "source": [
    "##### 5. Select at least 3 of the scatter plots from exercise 4 and create them again, color-coding the points by vehicle body type."
   ]
  },
  {
   "cell_type": "code",
   "execution_count": null,
   "id": "present-lawsuit",
   "metadata": {},
   "outputs": [],
   "source": [
    "#Put solution to Exercise 5 in this cell. You may add additional cells if you like.\n"
   ]
  },
  {
   "cell_type": "markdown",
   "id": "choice-feelings",
   "metadata": {},
   "source": [
    "##### 6. Based on ALL of your plots, select TWO variables that you believe have the potential to be strong predictors of MSRP.\n",
    "\n",
    "Type your answer below (in this cell) with a brief justification. (Remember: Double-click cell to edit.)"
   ]
  },
  {
   "cell_type": "markdown",
   "id": "educational-water",
   "metadata": {},
   "source": [
    "##### 7. Repeat exercises #4-5, using Highway MPG as the response variable instead of MSRP."
   ]
  },
  {
   "cell_type": "code",
   "execution_count": null,
   "id": "willing-health",
   "metadata": {},
   "outputs": [],
   "source": [
    "#Put solution to Exercise 7 in this cell. You may add additional cells if you like.\n"
   ]
  },
  {
   "cell_type": "markdown",
   "id": "floppy-liberia",
   "metadata": {},
   "source": [
    "##### 8. Based on ALL of your plots, select TWO variables that you believe have the potential to be strong predictors of Highway MPG.\n",
    "\n",
    "Type your answer below (in this cell) with a brief justification. (Remember: Double-click cell to edit.)"
   ]
  }
 ],
 "metadata": {
  "kernelspec": {
   "display_name": "Python 3",
   "language": "python",
   "name": "python3"
  },
  "language_info": {
   "codemirror_mode": {
    "name": "ipython",
    "version": 3
   },
   "file_extension": ".py",
   "mimetype": "text/x-python",
   "name": "python",
   "nbconvert_exporter": "python",
   "pygments_lexer": "ipython3",
   "version": "3.8.6"
  }
 },
 "nbformat": 4,
 "nbformat_minor": 5
}
