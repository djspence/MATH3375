{
 "cells": [
  {
   "cell_type": "markdown",
   "id": "noted-hebrew",
   "metadata": {},
   "source": [
    "### MATH 3375 Project 1 - Exploratory Data Analysis\n",
    "\n",
    "Below we load a data set of cars with several features. "
   ]
  },
  {
   "cell_type": "code",
   "execution_count": null,
   "id": "instructional-algorithm",
   "metadata": {},
   "outputs": [],
   "source": [
    "car_data <- read.csv(\"cars2004.csv\", stringsAsFactors=TRUE)\n",
    "head(car_data)"
   ]
  },
  {
   "cell_type": "markdown",
   "id": "simplified-geology",
   "metadata": {},
   "source": [
    "#### Categorical or Quantitative?\n",
    "\n",
    "Examine each variable (column) above and see if you agree with how R has interpreted the data type. Notice some columns that appear to be numeric are shown as factors.  Here are some ways to investigate further."
   ]
  },
  {
   "cell_type": "code",
   "execution_count": null,
   "id": "analyzed-daniel",
   "metadata": {},
   "outputs": [],
   "source": [
    "summary(car_data$Width)"
   ]
  },
  {
   "cell_type": "code",
   "execution_count": null,
   "id": "egyptian-gates",
   "metadata": {},
   "outputs": [],
   "source": [
    "tail(car_data)"
   ]
  },
  {
   "cell_type": "markdown",
   "id": "bibliographic-tours",
   "metadata": {},
   "source": [
    "#### Missing Data\n",
    "\n",
    "Because some values are missing in the last 2 columns and represented as text, they were interpreted as factors.  The code below re-formats these to integers.  A warning is issued because those that are missing are now represented as NA, which means **Not Available**."
   ]
  },
  {
   "cell_type": "code",
   "execution_count": null,
   "id": "formed-brown",
   "metadata": {},
   "outputs": [],
   "source": [
    "car_data$Length = as.integer(as.character(car_data$Length))\n",
    "car_data$Width = as.integer(as.character(car_data$Width))"
   ]
  },
  {
   "cell_type": "code",
   "execution_count": null,
   "id": "nasty-advocacy",
   "metadata": {},
   "outputs": [],
   "source": [
    "tail(car_data)"
   ]
  },
  {
   "cell_type": "markdown",
   "id": "recreational-bumper",
   "metadata": {},
   "source": [
    "### Tasks\n",
    "\n",
    "##### 1. For every column EXCEPT the first, generate a data summary.\n"
   ]
  },
  {
   "cell_type": "code",
   "execution_count": null,
   "id": "elder-painting",
   "metadata": {},
   "outputs": [],
   "source": [
    "#Put solution to Exercise 1 in this cell. You may add additional cells if you like.\n"
   ]
  },
  {
   "cell_type": "markdown",
   "id": "imperial-constitutional",
   "metadata": {},
   "source": [
    "##### 2. For EACH quantitative variable, create the following boxplots: \n",
    "\n",
    "* One boxplot showing the value for all data points \n",
    "* One boxplot showing the value **BY** vehicle body type (the Body feature)\n",
    "* One boxplot showing the value **BY** wheel drive type (WheelDrive feature)"
   ]
  },
  {
   "cell_type": "code",
   "execution_count": null,
   "id": "lesbian-census",
   "metadata": {},
   "outputs": [],
   "source": [
    "#Put solution to Exercise 2 in this cell. You may add additional cells if you like.\n"
   ]
  },
  {
   "cell_type": "markdown",
   "id": "incoming-vertical",
   "metadata": {},
   "source": [
    "##### 2a. Answer the following questions based on your boxplots.\n",
    "\n",
    "Put your answers in this cell. (Double-click the cell to edit.)\n",
    "\n",
    "1. Do any variables appear to have outliers? Which ones? High or low?\n",
    "2. Do any variables have outliers when grouped? If so, which variables and in which group(s)? High or low?"
   ]
  },
  {
   "cell_type": "markdown",
   "id": "parallel-panic",
   "metadata": {},
   "source": [
    "##### 3. Create histograms of MSRP, horsepower (HP), and weight."
   ]
  },
  {
   "cell_type": "code",
   "execution_count": null,
   "id": "ecological-silver",
   "metadata": {},
   "outputs": [],
   "source": [
    "#Put solution to Exercise 3 in this cell. You may add additional cells if you like.\n"
   ]
  },
  {
   "cell_type": "markdown",
   "id": "registered-timer",
   "metadata": {},
   "source": [
    "##### 4. Use scatter plots to explore the relationship between MSRP and the other quantitative variables.  \n",
    "\n",
    "Let MSRP be the **RESPONSE** variable in each plot. (Response variable goes on the y-axis or vertical axis.)"
   ]
  },
  {
   "cell_type": "code",
   "execution_count": null,
   "id": "specific-convert",
   "metadata": {},
   "outputs": [],
   "source": [
    "#Put solution to Exercise 4 in this cell. You may add additional cells if you like.\n"
   ]
  },
  {
   "cell_type": "markdown",
   "id": "innocent-muslim",
   "metadata": {},
   "source": [
    "##### 5. Select at least 3 of the scatter plots from exercise 4 and create them again, color-coding the points by vehicle body type."
   ]
  },
  {
   "cell_type": "code",
   "execution_count": null,
   "id": "adopted-genesis",
   "metadata": {},
   "outputs": [],
   "source": [
    "#Put solution to Exercise 5 in this cell. You may add additional cells if you like.\n"
   ]
  },
  {
   "cell_type": "markdown",
   "id": "rising-candidate",
   "metadata": {},
   "source": [
    "##### 6. Based on ALL of your plots, select TWO variables that you believe have the potential to be strong predictors of MSRP.\n",
    "\n",
    "Type your answer below (in this cell) with a brief justification. (Remember: Double-click cell to edit.)"
   ]
  },
  {
   "cell_type": "markdown",
   "id": "involved-train",
   "metadata": {},
   "source": [
    "##### 7. Repeat exercises #4-5, using Highway MPG as the response variable instead of MSRP.\n"
   ]
  },
  {
   "cell_type": "code",
   "execution_count": null,
   "id": "described-memory",
   "metadata": {},
   "outputs": [],
   "source": [
    "#Put solution to Exercise 7 in this cell. You may add additional cells if you like.\n"
   ]
  },
  {
   "cell_type": "markdown",
   "id": "resident-alignment",
   "metadata": {},
   "source": [
    "##### 8. Based on ALL of your plots, select TWO variables that you believe have the potential to be strong predictors of Highway MPG.\n",
    "\n",
    "Type your answer below (in this cell) with a brief justification. (Remember: Double-click cell to edit.)"
   ]
  }
 ],
 "metadata": {
  "kernelspec": {
   "display_name": "R",
   "language": "R",
   "name": "ir"
  },
  "language_info": {
   "codemirror_mode": "r",
   "file_extension": ".r",
   "mimetype": "text/x-r-source",
   "name": "R",
   "pygments_lexer": "r",
   "version": "4.0.3"
  }
 },
 "nbformat": 4,
 "nbformat_minor": 5
}
