{
 "cells": [
  {
   "cell_type": "markdown",
   "id": "noted-hebrew",
   "metadata": {},
   "source": [
    "### MATH 3375 Project 2 - Linear Regression Models\n",
    "\n",
    "We will again look at the 2004 cars data set and build models to predict the retail price of the car. "
   ]
  },
  {
   "cell_type": "code",
   "execution_count": null,
   "id": "instructional-algorithm",
   "metadata": {},
   "outputs": [],
   "source": [
    "car_data <- read.csv(\"cars2004.csv\", stringsAsFactors=TRUE)\n",
    "head(car_data)"
   ]
  },
  {
   "cell_type": "markdown",
   "id": "bibliographic-tours",
   "metadata": {},
   "source": [
    "#### Missing Data\n",
    "\n",
    "Recall that the code below re-formats the last 2 columns to integers.  A warning is issued because those that are missing are now represented as NA, which means **Not Available**."
   ]
  },
  {
   "cell_type": "code",
   "execution_count": null,
   "id": "formed-brown",
   "metadata": {},
   "outputs": [],
   "source": [
    "car_data$Length = as.integer(as.character(car_data$Length))\n",
    "car_data$Width = as.integer(as.character(car_data$Width))"
   ]
  },
  {
   "cell_type": "code",
   "execution_count": null,
   "id": "nasty-advocacy",
   "metadata": {},
   "outputs": [],
   "source": [
    "tail(car_data)"
   ]
  },
  {
   "cell_type": "markdown",
   "id": "recreational-bumper",
   "metadata": {},
   "source": [
    "### Tasks\n",
    "\n",
    "##### 1. Create a correlation matrix to show the relationship between all QUANTITATIVE variables.\n"
   ]
  },
  {
   "cell_type": "code",
   "execution_count": null,
   "id": "elder-painting",
   "metadata": {},
   "outputs": [],
   "source": [
    "#Put solution to Exercise 1 in this cell. You may add additional cells if you like.\n"
   ]
  },
  {
   "cell_type": "markdown",
   "id": "imperial-constitutional",
   "metadata": {},
   "source": [
    "##### 2. Based on the plots in your matrix above, select TWO quantitative features and create the following for EACH feature: \n",
    "\n",
    "* A simple linear regression model predicting retail price (MSRP) with the selected feature as the predictor. Show a model summary.\n",
    "* A scatter plot with the feature as the independent variable, price as the dependent variable, **and the regression line** from your model.\n"
   ]
  },
  {
   "cell_type": "code",
   "execution_count": null,
   "id": "lesbian-census",
   "metadata": {},
   "outputs": [],
   "source": [
    "#Put solution to Exercise 2 in this cell. You may add additional cells if you like.\n"
   ]
  },
  {
   "cell_type": "markdown",
   "id": "incoming-vertical",
   "metadata": {},
   "source": [
    "##### 2a. Answer the following questions based on your boxplots.\n",
    "\n",
    "Put your answers in this cell. (Double-click the cell to edit.)\n",
    "\n",
    "1. Were either of the quantitative features you selected significant predictors of price? Which one(s)?\n",
    "2. If you found significant predictors, at what **_significance level_** were they found to be significant?\n",
    "3. What proportion of variability in price was accounted for by **_each_** of your models?"
   ]
  },
  {
   "cell_type": "markdown",
   "id": "mathematical-ranch",
   "metadata": {},
   "source": [
    "##### 3. Create the following plots and models\n",
    "\n",
    "* A scatter plot with City.MPG as the predictor and MSRP as the response variable.\n",
    "* A scatter plot with a log transformation, so that City.MPG is the predictor, and log(MSRP) is the response variable.\n",
    "* A simple regression model with City.MPG as predictor and MSRP as the response. (Show model summary.)\n",
    "* A simple regression model with City.MPG as predictor and the log transformed MSRP as the response. (Show model summary.)\n",
    "* For EACH regression model, show the scatter plot again, with the regression line from the model you created."
   ]
  },
  {
   "cell_type": "code",
   "execution_count": null,
   "id": "ecological-silver",
   "metadata": {},
   "outputs": [],
   "source": [
    "#Put solution to Exercise 3 in this cell. You may add additional cells if you like.\n"
   ]
  },
  {
   "cell_type": "markdown",
   "id": "streaming-chemical",
   "metadata": {},
   "source": [
    "##### 3a. Compare the fit of the two models. \n",
    "\n",
    "Refer to both the plots and the model summary in your answer.\n",
    "(Type your answer in this cell.)"
   ]
  },
  {
   "cell_type": "markdown",
   "id": "parallel-panic",
   "metadata": {},
   "source": [
    "##### 4. Create the following boxplots.\n",
    "\n",
    "* MSRP by body type\n",
    "* MSRP by wheel drive type"
   ]
  },
  {
   "cell_type": "code",
   "execution_count": null,
   "id": "super-antibody",
   "metadata": {},
   "outputs": [],
   "source": [
    "#Put solution to Exercise 4 in this cell. You may add additional cells if you like.\n"
   ]
  },
  {
   "cell_type": "markdown",
   "id": "registered-timer",
   "metadata": {},
   "source": [
    "##### 5. Based on your boxplots, select one categorical feature and do the following:\n",
    "\n",
    "* Create a linear model predicting retail price with your categorical feature as the only predictor.  \n",
    "* Display the model summary."
   ]
  },
  {
   "cell_type": "code",
   "execution_count": null,
   "id": "specific-convert",
   "metadata": {},
   "outputs": [],
   "source": [
    "#Put solution to Exercise 5 in this cell. You may add additional cells if you like.\n"
   ]
  },
  {
   "cell_type": "markdown",
   "id": "encouraging-springfield",
   "metadata": {},
   "source": [
    "#### 5a. Interpret the model summary.\n",
    "\n",
    "Type your answers in this cell.\n",
    "1. What do the coefficients mean?\n",
    "2. Which coefficients are significant, and at what level?\n",
    "3. What is the predicted MSRP for each different possible value of the categorical predictor?"
   ]
  },
  {
   "cell_type": "markdown",
   "id": "innocent-muslim",
   "metadata": {},
   "source": [
    "##### 6. Use your findings up to this point to create a multiple regression model with the following characteristics.\n",
    "\n",
    "* Use at least 2 quantitative predictors, but do NOT use **invoice** as a predictor.\n",
    "* Use one categorical predictor.\n",
    "\n",
    "Remember to show the model summary."
   ]
  },
  {
   "cell_type": "code",
   "execution_count": null,
   "id": "adopted-genesis",
   "metadata": {},
   "outputs": [],
   "source": [
    "#Put solution to Exercise 6 in this cell. You may add additional cells if you like.\n"
   ]
  },
  {
   "cell_type": "markdown",
   "id": "vulnerable-costa",
   "metadata": {},
   "source": [
    "##### 6a. Interpret the model summary.\n",
    "\n",
    "Type your answers in this cell.\n",
    "1. What do the coefficients mean?\n",
    "2. Which coefficients are significant, and at what level?\n",
    "3. Give a prediction example with the model, using a vehicle with characteristics of your choice.\n",
    "4. What proportion of the variability in MSRP is accounted for by this model?"
   ]
  },
  {
   "cell_type": "markdown",
   "id": "rising-candidate",
   "metadata": {},
   "source": [
    "##### 7. Create the four standard diagnostic plots for the model you created in Exercise 6.\n",
    "\n"
   ]
  },
  {
   "cell_type": "code",
   "execution_count": null,
   "id": "corresponding-store",
   "metadata": {},
   "outputs": [],
   "source": [
    "#Put solution to Exercise 7 in this cell. You may add additional cells if you like.\n"
   ]
  },
  {
   "cell_type": "markdown",
   "id": "vital-bundle",
   "metadata": {},
   "source": [
    "##### 7a. Interpret your plots.\n",
    "\n",
    "Identify any concerns.  Do you believe the model meets the necessary conditions for a robust linear model?\n",
    "\n",
    "(Type your answer in this cell.)"
   ]
  },
  {
   "cell_type": "markdown",
   "id": "involved-train",
   "metadata": {},
   "source": [
    "##### 8. Add an interaction term to the model you created in Exercise 6.\n",
    "\n",
    "Show the model summary."
   ]
  },
  {
   "cell_type": "code",
   "execution_count": null,
   "id": "described-memory",
   "metadata": {},
   "outputs": [],
   "source": [
    "#Put solution to Exercise 8 in this cell. You may add additional cells if you like.\n"
   ]
  },
  {
   "cell_type": "markdown",
   "id": "checked-prairie",
   "metadata": {},
   "source": [
    "##### 8a. Interpret your model.\n",
    "\n",
    "Type your answers in this cell.\n",
    "\n",
    "1. Is there a significant interaction?\n",
    "2. Which coefficients are significant, and at what level?\n",
    "3. Give a prediction example with the model, using a vehicle with characteristics of your choice.\n",
    "4. What proportion of the variability in MSRP is accounted for by this model?"
   ]
  }
 ],
 "metadata": {
  "kernelspec": {
   "display_name": "R",
   "language": "R",
   "name": "ir"
  },
  "language_info": {
   "codemirror_mode": "r",
   "file_extension": ".r",
   "mimetype": "text/x-r-source",
   "name": "R",
   "pygments_lexer": "r",
   "version": "4.0.3"
  }
 },
 "nbformat": 4,
 "nbformat_minor": 5
}
