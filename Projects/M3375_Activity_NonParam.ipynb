{
 "cells": [
  {
   "cell_type": "markdown",
   "id": "noted-hebrew",
   "metadata": {},
   "source": [
    "## MATH 3375 Learning Activity: Non-Parametric Models\n",
    "\n",
    "Use the appropriate non-parametric procedure to statistically test each scenario below. **Use the learning activity quiz to submit answers to questions about your results.**\n",
    "\n",
    "\n",
    "### 1. Plant Growth\n",
    "\n",
    "An experiment compared the dried weight of plants under two different treatment conditions, as well as under a 'control' condition.  The cells below show the file format and a plot of the weight under all 3 conditions. "
   ]
  },
  {
   "cell_type": "code",
   "execution_count": null,
   "id": "instructional-algorithm",
   "metadata": {},
   "outputs": [],
   "source": [
    "head(PlantGrowth)"
   ]
  },
  {
   "cell_type": "code",
   "execution_count": null,
   "id": "dense-macedonia",
   "metadata": {},
   "outputs": [],
   "source": [
    "boxplot(weight~group,data=PlantGrowth)"
   ]
  },
  {
   "cell_type": "markdown",
   "id": "competent-notice",
   "metadata": {},
   "source": [
    "#### Task\n",
    "\n",
    "In the code cell below, a vector of weights is created for each of the three groups. Conduct three tests to determine:\n",
    "* Does the weight of plants under treatment 1 differ significantly from those in the control condition?\n",
    "* Does the weight of plants under treatment 2 differ significantly from those in the control condition?\n",
    "* Does the weight of plants under treatment 1 differ significantly from those under treatment 2?\n",
    "\n",
    "_Note that you should use the same **type** of test for all 3 questions._"
   ]
  },
  {
   "cell_type": "code",
   "execution_count": null,
   "id": "noble-chemistry",
   "metadata": {},
   "outputs": [],
   "source": [
    "ctrl <- PlantGrowth$weight[PlantGrowth$group==\"ctrl\"]\n",
    "trt1 <- PlantGrowth$weight[PlantGrowth$group==\"trt1\"]\n",
    "trt2 <- PlantGrowth$weight[PlantGrowth$group==\"trt2\"]\n",
    "\n",
    "# Add your code here to conduct the three tests as described."
   ]
  },
  {
   "cell_type": "markdown",
   "id": "settled-preview",
   "metadata": {},
   "source": [
    "### Insect Spray Effectiveness\n",
    "\n",
    "Agricultural researchers tested several different insect sprays on soil. In each region, each treatment was applied to one cubic unit of soil in the region.  After a designated period of time, the number of insects still living in the soil was recorded (i.e., lower numbers indicate the spray was more effective). The results for two of the treatments (C and E) are summarized in the output of the code cell below."
   ]
  },
  {
   "cell_type": "code",
   "execution_count": null,
   "id": "promising-vietnam",
   "metadata": {},
   "outputs": [],
   "source": [
    "SprayResultC <- InsectSprays[InsectSprays$spray==\"C\",]\n",
    "SprayResultE <- InsectSprays[InsectSprays$spray==\"E\",]\n",
    "\n",
    "SpraySummary <- data.frame(Region=c(1:12),TreatmentC=SprayResultC$count,TreatmentE=SprayResultE$count)\n",
    "\n",
    "SpraySummary\n"
   ]
  },
  {
   "cell_type": "markdown",
   "id": "passing-reception",
   "metadata": {},
   "source": [
    "#### Task A\n",
    "\n",
    "Use the appropriate non-parametric test to determine if one treatment produces significantly fewer insects than the other."
   ]
  },
  {
   "cell_type": "code",
   "execution_count": null,
   "id": "lesbian-census",
   "metadata": {},
   "outputs": [],
   "source": [
    "#Code for insect spray Task A\n",
    "\n",
    "\n"
   ]
  },
  {
   "cell_type": "markdown",
   "id": "marine-traffic",
   "metadata": {},
   "source": [
    "#### Task B\n",
    "\n",
    "In the same experiment, a spray was considered 'fully effective' if fewer than 3 insects remain living in the soil after treatment. The code below introduces columns that designate whether each treatment met the criteria for 'fully effective', where 1 indicates effective and 0 indicates NOT effective. \n",
    "\n",
    "Based on these classifications, run the appropriate non-parametric test to see if there is evidence that one treatment is more fully effective than the other."
   ]
  },
  {
   "cell_type": "code",
   "execution_count": null,
   "id": "clear-monitor",
   "metadata": {},
   "outputs": [],
   "source": [
    "SpraySummary$SuccessC <- as.integer(SpraySummary$TreatmentC <= 2)\n",
    "SpraySummary$SuccessE <- as.integer(SpraySummary$TreatmentE <= 2)\n",
    "\n",
    "SpraySummary"
   ]
  },
  {
   "cell_type": "code",
   "execution_count": null,
   "id": "light-patient",
   "metadata": {},
   "outputs": [],
   "source": [
    "#Code for insect spray Task B\n"
   ]
  }
 ],
 "metadata": {
  "kernelspec": {
   "display_name": "R",
   "language": "R",
   "name": "ir"
  },
  "language_info": {
   "codemirror_mode": "r",
   "file_extension": ".r",
   "mimetype": "text/x-r-source",
   "name": "R",
   "pygments_lexer": "r",
   "version": "4.0.3"
  }
 },
 "nbformat": 4,
 "nbformat_minor": 5
}
