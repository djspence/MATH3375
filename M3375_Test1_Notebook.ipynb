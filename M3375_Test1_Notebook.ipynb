{
 "cells": [
  {
   "cell_type": "markdown",
   "id": "noted-hebrew",
   "metadata": {},
   "source": [
    "### MATH 3375 Test 1 - Applied \n",
    "\n",
    "We will use a data set about newborn babies and their birthweight (the **response variable**, with five other features as potential predictors.) "
   ]
  },
  {
   "cell_type": "code",
   "execution_count": null,
   "id": "instructional-algorithm",
   "metadata": {},
   "outputs": [],
   "source": [
    "baby_data <- read.csv(\"baby.csv\")\n",
    "head(baby_data)"
   ]
  },
  {
   "cell_type": "markdown",
   "id": "recreational-bumper",
   "metadata": {},
   "source": [
    "## Tasks\n",
    "\n",
    "Once you have completed the tasks below, use your results to answer the questions in the D2L Quiz for this section of the test. Then submit your notebook as an HTML file in the D2L folder. Part of the credit for the test comes from the notebook, so be sure to complete this step!\n",
    "\n",
    "\n",
    "### Exploratory Data Analysis\n",
    "\n",
    "1. Create a boxplot for the response variable (birth weight) _**grouped by mother's smoking status**_.\n"
   ]
  },
  {
   "cell_type": "code",
   "execution_count": null,
   "id": "elder-painting",
   "metadata": {},
   "outputs": [],
   "source": [
    "#Put solution to Exercise 1 in this cell. You may add additional cells if you like.\n"
   ]
  },
  {
   "cell_type": "markdown",
   "id": "proper-pointer",
   "metadata": {},
   "source": [
    "### Multicollinearity\n",
    "\n",
    "2. Create a correlation matrix to show plots of the relationship between all QUANTITATIVE variables in the data set.\n"
   ]
  },
  {
   "cell_type": "code",
   "execution_count": null,
   "id": "lesbian-census",
   "metadata": {},
   "outputs": [],
   "source": [
    "#Put solution to Exercise 2 in this cell. You may add additional cells if you like.\n"
   ]
  },
  {
   "cell_type": "markdown",
   "id": "raising-empty",
   "metadata": {},
   "source": [
    "### Models"
   ]
  },
  {
   "cell_type": "markdown",
   "id": "parallel-panic",
   "metadata": {},
   "source": [
    "##### 3. Create a forward stepwise regression model.\n",
    "\n",
    "Start with a model using no predictors and allow R to show the steps taken in determining the final model.  Be sure to show a summary of the final model."
   ]
  },
  {
   "cell_type": "code",
   "execution_count": null,
   "id": "super-antibody",
   "metadata": {},
   "outputs": [],
   "source": [
    "#Put solution to Exercise 3 in this cell. You may add additional cells if you like.\n"
   ]
  },
  {
   "cell_type": "markdown",
   "id": "registered-timer",
   "metadata": {},
   "source": [
    "##### 4. Use LASSO to select a subset of the variables. \n",
    "\n",
    "* First create a LASSO model using all features as predictors\n",
    "* Use set.seed(3375) before creating the model (done for you in code cell below)\n",
    "* Use k = 5 for 5-fold cross-validation\n",
    "* Show a summary of the LASSO model coefficients\n"
   ]
  },
  {
   "cell_type": "code",
   "execution_count": null,
   "id": "specific-convert",
   "metadata": {},
   "outputs": [],
   "source": [
    "#Put solution to Exercise 4 in this cell. You may add additional cells if you like.\n",
    "\n",
    "set.seed(3375)\n"
   ]
  },
  {
   "cell_type": "markdown",
   "id": "noticed-review",
   "metadata": {},
   "source": [
    "##### 5. Create a Ridge Regression model. \n",
    "\n",
    "* Create a Ridge Regression model using all features as predictors\n",
    "* Use set.seed(3375) before creating the model (done for you in code cell below)\n",
    "* Use k = 5 for 5-fold cross-validation\n",
    "* Show a summary of the Ridge model coefficients\n"
   ]
  },
  {
   "cell_type": "code",
   "execution_count": null,
   "id": "hungry-causing",
   "metadata": {},
   "outputs": [],
   "source": [
    "#Put solution to Exercise 5 in this cell. You may add additional cells if you like.\n",
    "\n",
    "set.seed(3375)\n"
   ]
  },
  {
   "cell_type": "markdown",
   "id": "rising-candidate",
   "metadata": {},
   "source": [
    "##### 6. Create an Elastic Net Model\n",
    "\n",
    "* Create the Elastic Net using all features as predictors, with an alpha value of 0.5\n",
    "* Use set.seed(3375) before creating the model (done for you in code cell below)\n",
    "* Use k = 5 for 5-fold cross-validation\n",
    "* Show a summary of the Elastic Net model coefficients"
   ]
  },
  {
   "cell_type": "code",
   "execution_count": null,
   "id": "corresponding-store",
   "metadata": {},
   "outputs": [],
   "source": [
    "#Put solution to Exercise 6 in this cell. You may add additional cells if you like.\n",
    "\n",
    "set.seed(3375)"
   ]
  },
  {
   "cell_type": "markdown",
   "id": "satisfied-council",
   "metadata": {},
   "source": [
    "##### 7. Perform Principal Components Analysis (PCA)\n",
    "\n",
    "* Perform PCA on ALL quantitative variables in the data set (**_including_** the response variable.)\n",
    "* Display the principal components (first few rows)\n",
    "* Display the variable loadings\n",
    "* Display the proportion of variance explained by each component\n"
   ]
  },
  {
   "cell_type": "markdown",
   "id": "involved-train",
   "metadata": {},
   "source": [
    "##### 8. Create a Model with Interaction Term\n",
    "\n",
    "Create a regression model predicting birth weight using only these predictors: \n",
    "* Gestational.Days \n",
    "* Maternal.Smoker \n",
    "* The **_interaction_** between these 2 variables\n",
    "\n",
    "Display the model summary."
   ]
  },
  {
   "cell_type": "code",
   "execution_count": null,
   "id": "described-memory",
   "metadata": {},
   "outputs": [],
   "source": [
    "#Put solution to Exercise 8 in this cell. You may add additional cells if you like.\n"
   ]
  }
 ],
 "metadata": {
  "kernelspec": {
   "display_name": "R",
   "language": "R",
   "name": "ir"
  },
  "language_info": {
   "codemirror_mode": "r",
   "file_extension": ".r",
   "mimetype": "text/x-r-source",
   "name": "R",
   "pygments_lexer": "r",
   "version": "4.0.3"
  }
 },
 "nbformat": 4,
 "nbformat_minor": 5
}
