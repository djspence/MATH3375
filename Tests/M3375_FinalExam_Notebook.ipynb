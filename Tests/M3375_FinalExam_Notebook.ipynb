{
 "cells": [
  {
   "cell_type": "markdown",
   "id": "noted-hebrew",
   "metadata": {},
   "source": [
    "## MATH 3375 Final Exam - Applied Tasks\n",
    "\n",
    "For this exam, we will use a data set with several attributes of wine. The data set was obtained from the Machine Learning Repository at UC Irvine. \n",
    "\n",
    "Below is documentation related to the data set. \n",
    "\n",
    "    1. Title: Wine Quality \n",
    "\n",
    "    2. Sources\n",
    "       Created by: Paulo Cortez (Univ. Minho), Antonio Cerdeira, Fernando Almeida, \n",
    "       Telmo Matos and Jose Reis (CVRVV) @ 2009\n",
    "   \n",
    "    3. Past Usage:\n",
    "\n",
    "    P. Cortez, A. Cerdeira, F. Almeida, T. Matos and J. Reis. \n",
    "    Modeling wine preferences by data mining from physicochemical properties.\n",
    "    In Decision Support Systems, Elsevier, 47(4):547-553. ISSN: 0167-9236.\n",
    "\n",
    "    In the above reference, two datasets were created, using red and white wine samples.\n",
    "    [Instructor note: the data sets have been combined for this exercise, but the color\n",
    "    of the wine is not represented in the data.]\n",
    "    \n",
    "    The inputs include objective tests (e.g. PH values) and the output is based on sensory data\n",
    "    (median of at least 3 evaluations made by wine experts). Each expert graded the wine quality \n",
    "    between 0 (very bad) and 10 (very excellent). \n",
    " \n",
    "    4. Relevant Information:\n",
    "\n",
    "    The two datasets are related to red and white variants of the Portuguese \"Vinho Verde\" wine. \n",
    "    For more details, consult: http://www.vinhoverde.pt/en/ or reference [Cortez et al., 2009]. \n",
    "    Due to privacy and logistic issues, only physicochemical (inputs) and sensory (the output)\n",
    "    variables are available (e.g. there is no data about grape types, wine brand, wine selling \n",
    "    price, etc.).\n",
    "\n",
    "    The classes are ordered and not balanced (e.g. there are munch more normal wines than \n",
    "    excellent or poor ones). Outlier detection algorithms could be used to detect the few \n",
    "    excellent or poor wines. Also, we are not sure if all input variables are relevant. \n",
    "    So it could be interesting to test feature selection methods. \n",
    "\n",
    "    5. Number of Instances: red wine - 1599; white wine - 4898. \n",
    "\n",
    "    6. Number of Attributes: 11 + output attribute\n",
    "  \n",
    "    Note: several of the attributes may be correlated, thus it makes sense to apply some \n",
    "    sort of feature selection.\n",
    "\n",
    "    7. Attribute information:\n",
    "\n",
    "    For more information, read [Cortez et al., 2009].\n",
    "\n",
    "    Input variables (based on physicochemical tests):\n",
    "        1 - fixed acidity\n",
    "        2 - volatile acidity\n",
    "        3 - citric acid\n",
    "        4 - residual sugar\n",
    "        5 - chlorides\n",
    "        6 - free sulfur dioxide\n",
    "        7 - total sulfur dioxide\n",
    "        8 - density\n",
    "        9 - pH\n",
    "        10 - sulphates\n",
    "        11 - alcohol\n",
    "    \n",
    "    Output variable (based on sensory data from wine experts): \n",
    "        12 - quality (score between 0 and 10)\n",
    "\n",
    "    8. Missing Attribute Values: None\n",
    "\n",
    "\n"
   ]
  },
  {
   "cell_type": "code",
   "execution_count": null,
   "id": "instructional-algorithm",
   "metadata": {},
   "outputs": [],
   "source": [
    "wine <- read.csv(\"winequality_all_blind.csv\")\n",
    "head(wine)"
   ]
  },
  {
   "cell_type": "markdown",
   "id": "searching-memory",
   "metadata": {},
   "source": [
    "### Task 1 - Clustering\n",
    "\n",
    "Although the summary describes **quality** as the output variable, we will first seek to divide the wine into 2 different groups using k-means clustering. We will use all attributes _**except**_ quality to create 2 clusters of data points that appear to have the most similar attributes. \n",
    "\n",
    "#### Task 1a\n",
    "First, use the cell below to scale each variable so that all attributes _**except**_ quality have values between 0 and 1 (common scaling).  **DO NOT SCALE THE _quality_ VARIABLE.**\n",
    "\n",
    "_Note that you should store the scaled version of the variables directly in the **wine** data set, so that all tasks completed after this step will be completed with scaled data._"
   ]
  },
  {
   "cell_type": "code",
   "execution_count": null,
   "id": "casual-assistant",
   "metadata": {
    "scrolled": true
   },
   "outputs": [],
   "source": [
    "#Scale all attributes except quality\n",
    "\n",
    "\n",
    "#View results to verify scaling\n",
    "head(wine)"
   ]
  },
  {
   "cell_type": "markdown",
   "id": "communist-kitty",
   "metadata": {},
   "source": [
    "#### Task 1b\n",
    "\n",
    "With the scaled attributes, perform k-means clustering using all attributes except quality (i.e., use the first 11 columns). Use the code cell below, and be sure to keep the seed value set to 3375 immediately before performing the clustering.\n",
    "\n",
    "Store your clustering model in a variable and display the model for your reference (you will need the output to answer questions in the D2L Quiz.)"
   ]
  },
  {
   "cell_type": "code",
   "execution_count": null,
   "id": "accomplished-fireplace",
   "metadata": {},
   "outputs": [],
   "source": [
    "#Carry out k-means clustering to create 2 clusters \n",
    "\n",
    "set.seed(3375)  #Do NOT move or change this - place your code below.\n",
    "\n"
   ]
  },
  {
   "cell_type": "markdown",
   "id": "hydraulic-transition",
   "metadata": {},
   "source": [
    "#### Task 1c\n",
    "Visualize the clustering in 2 dimensions. Using the **alcohol** and **residual.sugar** attributes as your 2 dimensions, create a scatter plot and color code the points to show the cluster to which they are assigned. (You will have an opportunity to upload this plot to the D2L quiz.)"
   ]
  },
  {
   "cell_type": "code",
   "execution_count": null,
   "id": "pregnant-foundation",
   "metadata": {},
   "outputs": [],
   "source": [
    "# Create 2-dimensional plot to visualize clusters\n"
   ]
  },
  {
   "cell_type": "markdown",
   "id": "developing-denial",
   "metadata": {},
   "source": [
    "### Task 2 - Principal Components Analysis\n",
    "\n",
    "Perform a Principal Components Analysis (PCA) on the data set, using all attributes **except** quality. Display the following items so that you can refer to them in the D2L quiz:\n",
    "* The principal component values for the first few rows of the data set\n",
    "* The rotation matrix of variable loadings\n",
    "* The proportion of variance explained by each Principal Component"
   ]
  },
  {
   "cell_type": "code",
   "execution_count": null,
   "id": "worthy-ivory",
   "metadata": {},
   "outputs": [],
   "source": [
    "#Principal Component Analysis\n"
   ]
  },
  {
   "cell_type": "markdown",
   "id": "placed-account",
   "metadata": {},
   "source": [
    "### Tasks 3-5: Classification Models\n",
    "\n",
    "We will create models to classify the wine as low, moderate, or high quality. To prepare for this task, run the cell below to add a _category_ column. This category will be a factor variable, and we will use it as our response variable. \n",
    "\n",
    "#### Important notes:\n",
    "* Before running the cell, ensure that **wine** contains the _**scaled**_ version of the first 11 columns.\n",
    "* Just run the cell; do **NOT** change anything in the cell."
   ]
  },
  {
   "cell_type": "code",
   "execution_count": null,
   "id": "interesting-illustration",
   "metadata": {
    "scrolled": true
   },
   "outputs": [],
   "source": [
    "wine$category <- \"moderate\"\n",
    "wine$category[wine$quality < 5] <- \"low\"\n",
    "wine$category[wine$quality > 6] <- \"high\"\n",
    "\n",
    "wine$category <- as.factor(wine$category)\n",
    "head(wine)"
   ]
  },
  {
   "cell_type": "markdown",
   "id": "optimum-belfast",
   "metadata": {},
   "source": [
    "Now run the cell below to create a training and test set.  Again, do not make any changes; just run the cell."
   ]
  },
  {
   "cell_type": "code",
   "execution_count": null,
   "id": "alone-uganda",
   "metadata": {},
   "outputs": [],
   "source": [
    "set.seed(3375)\n",
    "\n",
    "train_size <- round(nrow(wine) * 0.8, 0)\n",
    "train_rows <- sample(1:nrow(wine), train_size)\n",
    "\n",
    "wine_train <- wine[train_rows,]\n",
    "wine_test <- wine[-train_rows,]\n"
   ]
  },
  {
   "cell_type": "markdown",
   "id": "proper-college",
   "metadata": {},
   "source": [
    "### Task 3 - k-Nearest Neighbors\n",
    "\n",
    "#### Task 3a\n",
    "\n",
    "Use the training data set to create a k-Nearest Neighbors model with k=5, using only the first 11 columns of data as attributes, with _category_ as the response variable. The model should predict the _category_ of wine in the test set. \n",
    "\n",
    "Display the predicted values next to the actual values for later reference (at least the first 10 rows of each)."
   ]
  },
  {
   "cell_type": "code",
   "execution_count": null,
   "id": "broadband-trout",
   "metadata": {},
   "outputs": [],
   "source": [
    "#k-Nearest Neighbors Model\n"
   ]
  },
  {
   "cell_type": "markdown",
   "id": "abandoned-dominican",
   "metadata": {},
   "source": [
    "#### Task 3b\n",
    "Compute the overall accuracy of the kNN predictions. What proportion of predictions match the actual category?"
   ]
  },
  {
   "cell_type": "code",
   "execution_count": null,
   "id": "dutch-lawrence",
   "metadata": {},
   "outputs": [],
   "source": [
    "#Overall accuracy of kNN predictions\n"
   ]
  },
  {
   "cell_type": "markdown",
   "id": "animal-cooking",
   "metadata": {},
   "source": [
    "### Task 4 - Support Vector Machine\n",
    "\n",
    "#### Task 4a\n",
    "\n",
    "Use the training data set to create a support vector machine model with **radial** kernel, _**using only the volatile.acidity and alcohol as predictors**_, with _category_ as the response variable. Display a model summary. "
   ]
  },
  {
   "cell_type": "code",
   "execution_count": null,
   "id": "prerequisite-gazette",
   "metadata": {},
   "outputs": [],
   "source": [
    "#Support Vector Machine model\n",
    "\n"
   ]
  },
  {
   "cell_type": "markdown",
   "id": "breeding-laugh",
   "metadata": {},
   "source": [
    "#### Task 4b\n",
    "\n",
    "Create a classification plot of the SVM model."
   ]
  },
  {
   "cell_type": "code",
   "execution_count": null,
   "id": "intimate-girlfriend",
   "metadata": {},
   "outputs": [],
   "source": [
    "#SVM Classification Plot\n"
   ]
  },
  {
   "cell_type": "markdown",
   "id": "geological-overall",
   "metadata": {},
   "source": [
    "#### Task 4c\n",
    "\n",
    "Use the SVM model to predict the _category_ of wine in the test set. \n",
    "\n",
    "Display the predicted values next to the actual values for later reference (at least the first 10 rows of each)."
   ]
  },
  {
   "cell_type": "code",
   "execution_count": null,
   "id": "whole-madrid",
   "metadata": {},
   "outputs": [],
   "source": [
    "#SVM Prediction on Test Data \n",
    "\n"
   ]
  },
  {
   "cell_type": "markdown",
   "id": "asian-procedure",
   "metadata": {},
   "source": [
    "#### Task 4d\n",
    "Compute the overall accuracy of the SVM predictions on the test set. What proportion of predictions match the actual category?"
   ]
  },
  {
   "cell_type": "code",
   "execution_count": null,
   "id": "innovative-timber",
   "metadata": {},
   "outputs": [],
   "source": [
    "#Accuracy of SVM Model\n"
   ]
  },
  {
   "cell_type": "markdown",
   "id": "controlling-bangladesh",
   "metadata": {},
   "source": [
    "### Task 5 - Random Forest \n",
    "\n",
    "#### Task 5a\n",
    "\n",
    "Use the training data set to create a random forest model with k=5, using only the first 11 columns of data as attributes, with _category_ as the response variable. (_Be sure to create model after setting the seed; do not change the seed._)\n",
    "\n",
    "Display the variable importance of the model."
   ]
  },
  {
   "cell_type": "code",
   "execution_count": null,
   "id": "failing-envelope",
   "metadata": {},
   "outputs": [],
   "source": [
    "#Random Forest Model and Variable Importance \n",
    "\n",
    "set.seed(3375)\n"
   ]
  },
  {
   "cell_type": "markdown",
   "id": "reverse-litigation",
   "metadata": {},
   "source": [
    "#### Task 5b\n",
    "\n",
    "Use the Random Forest model to predict the _category_ of wine in the test set. \n",
    "\n",
    "Display the predicted values next to the actual values for later reference (at least the first 10 rows of each)."
   ]
  },
  {
   "cell_type": "code",
   "execution_count": null,
   "id": "established-scottish",
   "metadata": {},
   "outputs": [],
   "source": [
    "#Random Forest Prediction on Test Data \n",
    "\n"
   ]
  },
  {
   "cell_type": "markdown",
   "id": "heard-racing",
   "metadata": {},
   "source": [
    "#### Task 5c\n",
    "Compute the overall accuracy of the random forest predictions on the test set. What proportion of predictions match the actual category?"
   ]
  },
  {
   "cell_type": "code",
   "execution_count": null,
   "id": "interpreted-collapse",
   "metadata": {},
   "outputs": [],
   "source": [
    "#Accuracy of Random Forest Predictions\n",
    "\n"
   ]
  },
  {
   "cell_type": "markdown",
   "id": "addressed-february",
   "metadata": {},
   "source": [
    "### Task 6 - Multiple Regression\n",
    "\n",
    "#### Task 6a\n",
    "\n",
    "Use the training data set to create a multiple regression model predicting **density** from the other 10 attributes (do NOT include the **quality** or **category** variables). \n",
    "\n",
    "Display the model summary."
   ]
  },
  {
   "cell_type": "code",
   "execution_count": null,
   "id": "comic-birmingham",
   "metadata": {},
   "outputs": [],
   "source": [
    "#Multiple Regression Model to Predict Density\n"
   ]
  }
 ],
 "metadata": {
  "kernelspec": {
   "display_name": "R",
   "language": "R",
   "name": "ir"
  },
  "language_info": {
   "codemirror_mode": "r",
   "file_extension": ".r",
   "mimetype": "text/x-r-source",
   "name": "R",
   "pygments_lexer": "r",
   "version": "4.0.3"
  }
 },
 "nbformat": 4,
 "nbformat_minor": 5
}
