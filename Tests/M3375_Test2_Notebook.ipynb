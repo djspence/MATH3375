{
 "cells": [
  {
   "cell_type": "markdown",
   "id": "noted-hebrew",
   "metadata": {},
   "source": [
    "### MATH 3375 Test 2 - Applied \n",
    "\n",
    "We will use a data set containing data collected by the Census Bureau for adults in the 1990's. The response variable is **Annual_Salary**, which is classified into 2 categories to indicate whether annual income is over $50K (>50K and <=50K).\n",
    "\n",
    "The other features in the data set are as follows:\n",
    "\n",
    "* age - individual's age in years\n",
    "* work_class - individual's work classification\n",
    "    * Federal-gov\n",
    "    * Local-gov\n",
    "    * Never-worked\n",
    "    * Private\n",
    "    * Self-emp-inc   (inc indicates incorporated)\n",
    "    * Self-emp-not-inc\n",
    "    * State-gov\n",
    "    * Without-pay\n",
    "    * Unknown\n",
    "    \n",
    "* education level - coded as numeric value with following levels\n",
    "    * 1\t Preschool\n",
    "    * 2\t 1st-4th\n",
    "    * 3\t 5th-6th\n",
    "    * 4\t 7th-8th\n",
    "    * 5\t 9th\n",
    "    * 6\t 10th\n",
    "    * 7\t 11th\n",
    "    * 8\t 12th\n",
    "    * 9\t HS grad\n",
    "    * 10 Some college\n",
    "    * 11 Associates - vocational\n",
    "    * 12 Associates - academic\n",
    "    * 13 Bachelors\n",
    "    * 14 Masters\n",
    "    * 15 Professional school\n",
    "    * 16 Doctorate\n",
    "\n",
    "* marital - marital status\n",
    "    * Divorced\n",
    "    * Married-AF-spouse (spouse in armed forces)\n",
    "    * Married-civ-spouse (civilian spouse)\n",
    "    * Married-spouse-absent\n",
    "    * Never-married\n",
    "    * Separated\n",
    "    * Widowed\n",
    "    \n",
    "* race\n",
    "    * Amer-Indian-Eskimo\n",
    "    * Asian-Pac-Islander\n",
    "    * Black\n",
    "    * Other\n",
    "    * White\n",
    "    \n",
    "* sex\n",
    "    * Female\n",
    "    * Male\n",
    "\n",
    "* capital_gain - individual's capital gain claimed (annual, taxes)\n",
    "* capital_loss - individual's capital loss claimed (annual, taxes)\n",
    "* hours_per_week - individual's hours worked per week\n"
   ]
  },
  {
   "cell_type": "markdown",
   "id": "searching-memory",
   "metadata": {},
   "source": [
    "### Training and Test Data Sets\n",
    "\n",
    "The data set has already been divided into training and test data sets.  Both are loaded below.  _Remember to use **adult_train** to train your models and **adult_test** to test each model._"
   ]
  },
  {
   "cell_type": "code",
   "execution_count": null,
   "id": "instructional-algorithm",
   "metadata": {},
   "outputs": [],
   "source": [
    "adult_train <- read.csv(\"adult_train.csv\",stringsAsFactors=TRUE)\n",
    "head(adult_train)"
   ]
  },
  {
   "cell_type": "code",
   "execution_count": null,
   "id": "given-export",
   "metadata": {},
   "outputs": [],
   "source": [
    "adult_test <- read.csv(\"adult_test.csv\",stringsAsFactors=TRUE)\n",
    "head(adult_test)\n"
   ]
  },
  {
   "cell_type": "markdown",
   "id": "guilty-unemployment",
   "metadata": {},
   "source": [
    "## Preliminary Setup\n",
    "\n",
    "1. Although education level could be treated as categorical, use this variable as a numeric feature (the way it is coded) for all of the tasks below.\n",
    "2. Since this is a binary classification task, it may be useful to have a column coded as 0/1 to represent the 2 outcomes.  Run the cell below to add this column to both the training and test sets."
   ]
  },
  {
   "cell_type": "code",
   "execution_count": null,
   "id": "attended-miniature",
   "metadata": {},
   "outputs": [],
   "source": [
    "adult_train$response <- as.integer(adult_train$Annual_Salary == \">50K\")\n",
    "head(adult_train)"
   ]
  },
  {
   "cell_type": "code",
   "execution_count": null,
   "id": "latest-tongue",
   "metadata": {},
   "outputs": [],
   "source": [
    "adult_test$response <- as.integer(adult_test$Annual_Salary == \">50K\")\n",
    "head(adult_test)"
   ]
  },
  {
   "cell_type": "markdown",
   "id": "recreational-bumper",
   "metadata": {},
   "source": [
    "## Tasks\n",
    "\n",
    "Once you have completed the tasks below, use your results to answer the questions in the D2L Quiz for this section of the test. Then submit your notebook as an HTML file in the D2L folder. Part of the credit for the test comes from the notebook, so be sure to complete this step!\n",
    "\n",
    "### Logistic Regression\n",
    "\n",
    "1. Create a logistic regression model to predict the annual salary class from all quantitative features PLUS **race** and **sex**. Show a model summary.\n"
   ]
  },
  {
   "cell_type": "code",
   "execution_count": null,
   "id": "elder-painting",
   "metadata": {},
   "outputs": [],
   "source": [
    "#Put solution to Exercise 1 in this cell. You may add additional cells if you like.\n"
   ]
  },
  {
   "cell_type": "markdown",
   "id": "joint-doctor",
   "metadata": {},
   "source": [
    "#### Predictions \n",
    "\n",
    "2. Use the logistic regression model to predict the salary class of all records in the **TEST** data set, using a threshold of 50%. Using the predictions and the actual values, create a confusion matrix."
   ]
  },
  {
   "cell_type": "code",
   "execution_count": null,
   "id": "organized-system",
   "metadata": {},
   "outputs": [],
   "source": [
    "#Put solution to Exercise 2 in this cell. You may add additional cells if you like.\n"
   ]
  },
  {
   "cell_type": "markdown",
   "id": "funky-brain",
   "metadata": {},
   "source": [
    "#### Metrics\n",
    "\n",
    "3. Compute the out-of-sample accuracy, sensitivity, and specificity of the logistic regression model. "
   ]
  },
  {
   "cell_type": "code",
   "execution_count": null,
   "id": "published-gazette",
   "metadata": {},
   "outputs": [],
   "source": [
    "#Put solution to Exercise 3 in this cell. You may add additional cells if you like.\n"
   ]
  },
  {
   "cell_type": "markdown",
   "id": "proper-pointer",
   "metadata": {},
   "source": [
    "### KNN\n",
    "\n",
    "4. Use a K-Nearest Neighbors model with K=3 based on the training data to predict the annual salary class in the test data set, using all _**numeric**_ features (be careful NOT to use the 'response' column as a predictor!)\n",
    "\n",
    "Create a confusion matrix between the model predictions and the actual values.\n"
   ]
  },
  {
   "cell_type": "code",
   "execution_count": null,
   "id": "lesbian-census",
   "metadata": {},
   "outputs": [],
   "source": [
    "#Put solution to Exercise 4 in this cell. You may add additional cells if you like.\n"
   ]
  },
  {
   "cell_type": "markdown",
   "id": "quantitative-connectivity",
   "metadata": {},
   "source": [
    "#### Metrics\n",
    "\n",
    "5. Compute the out-of-sample accuracy, sensitivity, and specificity of the KNN model. "
   ]
  },
  {
   "cell_type": "code",
   "execution_count": null,
   "id": "actual-norfolk",
   "metadata": {},
   "outputs": [],
   "source": [
    "#Put solution to Exercise 5 in this cell. You may add additional cells if you like.\n"
   ]
  },
  {
   "cell_type": "markdown",
   "id": "parallel-panic",
   "metadata": {},
   "source": [
    "### Support Vector Machine\n",
    "\n",
    "6. Create a Support Vector Machine (SVM) model based on the training data, using all numeric features and a **radial** kernel (be careful NOT to use the 'response' column as a predictor!)  Display a model summary."
   ]
  },
  {
   "cell_type": "code",
   "execution_count": null,
   "id": "super-antibody",
   "metadata": {},
   "outputs": [],
   "source": [
    "#Put solution to Exercise 6 in this cell. You may add additional cells if you like.\n"
   ]
  },
  {
   "cell_type": "markdown",
   "id": "critical-immune",
   "metadata": {},
   "source": [
    "#### Metrics\n",
    "\n",
    "7. Generate predictions for the test set and create a confusion matrix and compute the out-of-sample accuracy, sensitivity, and specificity of the SVM model. "
   ]
  },
  {
   "cell_type": "code",
   "execution_count": null,
   "id": "productive-estate",
   "metadata": {},
   "outputs": [],
   "source": [
    "#Put solution to Exercise 7 in this cell. You may add additional cells if you like.\n"
   ]
  },
  {
   "cell_type": "markdown",
   "id": "rural-pillow",
   "metadata": {},
   "source": [
    "### Decision Tree\n",
    "\n",
    "8. Create a Decision Tree model based on the training data, using ALL features (not just numeric ones; still be careful NOT to use the 'Annual_Salary' or 'response' columns as predictors!)  Use the default parameter values only when creating the tree. Display the tree."
   ]
  },
  {
   "cell_type": "code",
   "execution_count": null,
   "id": "handled-mozambique",
   "metadata": {},
   "outputs": [],
   "source": [
    "#Put solution to Exercise 8 in this cell. You may add additional cells if you like.\n"
   ]
  },
  {
   "cell_type": "markdown",
   "id": "covered-paste",
   "metadata": {},
   "source": [
    "#### Metrics\n",
    "\n",
    "9. Generate predictions for the test set and create a confusion matrix and compute the out-of-sample accuracy, sensitivity, and specificity of the Decision Tree model. "
   ]
  },
  {
   "cell_type": "code",
   "execution_count": null,
   "id": "unusual-cherry",
   "metadata": {},
   "outputs": [],
   "source": [
    "#Put solution to Exercise 9 in this cell. You may add additional cells if you like.\n"
   ]
  },
  {
   "cell_type": "markdown",
   "id": "checked-senate",
   "metadata": {},
   "source": [
    "### Random Forest\n",
    "\n",
    "10. Create a Random Forest model based on the training data, using ALL features (not just numeric ones; still be careful NOT to use the 'Annual_Salary' or 'response' columns as predictors!)  Use the default parameter values only when creating the forest. Also use set.seed(3375) before creating the model (this line is in the code cell below.) Display the variable importance."
   ]
  },
  {
   "cell_type": "code",
   "execution_count": null,
   "id": "pointed-iraqi",
   "metadata": {},
   "outputs": [],
   "source": [
    "#Put solution to Exercise 10 in this cell. You may add additional cells if you like.\n",
    "\n",
    "set.seed(3375)"
   ]
  },
  {
   "cell_type": "markdown",
   "id": "northern-incentive",
   "metadata": {},
   "source": [
    "#### Metrics\n",
    "\n",
    "11. Generate predictions for the test set and create a confusion matrix and compute the out-of-sample accuracy, sensitivity, and specificity of the Random Forest model. "
   ]
  },
  {
   "cell_type": "code",
   "execution_count": null,
   "id": "continent-scheduling",
   "metadata": {},
   "outputs": [],
   "source": [
    "#Put solution to Exercise 11 in this cell. You may add additional cells if you like.\n",
    "\n",
    "\n"
   ]
  },
  {
   "cell_type": "markdown",
   "id": "registered-timer",
   "metadata": {},
   "source": [
    "## Model Comparison \n",
    "\n",
    "12. Create a table for the 5 models above and show a summary of:\n",
    "* Accuracy\n",
    "* Sensitivity\n",
    "* Specificity\n",
    "\n",
    "Based on your data, name the model you believe has the best overall performance."
   ]
  },
  {
   "cell_type": "code",
   "execution_count": null,
   "id": "specific-convert",
   "metadata": {},
   "outputs": [],
   "source": [
    "#Put solution to Exercise 12 in this cell. You may add additional cells if you like.\n",
    "\n",
    "\n"
   ]
  },
  {
   "cell_type": "markdown",
   "id": "accessible-buying",
   "metadata": {},
   "source": [
    "## BONUS (Not Required)\n",
    "\n",
    "Calculate the AUC for each of the 5 models and identify the model with the best AUC.  Does this model match the one you selected as the best overall?"
   ]
  },
  {
   "cell_type": "code",
   "execution_count": null,
   "id": "active-logic",
   "metadata": {},
   "outputs": [],
   "source": [
    "# Solution to Bonus Question"
   ]
  }
 ],
 "metadata": {
  "kernelspec": {
   "display_name": "R",
   "language": "R",
   "name": "ir"
  },
  "language_info": {
   "codemirror_mode": "r",
   "file_extension": ".r",
   "mimetype": "text/x-r-source",
   "name": "R",
   "pygments_lexer": "r",
   "version": "4.0.3"
  }
 },
 "nbformat": 4,
 "nbformat_minor": 5
}
