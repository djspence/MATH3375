{
 "cells": [
  {
   "cell_type": "markdown",
   "id": "ranging-amplifier",
   "metadata": {},
   "source": [
    "# MATH 3375 Examples Notebook #12\n",
    "\n",
    "# Binary Response Variables: Introduction\n",
    "\n",
    "We will use a different cars data set to examine binary responses. \n"
   ]
  },
  {
   "cell_type": "code",
   "execution_count": null,
   "id": "flush-hungary",
   "metadata": {},
   "outputs": [],
   "source": [
    "#Look at data set\n",
    "head(mtcars)"
   ]
  },
  {
   "cell_type": "markdown",
   "id": "growing-establishment",
   "metadata": {},
   "source": [
    "## Binary Feature: am\n",
    "\n",
    "The **am** column is binary. A value of 0 means the car has an automatic transmission; a value of 1 means it has a manual transmission. According to the summary below, there are 19 cars with automatic transmission, and 13 with manual."
   ]
  },
  {
   "cell_type": "code",
   "execution_count": null,
   "id": "mobile-debate",
   "metadata": {},
   "outputs": [],
   "source": [
    "summary(as.factor(mtcars$am))"
   ]
  },
  {
   "cell_type": "code",
   "execution_count": null,
   "id": "distinguished-arkansas",
   "metadata": {},
   "outputs": [],
   "source": [
    "plot(am ~ disp, data=mtcars)"
   ]
  },
  {
   "cell_type": "markdown",
   "id": "sealed-screen",
   "metadata": {},
   "source": [
    "### Can we use regression to predict transmission type?\n",
    "\n",
    "What happens if we try to predict the 0/1 value with Ordinary Least Squares (OLS)?"
   ]
  },
  {
   "cell_type": "code",
   "execution_count": null,
   "id": "southern-switzerland",
   "metadata": {},
   "outputs": [],
   "source": [
    "model_tran_ols <- lm(am ~ disp, data=mtcars)\n",
    "summary(model_tran_ols)"
   ]
  },
  {
   "cell_type": "markdown",
   "id": "above-travel",
   "metadata": {},
   "source": [
    "### Look at the Model\n",
    "\n",
    "We need to examine the model graphically to appreciate why this is not a good approach."
   ]
  },
  {
   "cell_type": "code",
   "execution_count": null,
   "id": "alone-sailing",
   "metadata": {},
   "outputs": [],
   "source": [
    "plot(am~disp,data=mtcars)\n",
    "abline(model_tran_ols)"
   ]
  },
  {
   "cell_type": "markdown",
   "id": "amazing-letter",
   "metadata": {},
   "source": [
    "### Unsuitable Model\n",
    "\n",
    "The straight line is not suitable for predicting whether the car has an automatic (0) or manual (1) transmission.  \n",
    "\n",
    "### Suitable Methods\n",
    "\n",
    "1. Predict the _probability_ of the car having a manual transmission: Logistic Regression\n",
    "    * All predicted values need to be between 0 and 1\n",
    "    * Function will not be a line\n",
    "\n",
    "\n",
    "2. Classification methods: Covered later in the course"
   ]
  },
  {
   "cell_type": "code",
   "execution_count": null,
   "id": "alpha-omega",
   "metadata": {},
   "outputs": [],
   "source": [
    "model_tran_logit <- glm(am ~ disp, family=\"binomial\", data=mtcars)\n",
    "summary(model_tran_logit)"
   ]
  },
  {
   "cell_type": "markdown",
   "id": "victorian-nursing",
   "metadata": {},
   "source": [
    "### NOT an OLS Model\n",
    "\n",
    "The above model is NOT an OLS model.  Its coefficients are interpreted differently.  For now, we look at a graph of the probabilities it generates. The model is shown in red with the data points below."
   ]
  },
  {
   "cell_type": "code",
   "execution_count": null,
   "id": "foreign-negotiation",
   "metadata": {},
   "outputs": [],
   "source": [
    "points <- seq(50,500,by=0.5)\n",
    "logit_points <- 2.6308 - 0.0146*points\n",
    "prob_points <- exp(logit_points)/(1+exp(logit_points))\n",
    "\n",
    "plot(am~disp,data=mtcars)\n",
    "points(points,prob_points,col=\"red\")"
   ]
  }
 ],
 "metadata": {
  "kernelspec": {
   "display_name": "R",
   "language": "R",
   "name": "ir"
  },
  "language_info": {
   "codemirror_mode": "r",
   "file_extension": ".r",
   "mimetype": "text/x-r-source",
   "name": "R",
   "pygments_lexer": "r",
   "version": "4.0.3"
  }
 },
 "nbformat": 4,
 "nbformat_minor": 5
}
