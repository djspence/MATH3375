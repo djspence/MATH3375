{
 "cells": [
  {
   "cell_type": "markdown",
   "id": "ranging-amplifier",
   "metadata": {},
   "source": [
    "# MATH 3375 Examples Notebook #16\n",
    "\n",
    "# Comparing Model Predictions and Metrics\n",
    "\n",
    "We compare making predictions and computing metrics across classification techniques.  We also look at issues that can arise and ways to handle these issues.\n",
    "\n",
    "Again, our response variable is **am**, the transmission type, where 0=automatic, and 1=manual.\n"
   ]
  },
  {
   "cell_type": "code",
   "execution_count": null,
   "id": "elegant-pregnancy",
   "metadata": {},
   "outputs": [],
   "source": [
    "#Look at data set\n",
    "cars <- read.csv(\"cars2004.csv\",stringsAsFactors=TRUE)\n",
    "head(cars)\n",
    "summary(cars$Body)"
   ]
  },
  {
   "cell_type": "code",
   "execution_count": null,
   "id": "communist-mayor",
   "metadata": {},
   "outputs": [],
   "source": [
    "#Remove columns and add response variable 'Cargo'\n",
    "row.names(cars) <- paste(cars[,1],cars[,2],cars[,3])\n",
    "cars$Cargo <- as.integer(cars$Body %in% c(\"SUV\",\"Wagon\",\"Minivan\",\"Pickup\"))\n",
    "cars <- cars[,-c(1:3,13:14)]\n",
    "head(cars)\n",
    "summary(cars$Cargo)"
   ]
  },
  {
   "cell_type": "markdown",
   "id": "quarterly-bonus",
   "metadata": {},
   "source": [
    "## A Random Training-Test Partition"
   ]
  },
  {
   "cell_type": "code",
   "execution_count": null,
   "id": "fresh-green",
   "metadata": {},
   "outputs": [],
   "source": [
    "set.seed(3375)\n",
    "n_train <- as.integer(0.6*nrow(cars))\n",
    "train_idx <- sample(1:n_train)\n",
    "cars_train <- cars[train_idx,]\n",
    "cars_test <- cars[-train_idx,]\n",
    "nrow(cars_train)\n",
    "nrow(cars_test)\n",
    "summary(as.factor(cars_train$Cargo))\n",
    "summary(as.factor(cars_test$Cargo))"
   ]
  },
  {
   "cell_type": "markdown",
   "id": "corporate-compensation",
   "metadata": {},
   "source": [
    "### Problem: Imbalanced Classes\n",
    "\n",
    "The partition above has NO records in the training set with Cargo set to 1. This makes it impossible to train a model to predict  Cargo as a response variable.\n",
    "\n",
    "One way to address an imbalance in classes is **_stratified_** sampling, where a fixed proportion of each class is sampled for the training set.  \n",
    "\n",
    "Below is an example of **_systematic_** sampling, another sampling mechanism that can lead to a more balanced sample. "
   ]
  },
  {
   "cell_type": "code",
   "execution_count": null,
   "id": "crude-stuff",
   "metadata": {},
   "outputs": [],
   "source": [
    "test_idx <- seq(3,n_train,by=3)\n",
    "test_idx <- rep(c(FALSE,TRUE,TRUE,FALSE,FALSE),82)[1:407]\n",
    "head(test_idx,10)\n",
    "cars_train <- cars[!test_idx,]\n",
    "cars_test <- cars[test_idx,]\n",
    "nrow(cars_train)\n",
    "nrow(cars_test)\n",
    "summary(as.factor(cars_train$Cargo))\n",
    "summary(as.factor(cars_test$Cargo))"
   ]
  },
  {
   "cell_type": "markdown",
   "id": "sporting-wrapping",
   "metadata": {},
   "source": [
    "## Create Several Models\n",
    "\n",
    "We create three different types of model using all features as predictors:\n",
    "\n",
    "* Logistic Regression with 0.5 as cutoff\n",
    "* k-Nearest Neighbors (kNN) with k=3\n",
    "* Support Vector Machine (SVM) with default kernel\n",
    "\n",
    "Each model is created with the training set.  For each model, we also predict the class of the records in the test set."
   ]
  },
  {
   "cell_type": "code",
   "execution_count": null,
   "id": "sufficient-gazette",
   "metadata": {},
   "outputs": [],
   "source": [
    "#install.packages(\"e1071\")\n",
    "library(e1071)\n",
    "\n",
    "#install.packages(\"class\")\n",
    "library(class)"
   ]
  },
  {
   "cell_type": "code",
   "execution_count": null,
   "id": "ranging-passion",
   "metadata": {},
   "outputs": [],
   "source": [
    "#Logistic Regression Model\n",
    "model_logit_cargo <- glm(Cargo ~ ., family=\"binomial\", data=cars_train)\n",
    "prob_logit_cargo <- predict(model_logit_cargo,cars_test,type=\"response\")\n",
    "pred_logit_cargo <- as.integer(prob_logit_cargo > 0.5)\n",
    "\n",
    "#kNN Models\n",
    "pred_knn_cargo <- knn(cars_train[,1:9], cars_test[,1:9], cl=cars_train[,10], k = 3)\n",
    "\n",
    "#SVM Model\n",
    "model_svm_cargo = svm(as.factor(Cargo)~.,data=cars_train)\n",
    "pred_svm_cargo <- predict(model_svm_cargo,cars_test)"
   ]
  },
  {
   "cell_type": "markdown",
   "id": "steady-paper",
   "metadata": {},
   "source": [
    "## Model Metrics\n",
    "\n",
    "All of the above models can be evaluated with:\n",
    "\n",
    "* Confusion Matrices and related metrics\n",
    "    * Accuracy\n",
    "    * Sensitivity\n",
    "    * Specificity\n",
    "    * Precision\n",
    "* ROC curve and Area Under Curve (AUC) metric\n",
    "\n",
    "Note that ROC curve can be used on any model that gives binary classification predictions."
   ]
  },
  {
   "cell_type": "code",
   "execution_count": null,
   "id": "decent-circus",
   "metadata": {},
   "outputs": [],
   "source": [
    "#install.packages(\"pROC\")\n",
    "library(pROC)"
   ]
  },
  {
   "cell_type": "code",
   "execution_count": null,
   "id": "talented-breeding",
   "metadata": {},
   "outputs": [],
   "source": [
    "Actual <- cars_test$Cargo\n",
    "roc_data=roc(Actual, pred_logit_cargo, quiet=TRUE) \n",
    "plot(roc_data, print.auc=TRUE, main =\"ROC curve - Logistic Reg\")\n"
   ]
  },
  {
   "cell_type": "markdown",
   "id": "configured-thomas",
   "metadata": {},
   "source": [
    "### Data Requirements for ROC Curve\n",
    "\n",
    "The code below will result in an error, because the predictions generated for the kNN model are classes, rather than numbers."
   ]
  },
  {
   "cell_type": "code",
   "execution_count": null,
   "id": "brutal-joyce",
   "metadata": {},
   "outputs": [],
   "source": [
    "roc_data=roc(Actual, pred_knn_cargo, quiet=TRUE) \n",
    "plot(roc_data, print.auc=TRUE, main =\"ROC curve - kNN-3\")"
   ]
  },
  {
   "cell_type": "markdown",
   "id": "entire-lawrence",
   "metadata": {},
   "source": [
    "#### Formatting the Predictions to Avoid this Error"
   ]
  },
  {
   "cell_type": "code",
   "execution_count": null,
   "id": "technological-stomach",
   "metadata": {},
   "outputs": [],
   "source": [
    "pred_knn_int <- as.integer(pred_knn_cargo)\n",
    "pred_knn_int"
   ]
  },
  {
   "cell_type": "markdown",
   "id": "broken-keeping",
   "metadata": {},
   "source": [
    "#### One Last Adjustment\n",
    "\n",
    "Notice that the values produced are 1's and 2's, rather than 0's and 1's.  That is because factors are stored as **_levels_** beginning with 1.  We need to first convert the factors to characters (which were 0s and 1s), then convert THAT to integer."
   ]
  },
  {
   "cell_type": "code",
   "execution_count": null,
   "id": "intermediate-attempt",
   "metadata": {},
   "outputs": [],
   "source": [
    "pred_knn_int <- as.integer(as.character(pred_knn_cargo))\n",
    "pred_knn_int"
   ]
  },
  {
   "cell_type": "markdown",
   "id": "coordinated-inquiry",
   "metadata": {},
   "source": [
    "### ROC Curve with Correct Data Format for Predictions"
   ]
  },
  {
   "cell_type": "code",
   "execution_count": null,
   "id": "extra-lounge",
   "metadata": {},
   "outputs": [],
   "source": [
    "roc_data=roc(Actual, pred_knn_int, quiet=TRUE) \n",
    "plot(roc_data, print.auc=TRUE, main =\"ROC curve - kNN-3\")"
   ]
  }
 ],
 "metadata": {
  "kernelspec": {
   "display_name": "R",
   "language": "R",
   "name": "ir"
  },
  "language_info": {
   "codemirror_mode": "r",
   "file_extension": ".r",
   "mimetype": "text/x-r-source",
   "name": "R",
   "pygments_lexer": "r",
   "version": "4.0.3"
  }
 },
 "nbformat": 4,
 "nbformat_minor": 5
}
