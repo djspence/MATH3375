{
 "cells": [
  {
   "cell_type": "markdown",
   "id": "increasing-vacation",
   "metadata": {},
   "source": [
    "# MATH 3375 Examples Notebook #23\n",
    "\n",
    "# Transition Matrices and Markov Chains\n",
    "\n",
    "Matrices can be used to model transitions from one 'state' to another, using probabilities of transitions between states. \n",
    "\n",
    "## Simple Example\n",
    "\n",
    "The vector of probabilities gives the probability of 3 weather conditions on a given day (call it today). The 3 conditions are:\n",
    "\n",
    "$$[sunny, cloudy, rainy]$$  \n",
    "\n",
    "The transition matrix shows probabilities of a weather transition from any state to any other state, when transitioning from one day to the next. Each row represents the state could transitioning FROM, and each column represents the state we could transition TO. "
   ]
  },
  {
   "cell_type": "code",
   "execution_count": null,
   "id": "surrounded-sigma",
   "metadata": {},
   "outputs": [],
   "source": [
    "# Set up current state\n",
    "today <- matrix(c(0.5,0.25,0.25),nrow=1)\n",
    "today"
   ]
  },
  {
   "cell_type": "code",
   "execution_count": null,
   "id": "bottom-audio",
   "metadata": {},
   "outputs": [],
   "source": [
    "# Set up transition matrix\n",
    "transition <- matrix(c(.75,.15,.1,.2,.4,.4,.4,.3,.3),nrow=3,byrow=TRUE)\n",
    "transition"
   ]
  },
  {
   "cell_type": "code",
   "execution_count": null,
   "id": "offshore-spencer",
   "metadata": {},
   "outputs": [],
   "source": [
    "#Compute tomorrow's probabilities\n",
    "tomorrow <- today %*% transition\n",
    "tomorrow"
   ]
  },
  {
   "cell_type": "markdown",
   "id": "minimal-success",
   "metadata": {},
   "source": [
    "### Look for long-run probabilities\n",
    "\n",
    "Repeating the process could result in a 'steady state' in which\n",
    "\n",
    "$$\\pi^*P = \\pi^*$$\n",
    "\n",
    "for some state vector $\\pi^*$.  This vector represents a long-run probability of each weather type.\n",
    "\n",
    "We repeat the matrix multiplication until the state vector converges. We can detect this when the vector for 2 consecutive days has difference at (or near) zero.  \n",
    "\n",
    "To accomplish this, we use the **norm** function to find the largest value in the vector of differences, as shown below."
   ]
  },
  {
   "cell_type": "code",
   "execution_count": null,
   "id": "incoming-invitation",
   "metadata": {},
   "outputs": [],
   "source": [
    "#Example of checking distance between 2 vectors\n",
    "\n",
    "day1 <- today\n",
    "day2 <- tomorrow\n",
    "abs(day2-day1)\n",
    "norm(abs(day2-day1),type=\"M\")"
   ]
  },
  {
   "cell_type": "markdown",
   "id": "particular-barcelona",
   "metadata": {},
   "source": [
    "### Simple Steady State Computation\n"
   ]
  },
  {
   "cell_type": "code",
   "execution_count": null,
   "id": "artificial-alert",
   "metadata": {},
   "outputs": [],
   "source": [
    "day1 <- today\n",
    "day2 <- tomorrow\n",
    "while (norm(abs(day2-day1),type=\"M\") > 1E-20) {\n",
    "    day1 <- day2\n",
    "    day2 <- day1 %*% transition\n",
    "}\n",
    "\n",
    "cat(\"Steady State: \", day2)"
   ]
  },
  {
   "cell_type": "markdown",
   "id": "extreme-wonder",
   "metadata": {},
   "source": [
    "### Safer Computation \n",
    "\n",
    "There is not always a steady state. The safest approach is to set a limit for how many times the iteration occurs, as shown below.  Here we also save a list of the state vectors so we can examine them for more insight into the process.\n"
   ]
  },
  {
   "cell_type": "code",
   "execution_count": null,
   "id": "damaged-sensitivity",
   "metadata": {},
   "outputs": [],
   "source": [
    "#Safer version\n",
    "day1 <- today\n",
    "day2 <- tomorrow\n",
    "states <- list(today,tomorrow)\n",
    "\n",
    "converging <- TRUE\n",
    "count <- 0\n",
    "\n",
    "while (converging & norm(abs(day2-day1),type=\"M\") > 1E-20) {\n",
    "    day1 <- day2\n",
    "    day2 <- day1 %*% transition\n",
    "    count <- count+1\n",
    "    states[[count+2]] <- day2\n",
    "    if (count > 10000)\n",
    "        converging <- FALSE\n",
    "}\n",
    "\n",
    "if (converging) {\n",
    "    cat(\"Steady State: \", day2)\n",
    "    } else {\n",
    "    cat(\"Failed to converge.\")\n",
    "}\n",
    "\n",
    "cat (\"\\n\", count, \" iterations conducted.\")"
   ]
  },
  {
   "cell_type": "code",
   "execution_count": null,
   "id": "rising-forum",
   "metadata": {},
   "outputs": [],
   "source": [
    "states[1:5]"
   ]
  },
  {
   "cell_type": "code",
   "execution_count": null,
   "id": "northern-astronomy",
   "metadata": {},
   "outputs": [],
   "source": [
    "states[40:42]"
   ]
  }
 ],
 "metadata": {
  "kernelspec": {
   "display_name": "R",
   "language": "R",
   "name": "ir"
  },
  "language_info": {
   "codemirror_mode": "r",
   "file_extension": ".r",
   "mimetype": "text/x-r-source",
   "name": "R",
   "pygments_lexer": "r",
   "version": "4.0.3"
  }
 },
 "nbformat": 4,
 "nbformat_minor": 5
}
