{
 "cells": [
  {
   "cell_type": "markdown",
   "id": "ranging-amplifier",
   "metadata": {},
   "source": [
    "# MATH 3375 Examples Notebook #5\n",
    "# Regression with a Categorical Predictor\n",
    "\n",
    "In the simple linear regression, we typically think of the predictor ($x$) as a quantitative variable. However, it is possible to use a categorical predictor by using binary coding (0 or 1) for the different categories. A variable can represent a single category; it is coded as a 1 if the data point belongs to that category, or 0 if it does not. Variables defined this way can be used in a linear regression model.\n"
   ]
  },
  {
   "cell_type": "markdown",
   "id": "alleged-copper",
   "metadata": {},
   "source": [
    "# Simple Example: A Single Categorical Predictor\n",
    "\n",
    "We will use the Iris data set again, with the categorical variable _Species_ to illustrate this type of regression model. Our response variable is still Petal Length (in centimeters)."
   ]
  },
  {
   "cell_type": "code",
   "execution_count": null,
   "id": "after-henry",
   "metadata": {},
   "outputs": [],
   "source": [
    "head(iris)   # See the first few rows of Iris data set\n"
   ]
  },
  {
   "cell_type": "markdown",
   "id": "atlantic-uncle",
   "metadata": {},
   "source": [
    "## Step 1. Exploratory Data Analysis (EDA)\n",
    "\n",
    "We have already performed exploratory data analysis for distribution of the response variable in previous lessons.  We proceed to re-examine the relationship between petal length and species.\n"
   ]
  },
  {
   "cell_type": "code",
   "execution_count": null,
   "id": "organized-serve",
   "metadata": {},
   "outputs": [],
   "source": [
    "boxplot(Petal.Length ~ Species, data=iris, main=\"Iris Petal Length by Species\", col=\"lightblue\")"
   ]
  },
  {
   "cell_type": "markdown",
   "id": "sticky-reality",
   "metadata": {},
   "source": [
    "## Step 2. The Linear Model\n",
    "\n",
    "Since there are 3 species, we can treat the first species (Setosa) as the \"default\" or \"baseline\" and define 2 additional variables for the other two species.  Then the _Species_ variable will be represented as follows by those 2 variables:\n",
    "\n",
    "| Species | versicolor | virginica |\n",
    "| ------- |:----------:|:---------:|\n",
    "| Setosa  |  0 | 0 |\n",
    "| Versicolor | 1 | 0 |\n",
    "| Virginica | 0 | 1 |\n",
    "\n",
    "Note the following about this system:\n",
    "\n",
    "- Even though there are three possible values for _Species_, we only need 2 variables. One value is always the baseline.\n",
    "- At MOST one of the binary variables will be set to 1, since the categorical variable can only have one of the possible values.\n",
    "\n",
    "R takes care of this coding when the predictor variable is a **_factor_**. Below we define a model that uses species as the independent variable (x) to predict petal length, the response variable (y)."
   ]
  },
  {
   "cell_type": "code",
   "execution_count": null,
   "id": "binary-coordination",
   "metadata": {},
   "outputs": [],
   "source": [
    "model_iris_02 <- lm(Petal.Length ~ Species, data = iris)\n",
    "model_iris_02"
   ]
  },
  {
   "cell_type": "markdown",
   "id": "fantastic-pilot",
   "metadata": {},
   "source": [
    "### Details to Analyze and Interpret in the Model\n",
    "\n",
    "#### a. Determine the Estimated Prediction Equation\n",
    "\n",
    "Notice that the output above is not a full model summary (we will examine the full summary later).  \n",
    "\n",
    "The output above is only the list of estimated coefficients: the intercept and **_two_** other coefficients. Our one categorical predictor gave us 2 variables in the prediction equation, so we can call the estimated coefficients $\\widehat{\\beta}_1$ and $\\widehat{\\beta}_2$, corresponding to _Speciesversicolor_ ($x_1$) and _Speciesvirginica_ ($x_2$), as shown in the output above.\n",
    "\n",
    "This **_estimated_** prediction equation is as follows:  \n",
    "$\\widehat{y}=a + b_1x_1 + b_2x_2$\n",
    "\n",
    "where \n",
    "- $a$ represents $\\widehat{\\beta}_0$, the estimated intercept; \n",
    "- $b_1$ represents $\\widehat{\\beta}_1$, the estimated coefficient for $x_1$; and \n",
    "- $b_2$ represents $\\widehat{\\beta}_2$, the estimated coefficient for $x_2$.  \n",
    "\n",
    "Using the values in the model summary, we see that the the estimated equation is \n",
    "\n",
    "$\\widehat{y} = 1.462 + 2.798x_1 + 4.09x_2$\n",
    "\n",
    "OR\n",
    "\n",
    "$\\widehat{Petal.Length} = 1.462 + 2.798Speciesversicolor + 4.09Speciesvirginica$"
   ]
  },
  {
   "cell_type": "markdown",
   "id": "embedded-prior",
   "metadata": {},
   "source": [
    "#### b. Interpret the Prediction Equation \n",
    "\n",
    "We can see in the output that there is a variable identifying the versicolor and the virginica species, but no variable for the setosa species.  This is consistent with the table of binary encoding shown previously:\n",
    "\n",
    "| Species | versicolor | virginica |\n",
    "| ------- |:----------:|:---------:|\n",
    "| Setosa  |  0 | 0 |\n",
    "| Versicolor | 1 | 0 |\n",
    "| Virginica | 0 | 1 |\n",
    "\n",
    "Using these codes with the prediction equation above, we can compute the following predicted petal lengths.\n",
    "\n",
    "| Species | Predicted Petal Length |    |\n",
    "| ------- |---------------------------------------------------------------:|:----|\n",
    "| Setosa  |  $\\widehat{y} = 1.462 + 2.798(0)$|$+$ $4.09(0) = 1.462$ |\n",
    "| Versicolor | $\\widehat{y} = 1.462 + 2.798(1)$|$+$ $4.09(0) = 4.26$  | \n",
    "| Virginica | $\\widehat{y} = 1.462 + 2.798(0)$|$+$ $4.09(1) = 5.552$ | \n",
    "\n",
    "We can also use the _predict_ command in R to compute model predictions:"
   ]
  },
  {
   "cell_type": "code",
   "execution_count": null,
   "id": "political-circus",
   "metadata": {},
   "outputs": [],
   "source": [
    "new_iris_data <- data.frame(Species = c(\"virginica\",\"setosa\",\"virginica\",\"versicolor\"))\n",
    "predict(model_iris_02, new_iris_data)"
   ]
  },
  {
   "cell_type": "markdown",
   "id": "smooth-spirituality",
   "metadata": {},
   "source": [
    "The plot below allows us to visualize the **_predicted_** petal length by species."
   ]
  },
  {
   "cell_type": "code",
   "execution_count": null,
   "id": "sonic-investor",
   "metadata": {},
   "outputs": [],
   "source": [
    "boxplot(Petal.Length ~ Species, data=iris, main=\"Iris Petal Length by Species\", col=\"lightblue\")\n",
    "segments(0.5,1.462,1.5,1.462,col=\"red\",lwd=3)\n",
    "segments(1.5,4.26,2.5,4.26,col=\"red\",lwd=3)\n",
    "segments(2.5,5.552,3.5,5.552,col=\"red\",lwd=3)\n",
    "legend(\"topleft\",\n",
    "       legend = \"Predicted\",\n",
    "       lwd = 3,\n",
    "       col = \"red\")"
   ]
  },
  {
   "cell_type": "markdown",
   "id": "intensive-humanity",
   "metadata": {},
   "source": [
    "##### More Insight: Another Type of Analysis\n",
    "\n",
    "When we use regression to predict a quantitative response variable using only a categorical predictor, we are actually just predicting the **_mean_** value for each group. (The groups are defined by the categorical variable.) In other words:\n",
    "\n",
    "- The mean petal length of setosa in this sample is 1.462\n",
    "- The mean petal length of versicolor in this sample is 4.26\n",
    "- The mean petal length of virginica in this sample is 5.552\n",
    "\n",
    "**Notice what this means** about the model coefficients:\n",
    "- The mean petal length of setosa in this sample is **_the intercept_**\n",
    "- The mean petal length of versicolor in this sample is **_the intercept + the versicolor coefficient_**\n",
    "- The mean petal length of virginica in this sample is **_the intercept + the virginica coefficient_**\n",
    "\n",
    "Another way to compare means across different groups is the ANOVA (Analysis of Variance) procedure. This procedure is carried out below."
   ]
  },
  {
   "cell_type": "code",
   "execution_count": null,
   "id": "ahead-consensus",
   "metadata": {},
   "outputs": [],
   "source": [
    "anova_iris <- aov(Petal.Length ~ Species, data=iris)\n",
    "model.tables(anova_iris,type=\"means\")"
   ]
  },
  {
   "cell_type": "markdown",
   "id": "hired-invalid",
   "metadata": {},
   "source": [
    "_**Notice** that the table shows the mean of each group, and **it matches the predicted mean given by the regression model**._\n",
    "\n",
    "#### c. Check Regression Model Assumptions\n",
    "\n",
    "The regression model assumptions examine the residuals against predicted values (also called \"fitted values\"). Therefore, we can use many of the same plots we used to check assumptions when the predictor was quantitative. The only difference appears in the 4th diagnostic plot, where leverage does not apply; instead, the fitted values are plotted against the different categories (factor levels).\n",
    "\n",
    "Also notice that because the regression can only predict 3 specific values (one for each species), the plots with fitted values have 3 vertical columns of points."
   ]
  },
  {
   "cell_type": "code",
   "execution_count": null,
   "id": "actual-edition",
   "metadata": {},
   "outputs": [],
   "source": [
    "plot(model_iris_02)"
   ]
  },
  {
   "cell_type": "markdown",
   "id": "according-butler",
   "metadata": {},
   "source": [
    "#### d. Evaluate Significance of Model\n",
    "\n",
    "Let's examine the summary of the linear regression model."
   ]
  },
  {
   "cell_type": "code",
   "execution_count": null,
   "id": "fifth-petersburg",
   "metadata": {},
   "outputs": [],
   "source": [
    "summary(model_iris_02)"
   ]
  },
  {
   "cell_type": "markdown",
   "id": "patient-coordinate",
   "metadata": {},
   "source": [
    "##### Significance of Coefficients\n",
    "\n",
    "There is a separate significance test for each coefficient to assess whether the data provide evidence of a relationship between that predictor and the response variable (Petal Length). Below is ONE such significance test:\n",
    "\n",
    "<center>\n",
    "$H_0: \\beta_{Sp.versicolor} = 0$\n",
    "</center>\n",
    "\n",
    "<center>\n",
    "$H_a: \\beta_{Sp.versicolor} \\ne 0$\n",
    "</center>\n",
    "\n",
    "This is a t-test.  As shown in the output above, $t = 32.51$ and $p \\approx 0$. Therefore, we reject the null hypothesis of no relationship, and we conclude that **_iris plants of species versicolor have significantly different petal length than those of the baseline species (setosa)_**.\n",
    "\n",
    "Note that a similar hypothesis test can be carried out for the **Speciesvirginica** coefficient.\n",
    "\n",
    "##### Significance of Model\n",
    "\n",
    "There is also an overall significance test for the model:\n",
    "<center>\n",
    "$H_0: \\beta_{Sp.versicolor} = \\beta_{Sp.virginica} = 0$\n",
    "</center>\n",
    "\n",
    "<center>\n",
    "$H_a:$ At least one $\\beta_{i}$ is not zero.\n",
    "</center>\n",
    "\n",
    "This test uses the $F$ distribution, which is a _family_ of distributions with TWO degrees of freedom. As shown in the last line of the above output, degrees of freedom are $p=2$ ($p$ is number of predictors in the model) and 147 ($n-p-1$). For these degrees of freedom, we see that $F = 1180$ and $p \\approx 0$.  Therefore, we reject the null hypothesis that ALL coefficients are zero, and conclude that at least one is non-zero.  This is equivalent to concluding that the model itself is significant."
   ]
  },
  {
   "cell_type": "markdown",
   "id": "impressive-constraint",
   "metadata": {},
   "source": [
    "##### More Insight: Revisiting ANOVA\n",
    "\n",
    "Recall the other analysis we carried out above using ANOVA. Below we examine the details from that model. "
   ]
  },
  {
   "cell_type": "code",
   "execution_count": null,
   "id": "environmental-europe",
   "metadata": {},
   "outputs": [],
   "source": [
    "model.tables(anova_iris,type=\"means\")"
   ]
  },
  {
   "cell_type": "markdown",
   "id": "speaking-assurance",
   "metadata": {},
   "source": [
    "The table output from this analysis gives us the individual group means and the overall or \"Grand\" mean, which we can visualize in the plot below."
   ]
  },
  {
   "cell_type": "code",
   "execution_count": null,
   "id": "wooden-shoot",
   "metadata": {},
   "outputs": [],
   "source": [
    "boxplot(Petal.Length ~ Species, data=iris, main=\"Iris Petal Length by Species\", col=\"lightblue\")\n",
    "segments(0.5,1.462,1.5,1.462,col=\"red\",lwd=3)\n",
    "segments(1.5,4.26,2.5,4.26,col=\"red\",lwd=3)\n",
    "segments(2.5,5.552,3.5,5.552,col=\"red\",lwd=3)\n",
    "abline(h=3.758, col=\"blue\", lty = 2, lwd=3)\n",
    "legend(\"topleft\",\n",
    "       legend = c(\"Group Means\", \"Grand Mean\"),\n",
    "       lwd = 3,\n",
    "       lty = c(1,2),\n",
    "       col = c(\"red\",\"blue\"))"
   ]
  },
  {
   "cell_type": "markdown",
   "id": "swedish-beijing",
   "metadata": {},
   "source": [
    "##### ANOVA: ANalysis Of VAriance \n",
    "\n",
    "The ANOVA statistical test is used to detect whether ANY statistically significant difference exists among means of multiple groups. In this example, the groups are the different species, and we are comparing the mean petal lengths. \n",
    "\n",
    "The hypotheses for this test are formatted as follows:  \n",
    "\n",
    "<center>\n",
    "$H_{0}: \\mu_1 = \\mu_2 = ... = \\mu_k$  \n",
    "</center>\n",
    "<center>\n",
    "$H_{a}: $ At least one $\\mu_i$ is different\n",
    "</center>\n",
    "\n",
    "The test statistic for this test is calculated using the following **RATIO**:  \n",
    "\n",
    "<center>\n",
    "$\\frac{MSG}{MSE}$\n",
    "</center>\n",
    "\n",
    "where $MSG$ represents the mean square variation **_between_** groups, and $MSE$ represents the mean square error **_within_** all groups combined.  \n",
    "\n",
    "The distribution of possible values for this ratio follows the **_F_** distribution. For the ANOVA test, the _numerator_ degrees of freedom (**df1**) and _denominator_ degrees of freedom (**df2**) are defined as follows:  \n",
    "\n",
    "<center>\n",
    "$df1 = k - 1$  \n",
    "</center>\n",
    "<center>\n",
    "$df2 = N - k$\n",
    "</center>\n",
    "\n",
    "where $k$ represents the number of **_groups_** and $N$ represents the _total combined sample size_.  \n",
    "\n",
    "The $MSG$ and $MSE$ are calculated by dividing the associated _Sum of Squares_ (**SS**) by the corresponding degrees of freedom:  \n",
    "<center>\n",
    "$MSG = \\frac{SSG}{df1}$  \n",
    "</center>\n",
    "<center>\n",
    "$MSE = \\frac{SSE}{df2}$\n",
    "</center>\n",
    "\n",
    "The Sum of Squares values are computed as follows.\n",
    "\n",
    "##### TOTAL Sum of Squares (SST)\n",
    "\n",
    "<center>\n",
    "$SST = \\left [  \\sum_{1}^{N}{({x}_i - \\overline{X}_G)^{2}} \\right ] = SSG + SSE$\n",
    "</center> \n",
    "\n",
    "##### Sum of Squares BETWEEN Groups (SSG)\n",
    "<center>\n",
    "$SSG = \\sum_{1}^{k}{n_i(\\overline{x}_i - \\overline{X}_G)^{2}}$  \n",
    "</center>\n",
    "\n",
    "##### Sum  of Squares WITHIN Groups (SSE)\n",
    "<center>\n",
    "$SSE = SST - SSG$\n",
    "</center>  \n",
    "\n",
    "where $n_i$ and $\\overline{x}_i$ represent the sample size and mean of each _subgroup_, and $\\overline{X}_G$ represents the \"_grand mean_\" of the combined data set.  \n",
    "\n",
    "\n",
    "The output from the ANOVA model shows these values: "
   ]
  },
  {
   "cell_type": "code",
   "execution_count": null,
   "id": "specific-virginia",
   "metadata": {},
   "outputs": [],
   "source": [
    "summary(anova_iris)"
   ]
  },
  {
   "cell_type": "markdown",
   "id": "stupid-herald",
   "metadata": {},
   "source": [
    "Values in the above table are rounded, but we can see them to more precision by printing the model itself:"
   ]
  },
  {
   "cell_type": "code",
   "execution_count": null,
   "id": "strange-corruption",
   "metadata": {},
   "outputs": [],
   "source": [
    "anova_iris"
   ]
  },
  {
   "cell_type": "markdown",
   "id": "capable-gnome",
   "metadata": {},
   "source": [
    "In this example, we have the following:\n",
    "\n",
    "<center>\n",
    "    $df1 = 3 - 1 = 2$\n",
    "</center>\n",
    "<br>\n",
    "<center>\n",
    "    $df2 = 150 - 3 = 147$   \n",
    "</center>\n",
    "<br>\n",
    "<center>\n",
    "    $SSG \\approx 437.1028 \\approx 437.1$   \n",
    "</center>\n",
    "<br>\n",
    "<center>\n",
    "    $SSE \\approx 27.2226 \\approx 27.2$   \n",
    "</center>\n",
    "<br>\n",
    "<center>\n",
    "    $MSG = \\frac{437.1028}{2} \\approx 218.5514 \\approx 218.55$   \n",
    "</center>\n",
    "<br>\n",
    "<center>\n",
    "    $MSE = \\frac{27.2226}{147} \\approx 0.18519 \\approx 0.19$   \n",
    "</center>\n",
    "<br>\n",
    "<center>\n",
    "    $F = \\frac{218.5514}{0.18519} \\approx 1180$   \n",
    "</center>"
   ]
  },
  {
   "cell_type": "markdown",
   "id": "southeast-albania",
   "metadata": {},
   "source": [
    "##### Comparison of the Linear Regression and ANOVA model\n",
    "\n",
    "Comparing the ANOVA to the Linear Regression model with a categorical predictor, we can observe the following directly from the figures in the model output above, where $p$ is the number of predictors in the model, and $k$ is the number of groups.\n",
    "\n",
    "|  | Linear Regression | Analysis of Variance (ANOVA) | Comparison |\n",
    "|:-----|:-----------------:|:----------------------:|:----------:|\n",
    "|$df1$| $p = 2$ | $k-1 = 2$| Equivalent|\n",
    "|$df2$| $n-p-1$ <br> $150-2-1$ <br> $147$| $n - k$ <br> $150 - 3$<br> $147$| Equivalent|\n",
    "|$F$| $1180$ | $1180$ | Equivalent |\n",
    "|Residual Std Error| $0.4303$ |$\\sqrt{MSE}$ <br> $\\sqrt{0.18519}$<br> $0.4303$| Equivalent | \n",
    "\n",
    "The two models are fully equivalent.  In fact, you could obtain the same ANOVA output directly from the linear model:\n"
   ]
  },
  {
   "cell_type": "code",
   "execution_count": null,
   "id": "anticipated-columbus",
   "metadata": {},
   "outputs": [],
   "source": [
    "anova(model_iris_02)"
   ]
  },
  {
   "cell_type": "markdown",
   "id": "active-memorial",
   "metadata": {},
   "source": [
    "##### e. Evaluate Predictive Value of the Model\n",
    "\n",
    "Recall that the $R^2$ value is the measure of how much variance in the response variable $y$ can be accounted for by the model. $R^2$ is specifically a measurement about the linear regression model; it does not apply to the ANOVA procedure that we conducted.\n",
    "\n",
    "In our model output, $R^2 = 0.9414$ indicating that this model accounts for 94.14% of the variation in petal length. Because having a categorical variable has introduced multiple predictors, the adjusted $R^2$ of $0.9406$ is often preferred as a measure of the model's predictive value, because it avoids the inflation that can occur with multiple predictors. Either way, this metric is about $0.94$.\n"
   ]
  },
  {
   "cell_type": "markdown",
   "id": "handed-oakland",
   "metadata": {},
   "source": [
    "# Followup Example: Combining Quantitative and Categorical Predictors\n",
    "\n",
    "As shown in the example below, a regression model can contain both categorical and quantitative predictors. "
   ]
  },
  {
   "cell_type": "code",
   "execution_count": null,
   "id": "educated-scheme",
   "metadata": {},
   "outputs": [],
   "source": [
    "model_iris_03 <- lm(Petal.Length ~ Species + Petal.Width, data = iris)\n",
    "summary(model_iris_03)"
   ]
  },
  {
   "cell_type": "markdown",
   "id": "quality-nylon",
   "metadata": {},
   "source": [
    "### Suggestion \n",
    "\n",
    "Use one or more code cells below to explore further. \n",
    "\n",
    "(_Hint: Try creating a model with Species AND one or more of the other quantitative features as predictors._)"
   ]
  },
  {
   "cell_type": "code",
   "execution_count": null,
   "id": "extensive-figure",
   "metadata": {},
   "outputs": [],
   "source": []
  }
 ],
 "metadata": {
  "kernelspec": {
   "display_name": "R",
   "language": "R",
   "name": "ir"
  },
  "language_info": {
   "codemirror_mode": "r",
   "file_extension": ".r",
   "mimetype": "text/x-r-source",
   "name": "R",
   "pygments_lexer": "r",
   "version": "4.0.3"
  }
 },
 "nbformat": 4,
 "nbformat_minor": 5
}
