{
 "cells": [
  {
   "cell_type": "markdown",
   "id": "ranging-amplifier",
   "metadata": {},
   "source": [
    "# MATH 3375 Examples Notebook #15\n",
    "\n",
    "# Support Vector Machines (SVM)\n",
    "\n",
    "We explore another algorithm for predicting classification (categorical response), using the **mtcars** and **iris** data sets.\n",
    "\n",
    "Again, our response variable is **am**, the transmission type, where 0=automatic, and 1=manual.\n"
   ]
  },
  {
   "cell_type": "code",
   "execution_count": null,
   "id": "absolute-anchor",
   "metadata": {},
   "outputs": [],
   "source": [
    "#install.packages(\"e1071\")\n",
    "library(e1071)"
   ]
  },
  {
   "cell_type": "code",
   "execution_count": null,
   "id": "flush-hungary",
   "metadata": {},
   "outputs": [],
   "source": [
    "#Look at data set\n",
    "head(mtcars)"
   ]
  },
  {
   "cell_type": "markdown",
   "id": "growing-establishment",
   "metadata": {},
   "source": [
    "## Another Way to Leverage 'Separation' of Data Points \n",
    "\n",
    "As before, we visualize 2 predictors of transmission type in a 2-dimensional plot, color-coding the points by transmission type. Our 2 predictors are displacement (**disp**) and rear axle ratio (**drat**)."
   ]
  },
  {
   "cell_type": "code",
   "execution_count": null,
   "id": "mobile-debate",
   "metadata": {},
   "outputs": [],
   "source": [
    "shapes = c(16,17)\n",
    "colors = c(\"red\", \"green\")\n",
    "plot(disp ~ drat, main=\"Displacement and Rear Axle Ratio by Transmission Type\", xlab=\"Rear Axle Ratio\", ylab=\"Displacement\",\n",
    "    col=colors[factor(mtcars$am)], pch=shapes[factor(mtcars$am)], data=mtcars)\n",
    "\n",
    "legend(\"topright\",\n",
    "       legend = c(\"Automatic\",\"Manual\"),\n",
    "       pch = shapes,\n",
    "       col = colors)"
   ]
  },
  {
   "cell_type": "markdown",
   "id": "sporting-wrapping",
   "metadata": {},
   "source": [
    "## Finding a _Decision Boundary_\n",
    "\n",
    "Below we create a simple **_Support Vector Machine (SVM)_** to create a _hyperplane_ between the two 2-dimensional regions. \n",
    "\n",
    "* The shape of the hyperplane is governed by the **_kernel_** used to create it. In this example, we use a linear kernel.\n",
    "* Because we are in 2 dimensions, the linear kernel will be a line; in 3 dimensions, it would be a plane. ('Hyperplane' is a general term that can apply in any number of dimensions.)\n",
    "* The hyperplane should maximize the overall distance between itself and the points being classified on either side.\n",
    "* Points on the 'wrong' side will penalize this overall distance."
   ]
  },
  {
   "cell_type": "code",
   "execution_count": null,
   "id": "ranging-passion",
   "metadata": {},
   "outputs": [],
   "source": [
    "subset_2d = data.frame(mtcars[,c(3,5)], y = as.factor(mtcars$am))\n",
    "model_svm_tran01 = svm(y ~ ., data = subset_2d, kernel = \"linear\")\n",
    "summary(model_svm_tran01)"
   ]
  },
  {
   "cell_type": "markdown",
   "id": "overall-tumor",
   "metadata": {},
   "source": [
    "### Characteristics of the Model\n",
    "\n",
    "* This is a **_parametric_** model (like regression); the model parameters define the boundary mathematically.\n",
    "* The 'support vectors' are the set of points in the data set that precisely fix the shape and position of the boundary (they are supporting structures holding the the boundary in its place). This is the origin of the term 'support vector' machine.\n",
    "* The above model summary describes the following:\n",
    "    * The model has a linear kernel\n",
    "    * The model is predicting one of two classes\n",
    "    * The model includes 14 of the data points to form the support vectors-- these are typically the points closest to the boundary\n",
    "    \n",
    "The plot below shows the data with an approximation of the decision boundary. This plot is only available when the model has 2 dimensions. \n",
    "\n",
    "In this plot, the COLOR of the points represents the **_actual_** classification (black=automatic, red=manual).\n",
    "\n",
    "The points that make up the \"support vectors\" are indicated with an _x_, while all other points are indicated with an o."
   ]
  },
  {
   "cell_type": "code",
   "execution_count": null,
   "id": "massive-vitamin",
   "metadata": {},
   "outputs": [],
   "source": [
    "plot(model_svm_tran01,subset_2d)"
   ]
  },
  {
   "cell_type": "markdown",
   "id": "informal-summary",
   "metadata": {},
   "source": [
    "### Changing the Kernel\n",
    "\n",
    "Below we create a second model with the same 2 dimensions (predictors) but a radial kernel."
   ]
  },
  {
   "cell_type": "code",
   "execution_count": null,
   "id": "underlying-relationship",
   "metadata": {},
   "outputs": [],
   "source": [
    "model_svm_tran02 = svm(y ~ ., data = subset_2d, kernel = \"radial\")\n",
    "summary(model_svm_tran02)"
   ]
  },
  {
   "cell_type": "code",
   "execution_count": null,
   "id": "appropriate-senator",
   "metadata": {},
   "outputs": [],
   "source": [
    "plot(model_svm_tran02,subset_2d)"
   ]
  },
  {
   "cell_type": "markdown",
   "id": "prostate-tomorrow",
   "metadata": {},
   "source": [
    "### Increasing the Dimensions\n",
    "\n",
    "Below we create a model using _all_ available features as predictors. This model will have 10 dimensions, so its decision boundary cannot be visualized.\n",
    "\n",
    "The **svm** command will select an appropriate kernel when one is not specified."
   ]
  },
  {
   "cell_type": "code",
   "execution_count": null,
   "id": "level-programming",
   "metadata": {},
   "outputs": [],
   "source": [
    "model_svm_tran03 <- svm(as.factor(am)~.,data=mtcars)\n",
    "summary(model_svm_tran03)"
   ]
  },
  {
   "cell_type": "markdown",
   "id": "damaged-jacksonville",
   "metadata": {},
   "source": [
    "## Comparing Model Performance\n",
    "\n",
    "Below we can see the predictions of all 3 models, alongside the actual classification. Recall that we are looking at **_in-sample_** performance here (these are only predictions on the training data)."
   ]
  },
  {
   "cell_type": "code",
   "execution_count": null,
   "id": "cooked-classification",
   "metadata": {},
   "outputs": [],
   "source": [
    "data.frame(Linear_2D=fitted(model_svm_tran01),Radial_2D=fitted(model_svm_tran02),\n",
    "           Radial_Full=fitted(model_svm_tran03),Actual=mtcars$am)"
   ]
  },
  {
   "cell_type": "markdown",
   "id": "solid-poster",
   "metadata": {},
   "source": [
    "### Confusion Matrices"
   ]
  },
  {
   "cell_type": "code",
   "execution_count": null,
   "id": "laden-james",
   "metadata": {},
   "outputs": [],
   "source": [
    "Actual <- mtcars$am\n",
    "Pred_2D_Linear <- fitted(model_svm_tran01)\n",
    "Pred_2D_Radial <- fitted(model_svm_tran02)\n",
    "Pred_Full_Radial <- fitted(model_svm_tran03)\n",
    "\n",
    "table(Pred_2D_Linear,Actual)\n",
    "table(Pred_2D_Radial,Actual)\n",
    "table(Pred_Full_Radial,Actual)"
   ]
  },
  {
   "cell_type": "markdown",
   "id": "right-cornwall",
   "metadata": {},
   "source": [
    "### Visualizing Model Performance\n",
    "\n",
    "The plots below convey visually the actual correct class of each point AND how the point was classified by the SVM. This way we can see the same information given in the confusion matrix (True and False Positives and Negatives) with more more context.  **_Note that the plot of the full model only represents the data points with TWO dimensions, even though the SVM and its predictions were made with 10._**\n",
    "\n",
    "The COLOR of the point indicates its **_actual_** classification (red=automatic, green=manual).\n",
    "\n",
    "The SHAPE of the point indicates its **_predicted_** class: o is automatic (negative), + is manual (positive)."
   ]
  },
  {
   "cell_type": "code",
   "execution_count": null,
   "id": "otherwise-rubber",
   "metadata": {},
   "outputs": [],
   "source": [
    "colors=c(\"red\",\"green\")\n",
    "symbols = as.integer(fitted(model_svm_tran01))\n",
    "\n",
    "plot(mtcars$drat,mtcars$disp, main = \"SVM Linear Kernel - 2 Predictors\",\n",
    "     col=colors[factor(mtcars$am)], pch = c(\"o\",\"+\")[symbols], cex=c(1.2,1.5)[symbols])\n",
    "\n",
    "legend(\"topright\",\n",
    "       legend = c(\"True Positive\",\"True Negative\",\"False Positive\",\"False Negative\"),\n",
    "       pch = c(\"+\",\"o\"),\n",
    "       col = colors[c(2,1,1,2)])"
   ]
  },
  {
   "cell_type": "code",
   "execution_count": null,
   "id": "becoming-window",
   "metadata": {},
   "outputs": [],
   "source": [
    "predicted = as.integer(fitted(model_svm_tran03))\n",
    "plot(mtcars$drat,mtcars$disp, main = \"SVM Radial Kernel with ALL Predictors\",\n",
    "     col=colors[factor(mtcars$am)], pch = c(\"o\",\"+\")[predicted], cex=c(1.2,1.5)[predicted])\n",
    "\n",
    "legend(\"topright\",\n",
    "       legend = c(\"True Positive\",\"True Negative\",\"False Positive\",\"False Negative\"),\n",
    "       pch = c(\"+\",\"o\"),\n",
    "       col = colors[c(2,1,1,2)])"
   ]
  },
  {
   "cell_type": "markdown",
   "id": "animated-thickness",
   "metadata": {},
   "source": [
    "## Support Vector Machine for More than Two Classes\n",
    "\n",
    "We will repeat the above process with the **iris** data set to predict Species, which has 3 possible classes. "
   ]
  },
  {
   "cell_type": "code",
   "execution_count": null,
   "id": "opponent-plenty",
   "metadata": {},
   "outputs": [],
   "source": [
    "head(iris)"
   ]
  },
  {
   "cell_type": "markdown",
   "id": "lightweight-scene",
   "metadata": {},
   "source": [
    "### Two Dimensions with Linear Kernel\n",
    "\n",
    "We will use the Petal Length and Sepal Width features as our two dimensions."
   ]
  },
  {
   "cell_type": "code",
   "execution_count": null,
   "id": "double-vietnamese",
   "metadata": {},
   "outputs": [],
   "source": [
    "shapes = c(15,16,17)\n",
    "colors = c(\"red\", \"blue\", \"mediumorchid\")\n",
    "plot(iris$Petal.Length,iris$Sepal.Width, main=\"Iris Dimensions by Species\", xlab=\"Petal Length\", ylab=\"Sepal Width\",\n",
    "    col=colors[factor(iris$Species)], pch=shapes[factor(iris$Species)])\n",
    "\n",
    "legend(\"topright\",\n",
    "       legend = levels(iris$Species),\n",
    "       pch = shapes,\n",
    "       col = colors)"
   ]
  },
  {
   "cell_type": "code",
   "execution_count": null,
   "id": "superior-kruger",
   "metadata": {},
   "outputs": [],
   "source": [
    "subset_2d = data.frame(iris[,c(2,3)], y = iris$Species)\n",
    "model_svm_iris01 = svm(y ~ ., data = subset_2d, kernel = \"linear\")\n",
    "summary(model_svm_iris01)"
   ]
  },
  {
   "cell_type": "code",
   "execution_count": null,
   "id": "laughing-depth",
   "metadata": {},
   "outputs": [],
   "source": [
    "plot(model_svm_iris01,subset_2d)"
   ]
  },
  {
   "cell_type": "markdown",
   "id": "northern-orbit",
   "metadata": {},
   "source": [
    "### Two Dimensions with Radial Kernel"
   ]
  },
  {
   "cell_type": "code",
   "execution_count": null,
   "id": "skilled-support",
   "metadata": {},
   "outputs": [],
   "source": [
    "model_svm_iris02 = svm(y ~ ., data = subset_2d, kernel = \"radial\")\n",
    "summary(model_svm_iris02)"
   ]
  },
  {
   "cell_type": "code",
   "execution_count": null,
   "id": "known-sword",
   "metadata": {},
   "outputs": [],
   "source": [
    "plot(model_svm_iris02,subset_2d)"
   ]
  },
  {
   "cell_type": "markdown",
   "id": "humanitarian-viewer",
   "metadata": {},
   "source": [
    "### Four Dimensions with Default Kernel"
   ]
  },
  {
   "cell_type": "code",
   "execution_count": null,
   "id": "driving-frank",
   "metadata": {},
   "outputs": [],
   "source": [
    "model_svm_iris03 = svm(Species ~ ., data = iris)\n",
    "summary(model_svm_iris03)"
   ]
  },
  {
   "cell_type": "markdown",
   "id": "occasional-niger",
   "metadata": {},
   "source": [
    "### Model Comparison"
   ]
  },
  {
   "cell_type": "code",
   "execution_count": null,
   "id": "reliable-hollywood",
   "metadata": {},
   "outputs": [],
   "source": [
    "data.frame(Linear_2D=fitted(model_svm_iris01),Radial_2D=fitted(model_svm_iris02),\n",
    "           Radial_Full=fitted(model_svm_iris03),Actual=iris$Species)"
   ]
  },
  {
   "cell_type": "markdown",
   "id": "verified-advancement",
   "metadata": {},
   "source": [
    "#### Confusion Matrices with More Than 2 Classes \n"
   ]
  },
  {
   "cell_type": "code",
   "execution_count": null,
   "id": "tracked-orange",
   "metadata": {},
   "outputs": [],
   "source": [
    "Actual <- iris$Species\n",
    "Pred_2D_Linear <- fitted(model_svm_iris01)\n",
    "Pred_2D_Radial <- fitted(model_svm_iris02)\n",
    "Pred_Full_Radial <- fitted(model_svm_iris03)\n",
    "\n",
    "table(Pred_2D_Linear,Actual)\n",
    "table(Pred_2D_Radial,Actual)\n",
    "table(Pred_Full_Radial,Actual)"
   ]
  },
  {
   "cell_type": "markdown",
   "id": "norman-charter",
   "metadata": {},
   "source": [
    "#### Differentiating Species by Each Predictor\n",
    "\n",
    "As with k_Nearest Neighbors, some dimensions will make a stronger contribution to the decision boundary by more clearly separating the data points."
   ]
  },
  {
   "cell_type": "markdown",
   "id": "short-connectivity",
   "metadata": {},
   "source": [
    "## Suggestion\n",
    "\n",
    "Divide the **iris** data set into a training and testing set.  Create k-Nearest Neighbors (kNN) and a Support Vector Machines (SVMs) to predict Species. Create models with the training set and test them with the test set.\n",
    "\n",
    "* Which variables are the most helpful to include in each model? \n",
    "* Which kernels give the best predictions? \n",
    "* Which model gives better predictions for this data set-- kNN or SVM?"
   ]
  },
  {
   "cell_type": "code",
   "execution_count": null,
   "id": "dressed-nickname",
   "metadata": {},
   "outputs": [],
   "source": []
  }
 ],
 "metadata": {
  "kernelspec": {
   "display_name": "R",
   "language": "R",
   "name": "ir"
  },
  "language_info": {
   "codemirror_mode": "r",
   "file_extension": ".r",
   "mimetype": "text/x-r-source",
   "name": "R",
   "pygments_lexer": "r",
   "version": "4.0.3"
  }
 },
 "nbformat": 4,
 "nbformat_minor": 5
}
