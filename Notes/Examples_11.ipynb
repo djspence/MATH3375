{
 "cells": [
  {
   "cell_type": "markdown",
   "id": "ranging-amplifier",
   "metadata": {},
   "source": [
    "# MATH 3375 Examples Notebook #11\n",
    "\n",
    "# Principal Components Analysis (PCA)\n",
    "\n",
    "We continue using the 2004 cars data set to examine Principal Components Analysis. \n"
   ]
  },
  {
   "cell_type": "code",
   "execution_count": null,
   "id": "flush-hungary",
   "metadata": {},
   "outputs": [],
   "source": [
    "#Look at data set\n",
    "car_data <- read.csv(\"cars2004.csv\", stringsAsFactors=TRUE)\n",
    "head(car_data,3)"
   ]
  },
  {
   "cell_type": "markdown",
   "id": "hungry-technician",
   "metadata": {},
   "source": [
    "## Prepare Data\n",
    "\n",
    "Because PCA can only be used on quantitative data, we remove the categorical features from the data set. For this example, we also remove variables that have missing data.  To make our results easier to visualize, we are using the categorical features to uniquely 'name' each row."
   ]
  },
  {
   "cell_type": "code",
   "execution_count": null,
   "id": "wireless-arlington",
   "metadata": {},
   "outputs": [],
   "source": [
    "#Drop non-numeric columns and columns with missing data\n",
    "rownames(car_data) <- paste(car_data[,1],car_data[,2],car_data[,3])\n",
    "car_data <- car_data[,-c(1:3,13,14)]\n",
    "head(car_data,3)"
   ]
  },
  {
   "cell_type": "markdown",
   "id": "growing-establishment",
   "metadata": {},
   "source": [
    "## Implementation of PCA with Base R Library\n",
    "\n",
    "Below we show a basic implementation Principal Component Analysis using functions in the Base R library.\n",
    "\n",
    "Note the following:\n",
    "\n",
    "* **_Because we plan to predict MSRP using the principal components,_** MSRP has been omitted from the feature set for the analysis.\n",
    "* The data should be scaled for PCA, and the **prcomp** function will do this if we set the **scale** parameter to TRUE.\n",
    "* Other R libraries are available with more features and different variants of implementation."
   ]
  },
  {
   "cell_type": "code",
   "execution_count": null,
   "id": "mobile-debate",
   "metadata": {},
   "outputs": [],
   "source": [
    "pca_results <- prcomp(car_data[,-1],scale=TRUE)\n",
    "head(pca_results$x)"
   ]
  },
  {
   "cell_type": "markdown",
   "id": "sealed-screen",
   "metadata": {},
   "source": [
    "### Principal Components - New \"Features\"\n",
    "\n",
    "The output above shows how PCA has created new columns of 'features', PC1 through PC9.  Because of the way PCA works, we know that PC1 will have the most explanatory power, PC2 the second most, and so on. We also know that there is no collinearity among any of the components. We can visualize that by plotting a correlation matrix of the components."
   ]
  },
  {
   "cell_type": "code",
   "execution_count": null,
   "id": "southern-switzerland",
   "metadata": {},
   "outputs": [],
   "source": [
    "plot(data.frame(pca_results$x))"
   ]
  },
  {
   "cell_type": "markdown",
   "id": "above-travel",
   "metadata": {},
   "source": [
    "### Variable Loadings in the Principal Components\n",
    "\n",
    "The _rotation_ matrix allows us to see the **_loading_** of each original variable in each of the principal components. This helps us to see the composition of each component numerically."
   ]
  },
  {
   "cell_type": "code",
   "execution_count": null,
   "id": "alone-sailing",
   "metadata": {},
   "outputs": [],
   "source": [
    "pca_results$rotation"
   ]
  },
  {
   "cell_type": "markdown",
   "id": "amazing-letter",
   "metadata": {},
   "source": [
    "### Variance Explained by Each Component\n",
    "\n",
    "Of all the variance present in all features combined, we can see the proportion explained by each individual component. Note that this does NOT include the proportion of variance in MSRP, which is the response variable, so it is not a direct link to $R^2$ in the regression models we will create later."
   ]
  },
  {
   "cell_type": "code",
   "execution_count": null,
   "id": "unusual-fight",
   "metadata": {},
   "outputs": [],
   "source": [
    "pca_var <- data.frame(pca_results$sdev^2 / sum(pca_results$sdev^2))\n",
    "rownames(pca_var) <- paste(\"PC\",as.character(1:8))\n",
    "pca_var\n"
   ]
  },
  {
   "cell_type": "markdown",
   "id": "chronic-perspective",
   "metadata": {},
   "source": [
    "\n",
    "### Regression Models with Principal Components as Predictors\n",
    "\n",
    "Recall that PC1 captures most of the variability across all the original features combined; PC2 captures the second most, and so on.  \n",
    "\n",
    "Below, we look at several models, starting with one that only uses PC1 as a predictor, then adding components, _**in order**_. Notice how each component affects the model when it is added.\n"
   ]
  },
  {
   "cell_type": "code",
   "execution_count": null,
   "id": "outdoor-collins",
   "metadata": {},
   "outputs": [],
   "source": [
    "MSRP_pca_model1 <- lm(car_data$MSRP ~ pca_results$x[,'PC1'])\n",
    "summary(MSRP_pca_model1)"
   ]
  },
  {
   "cell_type": "code",
   "execution_count": null,
   "id": "emotional-corporation",
   "metadata": {},
   "outputs": [],
   "source": [
    "MSRP_pca_model2 <- lm(car_data$MSRP ~ pca_results$x[,1:2])\n",
    "summary(MSRP_pca_model2)"
   ]
  },
  {
   "cell_type": "code",
   "execution_count": null,
   "id": "binary-cooler",
   "metadata": {},
   "outputs": [],
   "source": [
    "MSRP_pca_model3 <- lm(car_data$MSRP ~ pca_results$x[,1:3])\n",
    "summary(MSRP_pca_model3)"
   ]
  },
  {
   "cell_type": "code",
   "execution_count": null,
   "id": "integrated-reality",
   "metadata": {},
   "outputs": [],
   "source": [
    "MSRP_pca_model4 <- lm(car_data$MSRP ~ pca_results$x[,1:4])\n",
    "summary(MSRP_pca_model4)"
   ]
  },
  {
   "cell_type": "code",
   "execution_count": null,
   "id": "large-acrylic",
   "metadata": {},
   "outputs": [],
   "source": [
    "MSRP_pca_model_full <- lm(car_data$MSRP ~ pca_results$x)\n",
    "summary(MSRP_pca_model_full)"
   ]
  },
  {
   "cell_type": "markdown",
   "id": "spiritual-composition",
   "metadata": {},
   "source": [
    "### Comparing the Regression Models\n",
    "\n",
    "The first 2 principal components explain 90% of the variance in MSRP, and the first 4 components explain almost 97%. Even though they are statistically significant, the last 4 components could be dropped to achieve simplicity without sacrificing much explanatory power in the model."
   ]
  }
 ],
 "metadata": {
  "kernelspec": {
   "display_name": "R",
   "language": "R",
   "name": "ir"
  },
  "language_info": {
   "codemirror_mode": "r",
   "file_extension": ".r",
   "mimetype": "text/x-r-source",
   "name": "R",
   "pygments_lexer": "r",
   "version": "4.0.3"
  }
 },
 "nbformat": 4,
 "nbformat_minor": 5
}
