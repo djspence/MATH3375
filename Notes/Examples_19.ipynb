{
 "cells": [
  {
   "cell_type": "markdown",
   "id": "ranging-amplifier",
   "metadata": {},
   "source": [
    "# MATH 3375 Examples Notebook #19\n",
    "\n",
    "# Bootstrap Samples and Ensemble Methods: Bagging and Random Forests\n",
    "\n",
    "**_Ensemble methods_** take the average prediction of multiple models:\n",
    "* For continuous (quantitative) response variable: mean or weighted mean of predicted value from all models\n",
    "* For classification: majority \"vote\" of the the predicted class from all models\n",
    "\n",
    "This has the effect of:\n",
    "* Reducing variance\n",
    "* Reducing the effect of any one model being overfit \n",
    "* Improving prediction overall\n",
    "\n",
    "We will illustrate with the **iris** data set.\n"
   ]
  },
  {
   "cell_type": "code",
   "execution_count": 9,
   "id": "flush-hungary",
   "metadata": {},
   "outputs": [
    {
     "data": {
      "text/html": [
       "<table>\n",
       "<caption>A data.frame: 6 × 5</caption>\n",
       "<thead>\n",
       "\t<tr><th></th><th scope=col>Sepal.Length</th><th scope=col>Sepal.Width</th><th scope=col>Petal.Length</th><th scope=col>Petal.Width</th><th scope=col>Species</th></tr>\n",
       "\t<tr><th></th><th scope=col>&lt;dbl&gt;</th><th scope=col>&lt;dbl&gt;</th><th scope=col>&lt;dbl&gt;</th><th scope=col>&lt;dbl&gt;</th><th scope=col>&lt;fct&gt;</th></tr>\n",
       "</thead>\n",
       "<tbody>\n",
       "\t<tr><th scope=row>1</th><td>5.1</td><td>3.5</td><td>1.4</td><td>0.2</td><td>setosa</td></tr>\n",
       "\t<tr><th scope=row>2</th><td>4.9</td><td>3.0</td><td>1.4</td><td>0.2</td><td>setosa</td></tr>\n",
       "\t<tr><th scope=row>3</th><td>4.7</td><td>3.2</td><td>1.3</td><td>0.2</td><td>setosa</td></tr>\n",
       "\t<tr><th scope=row>4</th><td>4.6</td><td>3.1</td><td>1.5</td><td>0.2</td><td>setosa</td></tr>\n",
       "\t<tr><th scope=row>5</th><td>5.0</td><td>3.6</td><td>1.4</td><td>0.2</td><td>setosa</td></tr>\n",
       "\t<tr><th scope=row>6</th><td>5.4</td><td>3.9</td><td>1.7</td><td>0.4</td><td>setosa</td></tr>\n",
       "</tbody>\n",
       "</table>\n"
      ],
      "text/latex": [
       "A data.frame: 6 × 5\n",
       "\\begin{tabular}{r|lllll}\n",
       "  & Sepal.Length & Sepal.Width & Petal.Length & Petal.Width & Species\\\\\n",
       "  & <dbl> & <dbl> & <dbl> & <dbl> & <fct>\\\\\n",
       "\\hline\n",
       "\t1 & 5.1 & 3.5 & 1.4 & 0.2 & setosa\\\\\n",
       "\t2 & 4.9 & 3.0 & 1.4 & 0.2 & setosa\\\\\n",
       "\t3 & 4.7 & 3.2 & 1.3 & 0.2 & setosa\\\\\n",
       "\t4 & 4.6 & 3.1 & 1.5 & 0.2 & setosa\\\\\n",
       "\t5 & 5.0 & 3.6 & 1.4 & 0.2 & setosa\\\\\n",
       "\t6 & 5.4 & 3.9 & 1.7 & 0.4 & setosa\\\\\n",
       "\\end{tabular}\n"
      ],
      "text/markdown": [
       "\n",
       "A data.frame: 6 × 5\n",
       "\n",
       "| <!--/--> | Sepal.Length &lt;dbl&gt; | Sepal.Width &lt;dbl&gt; | Petal.Length &lt;dbl&gt; | Petal.Width &lt;dbl&gt; | Species &lt;fct&gt; |\n",
       "|---|---|---|---|---|---|\n",
       "| 1 | 5.1 | 3.5 | 1.4 | 0.2 | setosa |\n",
       "| 2 | 4.9 | 3.0 | 1.4 | 0.2 | setosa |\n",
       "| 3 | 4.7 | 3.2 | 1.3 | 0.2 | setosa |\n",
       "| 4 | 4.6 | 3.1 | 1.5 | 0.2 | setosa |\n",
       "| 5 | 5.0 | 3.6 | 1.4 | 0.2 | setosa |\n",
       "| 6 | 5.4 | 3.9 | 1.7 | 0.4 | setosa |\n",
       "\n"
      ],
      "text/plain": [
       "  Sepal.Length Sepal.Width Petal.Length Petal.Width Species\n",
       "1 5.1          3.5         1.4          0.2         setosa \n",
       "2 4.9          3.0         1.4          0.2         setosa \n",
       "3 4.7          3.2         1.3          0.2         setosa \n",
       "4 4.6          3.1         1.5          0.2         setosa \n",
       "5 5.0          3.6         1.4          0.2         setosa \n",
       "6 5.4          3.9         1.7          0.4         setosa "
      ]
     },
     "metadata": {},
     "output_type": "display_data"
    },
    {
     "data": {
      "text/plain": [
       "  Sepal.Length    Sepal.Width     Petal.Length    Petal.Width   \n",
       " Min.   :4.300   Min.   :2.000   Min.   :1.000   Min.   :0.100  \n",
       " 1st Qu.:5.100   1st Qu.:2.800   1st Qu.:1.600   1st Qu.:0.300  \n",
       " Median :5.800   Median :3.000   Median :4.350   Median :1.300  \n",
       " Mean   :5.843   Mean   :3.057   Mean   :3.758   Mean   :1.199  \n",
       " 3rd Qu.:6.400   3rd Qu.:3.300   3rd Qu.:5.100   3rd Qu.:1.800  \n",
       " Max.   :7.900   Max.   :4.400   Max.   :6.900   Max.   :2.500  \n",
       "       Species  \n",
       " setosa    :50  \n",
       " versicolor:50  \n",
       " virginica :50  \n",
       "                \n",
       "                \n",
       "                "
      ]
     },
     "metadata": {},
     "output_type": "display_data"
    }
   ],
   "source": [
    "#Look at data set\n",
    "head(iris)"
   ]
  },
  {
   "cell_type": "markdown",
   "id": "industrial-understanding",
   "metadata": {},
   "source": [
    "## Generating More Samples for Training: Bootstrap Samples\n",
    "\n",
    "To create multiple models, we need more than one training data set. Rather than subdivide the one data set we have into smaller samples, we can leverage the power of **bootstrapping** to create many samples that are just as large as our full original data set. Each 'bootstrap sample' is created by sampling _**with replacement**_ from the original data set. It represents what _another_ sample from the same population **_could_** look like.\n",
    "\n",
    "An example is given below. The iris data set has 150 records.  We create a list of row numbers (**idx**) to create another set of 150, but it is not identical to the original, because some rows may be chosen multiple times, while others may not be chosen at all. The ability to choose rows more than once is the result of sampling with replacement. "
   ]
  },
  {
   "cell_type": "markdown",
   "id": "earned-investing",
   "metadata": {},
   "source": [
    "### Sample Row Numbers with Replacement\n",
    "\n",
    "The first step is to sample the possible row numbers with replacement to identify which rows will be included in the bootstrap sample. (Note that the row numbers are NOT selected in order, but they are displayed in order to make it easier to see which row numbers were included multiple times, and which were not included at all.)"
   ]
  },
  {
   "cell_type": "code",
   "execution_count": 3,
   "id": "significant-dragon",
   "metadata": {},
   "outputs": [
    {
     "data": {
      "text/html": [
       "<style>\n",
       ".list-inline {list-style: none; margin:0; padding: 0}\n",
       ".list-inline>li {display: inline-block}\n",
       ".list-inline>li:not(:last-child)::after {content: \"\\00b7\"; padding: 0 .5ex}\n",
       "</style>\n",
       "<ol class=list-inline><li>1</li><li>1</li><li>2</li><li>5</li><li>5</li><li>6</li><li>7</li><li>7</li><li>7</li><li>7</li><li>8</li><li>9</li><li>10</li><li>10</li><li>10</li><li>11</li><li>12</li><li>13</li><li>13</li><li>14</li><li>14</li><li>15</li><li>15</li><li>16</li><li>18</li><li>21</li><li>21</li><li>24</li><li>24</li><li>28</li><li>28</li><li>28</li><li>29</li><li>29</li><li>29</li><li>30</li><li>31</li><li>31</li><li>32</li><li>35</li><li>36</li><li>37</li><li>38</li><li>39</li><li>41</li><li>42</li><li>42</li><li>45</li><li>45</li><li>45</li><li>46</li><li>49</li><li>50</li><li>52</li><li>55</li><li>55</li><li>57</li><li>59</li><li>61</li><li>61</li><li>61</li><li>62</li><li>64</li><li>65</li><li>67</li><li>68</li><li>69</li><li>70</li><li>70</li><li>71</li><li>71</li><li>72</li><li>73</li><li>73</li><li>75</li><li>76</li><li>76</li><li>79</li><li>80</li><li>81</li><li>81</li><li>82</li><li>85</li><li>88</li><li>88</li><li>89</li><li>90</li><li>90</li><li>92</li><li>92</li><li>96</li><li>100</li><li>100</li><li>100</li><li>101</li><li>102</li><li>102</li><li>103</li><li>106</li><li>110</li><li>112</li><li>112</li><li>113</li><li>113</li><li>113</li><li>115</li><li>116</li><li>117</li><li>117</li><li>118</li><li>119</li><li>120</li><li>121</li><li>123</li><li>124</li><li>125</li><li>125</li><li>125</li><li>126</li><li>127</li><li>127</li><li>128</li><li>130</li><li>130</li><li>131</li><li>131</li><li>131</li><li>132</li><li>132</li><li>132</li><li>133</li><li>134</li><li>134</li><li>135</li><li>136</li><li>137</li><li>140</li><li>140</li><li>141</li><li>141</li><li>145</li><li>147</li><li>148</li><li>148</li><li>148</li><li>149</li><li>149</li><li>149</li><li>150</li><li>150</li></ol>\n"
      ],
      "text/latex": [
       "\\begin{enumerate*}\n",
       "\\item 1\n",
       "\\item 1\n",
       "\\item 2\n",
       "\\item 5\n",
       "\\item 5\n",
       "\\item 6\n",
       "\\item 7\n",
       "\\item 7\n",
       "\\item 7\n",
       "\\item 7\n",
       "\\item 8\n",
       "\\item 9\n",
       "\\item 10\n",
       "\\item 10\n",
       "\\item 10\n",
       "\\item 11\n",
       "\\item 12\n",
       "\\item 13\n",
       "\\item 13\n",
       "\\item 14\n",
       "\\item 14\n",
       "\\item 15\n",
       "\\item 15\n",
       "\\item 16\n",
       "\\item 18\n",
       "\\item 21\n",
       "\\item 21\n",
       "\\item 24\n",
       "\\item 24\n",
       "\\item 28\n",
       "\\item 28\n",
       "\\item 28\n",
       "\\item 29\n",
       "\\item 29\n",
       "\\item 29\n",
       "\\item 30\n",
       "\\item 31\n",
       "\\item 31\n",
       "\\item 32\n",
       "\\item 35\n",
       "\\item 36\n",
       "\\item 37\n",
       "\\item 38\n",
       "\\item 39\n",
       "\\item 41\n",
       "\\item 42\n",
       "\\item 42\n",
       "\\item 45\n",
       "\\item 45\n",
       "\\item 45\n",
       "\\item 46\n",
       "\\item 49\n",
       "\\item 50\n",
       "\\item 52\n",
       "\\item 55\n",
       "\\item 55\n",
       "\\item 57\n",
       "\\item 59\n",
       "\\item 61\n",
       "\\item 61\n",
       "\\item 61\n",
       "\\item 62\n",
       "\\item 64\n",
       "\\item 65\n",
       "\\item 67\n",
       "\\item 68\n",
       "\\item 69\n",
       "\\item 70\n",
       "\\item 70\n",
       "\\item 71\n",
       "\\item 71\n",
       "\\item 72\n",
       "\\item 73\n",
       "\\item 73\n",
       "\\item 75\n",
       "\\item 76\n",
       "\\item 76\n",
       "\\item 79\n",
       "\\item 80\n",
       "\\item 81\n",
       "\\item 81\n",
       "\\item 82\n",
       "\\item 85\n",
       "\\item 88\n",
       "\\item 88\n",
       "\\item 89\n",
       "\\item 90\n",
       "\\item 90\n",
       "\\item 92\n",
       "\\item 92\n",
       "\\item 96\n",
       "\\item 100\n",
       "\\item 100\n",
       "\\item 100\n",
       "\\item 101\n",
       "\\item 102\n",
       "\\item 102\n",
       "\\item 103\n",
       "\\item 106\n",
       "\\item 110\n",
       "\\item 112\n",
       "\\item 112\n",
       "\\item 113\n",
       "\\item 113\n",
       "\\item 113\n",
       "\\item 115\n",
       "\\item 116\n",
       "\\item 117\n",
       "\\item 117\n",
       "\\item 118\n",
       "\\item 119\n",
       "\\item 120\n",
       "\\item 121\n",
       "\\item 123\n",
       "\\item 124\n",
       "\\item 125\n",
       "\\item 125\n",
       "\\item 125\n",
       "\\item 126\n",
       "\\item 127\n",
       "\\item 127\n",
       "\\item 128\n",
       "\\item 130\n",
       "\\item 130\n",
       "\\item 131\n",
       "\\item 131\n",
       "\\item 131\n",
       "\\item 132\n",
       "\\item 132\n",
       "\\item 132\n",
       "\\item 133\n",
       "\\item 134\n",
       "\\item 134\n",
       "\\item 135\n",
       "\\item 136\n",
       "\\item 137\n",
       "\\item 140\n",
       "\\item 140\n",
       "\\item 141\n",
       "\\item 141\n",
       "\\item 145\n",
       "\\item 147\n",
       "\\item 148\n",
       "\\item 148\n",
       "\\item 148\n",
       "\\item 149\n",
       "\\item 149\n",
       "\\item 149\n",
       "\\item 150\n",
       "\\item 150\n",
       "\\end{enumerate*}\n"
      ],
      "text/markdown": [
       "1. 1\n",
       "2. 1\n",
       "3. 2\n",
       "4. 5\n",
       "5. 5\n",
       "6. 6\n",
       "7. 7\n",
       "8. 7\n",
       "9. 7\n",
       "10. 7\n",
       "11. 8\n",
       "12. 9\n",
       "13. 10\n",
       "14. 10\n",
       "15. 10\n",
       "16. 11\n",
       "17. 12\n",
       "18. 13\n",
       "19. 13\n",
       "20. 14\n",
       "21. 14\n",
       "22. 15\n",
       "23. 15\n",
       "24. 16\n",
       "25. 18\n",
       "26. 21\n",
       "27. 21\n",
       "28. 24\n",
       "29. 24\n",
       "30. 28\n",
       "31. 28\n",
       "32. 28\n",
       "33. 29\n",
       "34. 29\n",
       "35. 29\n",
       "36. 30\n",
       "37. 31\n",
       "38. 31\n",
       "39. 32\n",
       "40. 35\n",
       "41. 36\n",
       "42. 37\n",
       "43. 38\n",
       "44. 39\n",
       "45. 41\n",
       "46. 42\n",
       "47. 42\n",
       "48. 45\n",
       "49. 45\n",
       "50. 45\n",
       "51. 46\n",
       "52. 49\n",
       "53. 50\n",
       "54. 52\n",
       "55. 55\n",
       "56. 55\n",
       "57. 57\n",
       "58. 59\n",
       "59. 61\n",
       "60. 61\n",
       "61. 61\n",
       "62. 62\n",
       "63. 64\n",
       "64. 65\n",
       "65. 67\n",
       "66. 68\n",
       "67. 69\n",
       "68. 70\n",
       "69. 70\n",
       "70. 71\n",
       "71. 71\n",
       "72. 72\n",
       "73. 73\n",
       "74. 73\n",
       "75. 75\n",
       "76. 76\n",
       "77. 76\n",
       "78. 79\n",
       "79. 80\n",
       "80. 81\n",
       "81. 81\n",
       "82. 82\n",
       "83. 85\n",
       "84. 88\n",
       "85. 88\n",
       "86. 89\n",
       "87. 90\n",
       "88. 90\n",
       "89. 92\n",
       "90. 92\n",
       "91. 96\n",
       "92. 100\n",
       "93. 100\n",
       "94. 100\n",
       "95. 101\n",
       "96. 102\n",
       "97. 102\n",
       "98. 103\n",
       "99. 106\n",
       "100. 110\n",
       "101. 112\n",
       "102. 112\n",
       "103. 113\n",
       "104. 113\n",
       "105. 113\n",
       "106. 115\n",
       "107. 116\n",
       "108. 117\n",
       "109. 117\n",
       "110. 118\n",
       "111. 119\n",
       "112. 120\n",
       "113. 121\n",
       "114. 123\n",
       "115. 124\n",
       "116. 125\n",
       "117. 125\n",
       "118. 125\n",
       "119. 126\n",
       "120. 127\n",
       "121. 127\n",
       "122. 128\n",
       "123. 130\n",
       "124. 130\n",
       "125. 131\n",
       "126. 131\n",
       "127. 131\n",
       "128. 132\n",
       "129. 132\n",
       "130. 132\n",
       "131. 133\n",
       "132. 134\n",
       "133. 134\n",
       "134. 135\n",
       "135. 136\n",
       "136. 137\n",
       "137. 140\n",
       "138. 140\n",
       "139. 141\n",
       "140. 141\n",
       "141. 145\n",
       "142. 147\n",
       "143. 148\n",
       "144. 148\n",
       "145. 148\n",
       "146. 149\n",
       "147. 149\n",
       "148. 149\n",
       "149. 150\n",
       "150. 150\n",
       "\n",
       "\n"
      ],
      "text/plain": [
       "  [1]   1   1   2   5   5   6   7   7   7   7   8   9  10  10  10  11  12  13\n",
       " [19]  13  14  14  15  15  16  18  21  21  24  24  28  28  28  29  29  29  30\n",
       " [37]  31  31  32  35  36  37  38  39  41  42  42  45  45  45  46  49  50  52\n",
       " [55]  55  55  57  59  61  61  61  62  64  65  67  68  69  70  70  71  71  72\n",
       " [73]  73  73  75  76  76  79  80  81  81  82  85  88  88  89  90  90  92  92\n",
       " [91]  96 100 100 100 101 102 102 103 106 110 112 112 113 113 113 115 116 117\n",
       "[109] 117 118 119 120 121 123 124 125 125 125 126 127 127 128 130 130 131 131\n",
       "[127] 131 132 132 132 133 134 134 135 136 137 140 140 141 141 145 147 148 148\n",
       "[145] 148 149 149 149 150 150"
      ]
     },
     "metadata": {},
     "output_type": "display_data"
    }
   ],
   "source": [
    "#Choose rows for bootstrap sample\n",
    "set.seed(3375)\n",
    "idx <- sample(1:nrow(iris),nrow(iris),replace=TRUE)\n",
    "sort(idx)"
   ]
  },
  {
   "cell_type": "markdown",
   "id": "ultimate-award",
   "metadata": {},
   "source": [
    "### Use Row Numbers to Create Sample"
   ]
  },
  {
   "cell_type": "code",
   "execution_count": 4,
   "id": "damaged-monitoring",
   "metadata": {},
   "outputs": [
    {
     "data": {
      "text/html": [
       "<table>\n",
       "<caption>A data.frame: 6 × 5</caption>\n",
       "<thead>\n",
       "\t<tr><th></th><th scope=col>Sepal.Length</th><th scope=col>Sepal.Width</th><th scope=col>Petal.Length</th><th scope=col>Petal.Width</th><th scope=col>Species</th></tr>\n",
       "\t<tr><th></th><th scope=col>&lt;dbl&gt;</th><th scope=col>&lt;dbl&gt;</th><th scope=col>&lt;dbl&gt;</th><th scope=col>&lt;dbl&gt;</th><th scope=col>&lt;fct&gt;</th></tr>\n",
       "</thead>\n",
       "<tbody>\n",
       "\t<tr><th scope=row>7</th><td>4.6</td><td>3.4</td><td>1.4</td><td>0.3</td><td>setosa    </td></tr>\n",
       "\t<tr><th scope=row>149</th><td>6.2</td><td>3.4</td><td>5.4</td><td>2.3</td><td>virginica </td></tr>\n",
       "\t<tr><th scope=row>92</th><td>6.1</td><td>3.0</td><td>4.6</td><td>1.4</td><td>versicolor</td></tr>\n",
       "\t<tr><th scope=row>8</th><td>5.0</td><td>3.4</td><td>1.5</td><td>0.2</td><td>setosa    </td></tr>\n",
       "\t<tr><th scope=row>37</th><td>5.5</td><td>3.5</td><td>1.3</td><td>0.2</td><td>setosa    </td></tr>\n",
       "\t<tr><th scope=row>73</th><td>6.3</td><td>2.5</td><td>4.9</td><td>1.5</td><td>versicolor</td></tr>\n",
       "</tbody>\n",
       "</table>\n"
      ],
      "text/latex": [
       "A data.frame: 6 × 5\n",
       "\\begin{tabular}{r|lllll}\n",
       "  & Sepal.Length & Sepal.Width & Petal.Length & Petal.Width & Species\\\\\n",
       "  & <dbl> & <dbl> & <dbl> & <dbl> & <fct>\\\\\n",
       "\\hline\n",
       "\t7 & 4.6 & 3.4 & 1.4 & 0.3 & setosa    \\\\\n",
       "\t149 & 6.2 & 3.4 & 5.4 & 2.3 & virginica \\\\\n",
       "\t92 & 6.1 & 3.0 & 4.6 & 1.4 & versicolor\\\\\n",
       "\t8 & 5.0 & 3.4 & 1.5 & 0.2 & setosa    \\\\\n",
       "\t37 & 5.5 & 3.5 & 1.3 & 0.2 & setosa    \\\\\n",
       "\t73 & 6.3 & 2.5 & 4.9 & 1.5 & versicolor\\\\\n",
       "\\end{tabular}\n"
      ],
      "text/markdown": [
       "\n",
       "A data.frame: 6 × 5\n",
       "\n",
       "| <!--/--> | Sepal.Length &lt;dbl&gt; | Sepal.Width &lt;dbl&gt; | Petal.Length &lt;dbl&gt; | Petal.Width &lt;dbl&gt; | Species &lt;fct&gt; |\n",
       "|---|---|---|---|---|---|\n",
       "| 7 | 4.6 | 3.4 | 1.4 | 0.3 | setosa     |\n",
       "| 149 | 6.2 | 3.4 | 5.4 | 2.3 | virginica  |\n",
       "| 92 | 6.1 | 3.0 | 4.6 | 1.4 | versicolor |\n",
       "| 8 | 5.0 | 3.4 | 1.5 | 0.2 | setosa     |\n",
       "| 37 | 5.5 | 3.5 | 1.3 | 0.2 | setosa     |\n",
       "| 73 | 6.3 | 2.5 | 4.9 | 1.5 | versicolor |\n",
       "\n"
      ],
      "text/plain": [
       "    Sepal.Length Sepal.Width Petal.Length Petal.Width Species   \n",
       "7   4.6          3.4         1.4          0.3         setosa    \n",
       "149 6.2          3.4         5.4          2.3         virginica \n",
       "92  6.1          3.0         4.6          1.4         versicolor\n",
       "8   5.0          3.4         1.5          0.2         setosa    \n",
       "37  5.5          3.5         1.3          0.2         setosa    \n",
       "73  6.3          2.5         4.9          1.5         versicolor"
      ]
     },
     "metadata": {},
     "output_type": "display_data"
    }
   ],
   "source": [
    "boot1 <- iris[idx,]\n",
    "head(boot1)"
   ]
  },
  {
   "cell_type": "markdown",
   "id": "infrared-earth",
   "metadata": {},
   "source": [
    "### Compare Bootstrap Sample to Original Data Set \n",
    "\n",
    "The comparison below further illustrates that the bootstrap sample is the same size as our original data set, but has slightly different composition."
   ]
  },
  {
   "cell_type": "code",
   "execution_count": 5,
   "id": "requested-smile",
   "metadata": {},
   "outputs": [
    {
     "data": {
      "text/html": [
       "150"
      ],
      "text/latex": [
       "150"
      ],
      "text/markdown": [
       "150"
      ],
      "text/plain": [
       "[1] 150"
      ]
     },
     "metadata": {},
     "output_type": "display_data"
    },
    {
     "data": {
      "text/html": [
       "150"
      ],
      "text/latex": [
       "150"
      ],
      "text/markdown": [
       "150"
      ],
      "text/plain": [
       "[1] 150"
      ]
     },
     "metadata": {},
     "output_type": "display_data"
    },
    {
     "data": {
      "text/html": [
       "<table>\n",
       "<caption>A data.frame: 6 × 5</caption>\n",
       "<thead>\n",
       "\t<tr><th></th><th scope=col>Sepal.Length</th><th scope=col>Sepal.Width</th><th scope=col>Petal.Length</th><th scope=col>Petal.Width</th><th scope=col>Species</th></tr>\n",
       "\t<tr><th></th><th scope=col>&lt;dbl&gt;</th><th scope=col>&lt;dbl&gt;</th><th scope=col>&lt;dbl&gt;</th><th scope=col>&lt;dbl&gt;</th><th scope=col>&lt;fct&gt;</th></tr>\n",
       "</thead>\n",
       "<tbody>\n",
       "\t<tr><th scope=row>7</th><td>4.6</td><td>3.4</td><td>1.4</td><td>0.3</td><td>setosa    </td></tr>\n",
       "\t<tr><th scope=row>149</th><td>6.2</td><td>3.4</td><td>5.4</td><td>2.3</td><td>virginica </td></tr>\n",
       "\t<tr><th scope=row>92</th><td>6.1</td><td>3.0</td><td>4.6</td><td>1.4</td><td>versicolor</td></tr>\n",
       "\t<tr><th scope=row>8</th><td>5.0</td><td>3.4</td><td>1.5</td><td>0.2</td><td>setosa    </td></tr>\n",
       "\t<tr><th scope=row>37</th><td>5.5</td><td>3.5</td><td>1.3</td><td>0.2</td><td>setosa    </td></tr>\n",
       "\t<tr><th scope=row>73</th><td>6.3</td><td>2.5</td><td>4.9</td><td>1.5</td><td>versicolor</td></tr>\n",
       "</tbody>\n",
       "</table>\n"
      ],
      "text/latex": [
       "A data.frame: 6 × 5\n",
       "\\begin{tabular}{r|lllll}\n",
       "  & Sepal.Length & Sepal.Width & Petal.Length & Petal.Width & Species\\\\\n",
       "  & <dbl> & <dbl> & <dbl> & <dbl> & <fct>\\\\\n",
       "\\hline\n",
       "\t7 & 4.6 & 3.4 & 1.4 & 0.3 & setosa    \\\\\n",
       "\t149 & 6.2 & 3.4 & 5.4 & 2.3 & virginica \\\\\n",
       "\t92 & 6.1 & 3.0 & 4.6 & 1.4 & versicolor\\\\\n",
       "\t8 & 5.0 & 3.4 & 1.5 & 0.2 & setosa    \\\\\n",
       "\t37 & 5.5 & 3.5 & 1.3 & 0.2 & setosa    \\\\\n",
       "\t73 & 6.3 & 2.5 & 4.9 & 1.5 & versicolor\\\\\n",
       "\\end{tabular}\n"
      ],
      "text/markdown": [
       "\n",
       "A data.frame: 6 × 5\n",
       "\n",
       "| <!--/--> | Sepal.Length &lt;dbl&gt; | Sepal.Width &lt;dbl&gt; | Petal.Length &lt;dbl&gt; | Petal.Width &lt;dbl&gt; | Species &lt;fct&gt; |\n",
       "|---|---|---|---|---|---|\n",
       "| 7 | 4.6 | 3.4 | 1.4 | 0.3 | setosa     |\n",
       "| 149 | 6.2 | 3.4 | 5.4 | 2.3 | virginica  |\n",
       "| 92 | 6.1 | 3.0 | 4.6 | 1.4 | versicolor |\n",
       "| 8 | 5.0 | 3.4 | 1.5 | 0.2 | setosa     |\n",
       "| 37 | 5.5 | 3.5 | 1.3 | 0.2 | setosa     |\n",
       "| 73 | 6.3 | 2.5 | 4.9 | 1.5 | versicolor |\n",
       "\n"
      ],
      "text/plain": [
       "    Sepal.Length Sepal.Width Petal.Length Petal.Width Species   \n",
       "7   4.6          3.4         1.4          0.3         setosa    \n",
       "149 6.2          3.4         5.4          2.3         virginica \n",
       "92  6.1          3.0         4.6          1.4         versicolor\n",
       "8   5.0          3.4         1.5          0.2         setosa    \n",
       "37  5.5          3.5         1.3          0.2         setosa    \n",
       "73  6.3          2.5         4.9          1.5         versicolor"
      ]
     },
     "metadata": {},
     "output_type": "display_data"
    },
    {
     "data": {
      "text/plain": [
       "  Sepal.Length    Sepal.Width     Petal.Length    Petal.Width        Species  \n",
       " Min.   :4.300   Min.   :2.000   Min.   :1.100   Min.   :0.1   setosa    :53  \n",
       " 1st Qu.:5.100   1st Qu.:2.800   1st Qu.:1.500   1st Qu.:0.3   versicolor:41  \n",
       " Median :5.800   Median :3.000   Median :4.400   Median :1.3   virginica :56  \n",
       " Mean   :5.881   Mean   :3.066   Mean   :3.767   Mean   :1.2                  \n",
       " 3rd Qu.:6.475   3rd Qu.:3.400   3rd Qu.:5.300   3rd Qu.:1.9                  \n",
       " Max.   :7.900   Max.   :4.400   Max.   :6.900   Max.   :2.5                  "
      ]
     },
     "metadata": {},
     "output_type": "display_data"
    }
   ],
   "source": [
    "#Size of data sets\n",
    "nrow(iris)\n",
    "nrow(boot1)\n",
    "head(boot1)\n",
    "summary(boot1)"
   ]
  },
  {
   "cell_type": "code",
   "execution_count": 7,
   "id": "boring-confusion",
   "metadata": {},
   "outputs": [
    {
     "data": {
      "text/html": [
       "<style>\n",
       ".dl-inline {width: auto; margin:0; padding: 0}\n",
       ".dl-inline>dt, .dl-inline>dd {float: none; width: auto; display: inline-block}\n",
       ".dl-inline>dt::after {content: \":\\0020\"; padding-right: .5ex}\n",
       ".dl-inline>dt:not(:first-of-type) {padding-left: .5ex}\n",
       "</style><dl class=dl-inline><dt>setosa</dt><dd>50</dd><dt>versicolor</dt><dd>50</dd><dt>virginica</dt><dd>50</dd></dl>\n"
      ],
      "text/latex": [
       "\\begin{description*}\n",
       "\\item[setosa] 50\n",
       "\\item[versicolor] 50\n",
       "\\item[virginica] 50\n",
       "\\end{description*}\n"
      ],
      "text/markdown": [
       "setosa\n",
       ":   50versicolor\n",
       ":   50virginica\n",
       ":   50\n",
       "\n"
      ],
      "text/plain": [
       "    setosa versicolor  virginica \n",
       "        50         50         50 "
      ]
     },
     "metadata": {},
     "output_type": "display_data"
    },
    {
     "data": {
      "text/html": [
       "<style>\n",
       ".dl-inline {width: auto; margin:0; padding: 0}\n",
       ".dl-inline>dt, .dl-inline>dd {float: none; width: auto; display: inline-block}\n",
       ".dl-inline>dt::after {content: \":\\0020\"; padding-right: .5ex}\n",
       ".dl-inline>dt:not(:first-of-type) {padding-left: .5ex}\n",
       "</style><dl class=dl-inline><dt>setosa</dt><dd>53</dd><dt>versicolor</dt><dd>41</dd><dt>virginica</dt><dd>56</dd></dl>\n"
      ],
      "text/latex": [
       "\\begin{description*}\n",
       "\\item[setosa] 53\n",
       "\\item[versicolor] 41\n",
       "\\item[virginica] 56\n",
       "\\end{description*}\n"
      ],
      "text/markdown": [
       "setosa\n",
       ":   53versicolor\n",
       ":   41virginica\n",
       ":   56\n",
       "\n"
      ],
      "text/plain": [
       "    setosa versicolor  virginica \n",
       "        53         41         56 "
      ]
     },
     "metadata": {},
     "output_type": "display_data"
    }
   ],
   "source": [
    "#Summary of data set variables\n",
    "summary(iris$Species)\n",
    "summary(boot1$Species)"
   ]
  },
  {
   "cell_type": "code",
   "execution_count": 8,
   "id": "internal-gothic",
   "metadata": {},
   "outputs": [
    {
     "data": {
      "text/plain": [
       "   Min. 1st Qu.  Median    Mean 3rd Qu.    Max. \n",
       "  1.000   1.600   4.350   3.758   5.100   6.900 "
      ]
     },
     "metadata": {},
     "output_type": "display_data"
    },
    {
     "data": {
      "text/plain": [
       "   Min. 1st Qu.  Median    Mean 3rd Qu.    Max. \n",
       "  1.100   1.500   4.400   3.767   5.300   6.900 "
      ]
     },
     "metadata": {},
     "output_type": "display_data"
    }
   ],
   "source": [
    "summary(iris$Petal.Length)\n",
    "summary(boot1$Petal.Length)"
   ]
  },
  {
   "cell_type": "markdown",
   "id": "overall-tumor",
   "metadata": {},
   "source": [
    "## Bagging\n",
    "\n",
    "Bagging (**B**ootstrap **agg**regat**ing**) is a process in which several bootstrap samples are created, and a model (such as a tree) is created for each sample. Then the average prediction from all models combined is used for each data point."
   ]
  },
  {
   "cell_type": "markdown",
   "id": "unique-shannon",
   "metadata": {},
   "source": [
    "## Random Forest\n",
    "\n",
    "A random forest uses the principle of bagging with decision trees, but also _**randomly selects which features to use as predictors**_ for each tree. Thus, each tree has both a different training set and a different feature set of predictors.\n",
    "\n",
    "We will implement random forests with the **randomForest** package."
   ]
  },
  {
   "cell_type": "code",
   "execution_count": 9,
   "id": "outside-robertson",
   "metadata": {},
   "outputs": [
    {
     "name": "stderr",
     "output_type": "stream",
     "text": [
      "Warning message:\n",
      "“package ‘randomForest’ is not available for this version of R\n",
      "‘randomForest’ version 4.7-1.1 is in the repositories but depends on R (>= 4.1.0)\n",
      "\n",
      "A version of this package for your version of R might be available elsewhere,\n",
      "see the ideas at\n",
      "https://cran.r-project.org/doc/manuals/r-patched/R-admin.html#Installing-packages”\n"
     ]
    }
   ],
   "source": [
    "#install.packages(\"randomForest\")\n",
    "library(randomForest)"
   ]
  },
  {
   "cell_type": "code",
   "execution_count": 11,
   "id": "crazy-counter",
   "metadata": {},
   "outputs": [],
   "source": [
    "#Create test and train set\n",
    "\n",
    "test_rows <- c(14,23,80,119,123)\n",
    "iris_test <- iris[test_rows,]\n",
    "iris_train <- iris[-test_rows,]"
   ]
  },
  {
   "cell_type": "code",
   "execution_count": 12,
   "id": "descending-waste",
   "metadata": {},
   "outputs": [],
   "source": [
    "#Create model to predict species\n",
    "iris_model_forest_01 <- randomForest(Species~.,data=iris_train)"
   ]
  },
  {
   "cell_type": "code",
   "execution_count": 19,
   "id": "virgin-craft",
   "metadata": {},
   "outputs": [
    {
     "data": {
      "text/html": [
       "<table>\n",
       "<caption>A matrix: 4 × 1 of type dbl</caption>\n",
       "<thead>\n",
       "\t<tr><th></th><th scope=col>MeanDecreaseGini</th></tr>\n",
       "</thead>\n",
       "<tbody>\n",
       "\t<tr><th scope=row>Sepal.Length</th><td> 9.476138</td></tr>\n",
       "\t<tr><th scope=row>Sepal.Width</th><td> 2.389115</td></tr>\n",
       "\t<tr><th scope=row>Petal.Length</th><td>40.196382</td></tr>\n",
       "\t<tr><th scope=row>Petal.Width</th><td>43.865965</td></tr>\n",
       "</tbody>\n",
       "</table>\n"
      ],
      "text/latex": [
       "A matrix: 4 × 1 of type dbl\n",
       "\\begin{tabular}{r|l}\n",
       "  & MeanDecreaseGini\\\\\n",
       "\\hline\n",
       "\tSepal.Length &  9.476138\\\\\n",
       "\tSepal.Width &  2.389115\\\\\n",
       "\tPetal.Length & 40.196382\\\\\n",
       "\tPetal.Width & 43.865965\\\\\n",
       "\\end{tabular}\n"
      ],
      "text/markdown": [
       "\n",
       "A matrix: 4 × 1 of type dbl\n",
       "\n",
       "| <!--/--> | MeanDecreaseGini |\n",
       "|---|---|\n",
       "| Sepal.Length |  9.476138 |\n",
       "| Sepal.Width |  2.389115 |\n",
       "| Petal.Length | 40.196382 |\n",
       "| Petal.Width | 43.865965 |\n",
       "\n"
      ],
      "text/plain": [
       "             MeanDecreaseGini\n",
       "Sepal.Length  9.476138       \n",
       "Sepal.Width   2.389115       \n",
       "Petal.Length 40.196382       \n",
       "Petal.Width  43.865965       "
      ]
     },
     "metadata": {},
     "output_type": "display_data"
    },
    {
     "data": {
      "image/png": "[encoded data removed]",
      "text/plain": [
       "Plot with title “iris_model_forest_01”"
      ]
     },
     "metadata": {
      "image/png": {
       "height": 420,
       "width": 420
      }
     },
     "output_type": "display_data"
    }
   ],
   "source": [
    "#Display some information available from model \n",
    "#Variable Importance (Average across all trees) \n",
    "\n",
    "importance(iris_model_forest_01)\n",
    "varImpPlot(iris_model_forest_01)"
   ]
  },
  {
   "cell_type": "code",
   "execution_count": 18,
   "id": "arbitrary-weekly",
   "metadata": {},
   "outputs": [
    {
     "data": {
      "text/html": [
       "<table>\n",
       "<caption>A matrix: 4 × 1 of type dbl</caption>\n",
       "<thead>\n",
       "\t<tr><th></th><th scope=col>IncNodePurity</th></tr>\n",
       "</thead>\n",
       "<tbody>\n",
       "\t<tr><th scope=row>Sepal.Length</th><td>100.09003</td></tr>\n",
       "\t<tr><th scope=row>Sepal.Width</th><td> 41.18398</td></tr>\n",
       "\t<tr><th scope=row>Petal.Width</th><td>139.72677</td></tr>\n",
       "\t<tr><th scope=row>Species</th><td>137.49434</td></tr>\n",
       "</tbody>\n",
       "</table>\n"
      ],
      "text/latex": [
       "A matrix: 4 × 1 of type dbl\n",
       "\\begin{tabular}{r|l}\n",
       "  & IncNodePurity\\\\\n",
       "\\hline\n",
       "\tSepal.Length & 100.09003\\\\\n",
       "\tSepal.Width &  41.18398\\\\\n",
       "\tPetal.Width & 139.72677\\\\\n",
       "\tSpecies & 137.49434\\\\\n",
       "\\end{tabular}\n"
      ],
      "text/markdown": [
       "\n",
       "A matrix: 4 × 1 of type dbl\n",
       "\n",
       "| <!--/--> | IncNodePurity |\n",
       "|---|---|\n",
       "| Sepal.Length | 100.09003 |\n",
       "| Sepal.Width |  41.18398 |\n",
       "| Petal.Width | 139.72677 |\n",
       "| Species | 137.49434 |\n",
       "\n"
      ],
      "text/plain": [
       "             IncNodePurity\n",
       "Sepal.Length 100.09003    \n",
       "Sepal.Width   41.18398    \n",
       "Petal.Width  139.72677    \n",
       "Species      137.49434    "
      ]
     },
     "metadata": {},
     "output_type": "display_data"
    },
    {
     "data": {
      "image/png": "[encoded data removed]",
      "text/plain": [
       "Plot with title “iris_model_forest_02”"
      ]
     },
     "metadata": {
      "image/png": {
       "height": 420,
       "width": 420
      }
     },
     "output_type": "display_data"
    }
   ],
   "source": [
    "#Create model\n",
    "iris_model_forest_02 <- randomForest(Petal.Length~.,data=iris_train)\n",
    "\n",
    "#Variable importance (continuous response variable)\n",
    "\n",
    "importance(iris_model_forest_02)\n",
    "varImpPlot(iris_model_forest_02)"
   ]
  },
  {
   "cell_type": "markdown",
   "id": "magnetic-deadline",
   "metadata": {},
   "source": [
    "## Using the Random Forest Models for Prediction\n",
    "\n",
    "Using the test set that we set aside, we will see how each random forest can be used for prediction.  "
   ]
  },
  {
   "cell_type": "code",
   "execution_count": 20,
   "id": "underlying-relationship",
   "metadata": {},
   "outputs": [
    {
     "data": {
      "text/html": [
       "<table>\n",
       "<caption>A data.frame: 5 × 5</caption>\n",
       "<thead>\n",
       "\t<tr><th></th><th scope=col>Sepal.Length</th><th scope=col>Sepal.Width</th><th scope=col>Petal.Length</th><th scope=col>Petal.Width</th><th scope=col>Species</th></tr>\n",
       "\t<tr><th></th><th scope=col>&lt;dbl&gt;</th><th scope=col>&lt;dbl&gt;</th><th scope=col>&lt;dbl&gt;</th><th scope=col>&lt;dbl&gt;</th><th scope=col>&lt;fct&gt;</th></tr>\n",
       "</thead>\n",
       "<tbody>\n",
       "\t<tr><th scope=row>14</th><td>4.3</td><td>3.0</td><td>1.1</td><td>0.1</td><td>setosa    </td></tr>\n",
       "\t<tr><th scope=row>23</th><td>4.6</td><td>3.6</td><td>1.0</td><td>0.2</td><td>setosa    </td></tr>\n",
       "\t<tr><th scope=row>80</th><td>5.7</td><td>2.6</td><td>3.5</td><td>1.0</td><td>versicolor</td></tr>\n",
       "\t<tr><th scope=row>119</th><td>7.7</td><td>2.6</td><td>6.9</td><td>2.3</td><td>virginica </td></tr>\n",
       "\t<tr><th scope=row>123</th><td>7.7</td><td>2.8</td><td>6.7</td><td>2.0</td><td>virginica </td></tr>\n",
       "</tbody>\n",
       "</table>\n"
      ],
      "text/latex": [
       "A data.frame: 5 × 5\n",
       "\\begin{tabular}{r|lllll}\n",
       "  & Sepal.Length & Sepal.Width & Petal.Length & Petal.Width & Species\\\\\n",
       "  & <dbl> & <dbl> & <dbl> & <dbl> & <fct>\\\\\n",
       "\\hline\n",
       "\t14 & 4.3 & 3.0 & 1.1 & 0.1 & setosa    \\\\\n",
       "\t23 & 4.6 & 3.6 & 1.0 & 0.2 & setosa    \\\\\n",
       "\t80 & 5.7 & 2.6 & 3.5 & 1.0 & versicolor\\\\\n",
       "\t119 & 7.7 & 2.6 & 6.9 & 2.3 & virginica \\\\\n",
       "\t123 & 7.7 & 2.8 & 6.7 & 2.0 & virginica \\\\\n",
       "\\end{tabular}\n"
      ],
      "text/markdown": [
       "\n",
       "A data.frame: 5 × 5\n",
       "\n",
       "| <!--/--> | Sepal.Length &lt;dbl&gt; | Sepal.Width &lt;dbl&gt; | Petal.Length &lt;dbl&gt; | Petal.Width &lt;dbl&gt; | Species &lt;fct&gt; |\n",
       "|---|---|---|---|---|---|\n",
       "| 14 | 4.3 | 3.0 | 1.1 | 0.1 | setosa     |\n",
       "| 23 | 4.6 | 3.6 | 1.0 | 0.2 | setosa     |\n",
       "| 80 | 5.7 | 2.6 | 3.5 | 1.0 | versicolor |\n",
       "| 119 | 7.7 | 2.6 | 6.9 | 2.3 | virginica  |\n",
       "| 123 | 7.7 | 2.8 | 6.7 | 2.0 | virginica  |\n",
       "\n"
      ],
      "text/plain": [
       "    Sepal.Length Sepal.Width Petal.Length Petal.Width Species   \n",
       "14  4.3          3.0         1.1          0.1         setosa    \n",
       "23  4.6          3.6         1.0          0.2         setosa    \n",
       "80  5.7          2.6         3.5          1.0         versicolor\n",
       "119 7.7          2.6         6.9          2.3         virginica \n",
       "123 7.7          2.8         6.7          2.0         virginica "
      ]
     },
     "metadata": {},
     "output_type": "display_data"
    }
   ],
   "source": [
    "iris_test\n"
   ]
  },
  {
   "cell_type": "code",
   "execution_count": 22,
   "id": "biblical-manor",
   "metadata": {},
   "outputs": [
    {
     "data": {
      "text/html": [
       "<style>\n",
       ".dl-inline {width: auto; margin:0; padding: 0}\n",
       ".dl-inline>dt, .dl-inline>dd {float: none; width: auto; display: inline-block}\n",
       ".dl-inline>dt::after {content: \":\\0020\"; padding-right: .5ex}\n",
       ".dl-inline>dt:not(:first-of-type) {padding-left: .5ex}\n",
       "</style><dl class=dl-inline><dt>14</dt><dd>setosa</dd><dt>23</dt><dd>setosa</dd><dt>80</dt><dd>versicolor</dd><dt>119</dt><dd>virginica</dd><dt>123</dt><dd>virginica</dd></dl>\n",
       "\n",
       "<details>\n",
       "\t<summary style=display:list-item;cursor:pointer>\n",
       "\t\t<strong>Levels</strong>:\n",
       "\t</summary>\n",
       "\t<style>\n",
       "\t.list-inline {list-style: none; margin:0; padding: 0}\n",
       "\t.list-inline>li {display: inline-block}\n",
       "\t.list-inline>li:not(:last-child)::after {content: \"\\00b7\"; padding: 0 .5ex}\n",
       "\t</style>\n",
       "\t<ol class=list-inline><li>'setosa'</li><li>'versicolor'</li><li>'virginica'</li></ol>\n",
       "</details>"
      ],
      "text/latex": [
       "\\begin{description*}\n",
       "\\item[14] setosa\n",
       "\\item[23] setosa\n",
       "\\item[80] versicolor\n",
       "\\item[119] virginica\n",
       "\\item[123] virginica\n",
       "\\end{description*}\n",
       "\n",
       "\\emph{Levels}: \\begin{enumerate*}\n",
       "\\item 'setosa'\n",
       "\\item 'versicolor'\n",
       "\\item 'virginica'\n",
       "\\end{enumerate*}\n"
      ],
      "text/markdown": [
       "14\n",
       ":   setosa23\n",
       ":   setosa80\n",
       ":   versicolor119\n",
       ":   virginica123\n",
       ":   virginica\n",
       "\n",
       "\n",
       "**Levels**: 1. 'setosa'\n",
       "2. 'versicolor'\n",
       "3. 'virginica'\n",
       "\n",
       "\n"
      ],
      "text/plain": [
       "        14         23         80        119        123 \n",
       "    setosa     setosa versicolor  virginica  virginica \n",
       "Levels: setosa versicolor virginica"
      ]
     },
     "metadata": {},
     "output_type": "display_data"
    }
   ],
   "source": [
    "test_pred_species <- predict(iris_model_forest_01,iris_test)\n",
    "test_pred_species"
   ]
  },
  {
   "cell_type": "code",
   "execution_count": 23,
   "id": "arbitrary-disclosure",
   "metadata": {},
   "outputs": [
    {
     "data": {
      "text/html": [
       "<style>\n",
       ".dl-inline {width: auto; margin:0; padding: 0}\n",
       ".dl-inline>dt, .dl-inline>dd {float: none; width: auto; display: inline-block}\n",
       ".dl-inline>dt::after {content: \":\\0020\"; padding-right: .5ex}\n",
       ".dl-inline>dt:not(:first-of-type) {padding-left: .5ex}\n",
       "</style><dl class=dl-inline><dt>14</dt><dd>1.4186009726649</dd><dt>23</dt><dd>1.47576659072243</dd><dt>80</dt><dd>4.08354764920122</dd><dt>119</dt><dd>5.75636050346756</dd><dt>123</dt><dd>5.81458954619827</dd></dl>\n"
      ],
      "text/latex": [
       "\\begin{description*}\n",
       "\\item[14] 1.4186009726649\n",
       "\\item[23] 1.47576659072243\n",
       "\\item[80] 4.08354764920122\n",
       "\\item[119] 5.75636050346756\n",
       "\\item[123] 5.81458954619827\n",
       "\\end{description*}\n"
      ],
      "text/markdown": [
       "14\n",
       ":   1.418600972664923\n",
       ":   1.4757665907224380\n",
       ":   4.08354764920122119\n",
       ":   5.75636050346756123\n",
       ":   5.81458954619827\n",
       "\n"
      ],
      "text/plain": [
       "      14       23       80      119      123 \n",
       "1.418601 1.475767 4.083548 5.756361 5.814590 "
      ]
     },
     "metadata": {},
     "output_type": "display_data"
    }
   ],
   "source": [
    "test_pred_length <- predict(iris_model_forest_02,iris_test)\n",
    "test_pred_length"
   ]
  },
  {
   "cell_type": "markdown",
   "id": "careful-aquatic",
   "metadata": {},
   "source": [
    "### Comparing Predictions with Actual Values"
   ]
  },
  {
   "cell_type": "code",
   "execution_count": 24,
   "id": "desperate-intellectual",
   "metadata": {},
   "outputs": [
    {
     "data": {
      "text/html": [
       "<table>\n",
       "<caption>A data.frame: 5 × 2</caption>\n",
       "<thead>\n",
       "\t<tr><th></th><th scope=col>Actual</th><th scope=col>Predicted</th></tr>\n",
       "\t<tr><th></th><th scope=col>&lt;fct&gt;</th><th scope=col>&lt;fct&gt;</th></tr>\n",
       "</thead>\n",
       "<tbody>\n",
       "\t<tr><th scope=row>14</th><td>setosa    </td><td>setosa    </td></tr>\n",
       "\t<tr><th scope=row>23</th><td>setosa    </td><td>setosa    </td></tr>\n",
       "\t<tr><th scope=row>80</th><td>versicolor</td><td>versicolor</td></tr>\n",
       "\t<tr><th scope=row>119</th><td>virginica </td><td>virginica </td></tr>\n",
       "\t<tr><th scope=row>123</th><td>virginica </td><td>virginica </td></tr>\n",
       "</tbody>\n",
       "</table>\n"
      ],
      "text/latex": [
       "A data.frame: 5 × 2\n",
       "\\begin{tabular}{r|ll}\n",
       "  & Actual & Predicted\\\\\n",
       "  & <fct> & <fct>\\\\\n",
       "\\hline\n",
       "\t14 & setosa     & setosa    \\\\\n",
       "\t23 & setosa     & setosa    \\\\\n",
       "\t80 & versicolor & versicolor\\\\\n",
       "\t119 & virginica  & virginica \\\\\n",
       "\t123 & virginica  & virginica \\\\\n",
       "\\end{tabular}\n"
      ],
      "text/markdown": [
       "\n",
       "A data.frame: 5 × 2\n",
       "\n",
       "| <!--/--> | Actual &lt;fct&gt; | Predicted &lt;fct&gt; |\n",
       "|---|---|---|\n",
       "| 14 | setosa     | setosa     |\n",
       "| 23 | setosa     | setosa     |\n",
       "| 80 | versicolor | versicolor |\n",
       "| 119 | virginica  | virginica  |\n",
       "| 123 | virginica  | virginica  |\n",
       "\n"
      ],
      "text/plain": [
       "    Actual     Predicted \n",
       "14  setosa     setosa    \n",
       "23  setosa     setosa    \n",
       "80  versicolor versicolor\n",
       "119 virginica  virginica \n",
       "123 virginica  virginica "
      ]
     },
     "metadata": {},
     "output_type": "display_data"
    },
    {
     "data": {
      "text/html": [
       "<table>\n",
       "<caption>A data.frame: 5 × 2</caption>\n",
       "<thead>\n",
       "\t<tr><th></th><th scope=col>Actual</th><th scope=col>Predicted</th></tr>\n",
       "\t<tr><th></th><th scope=col>&lt;dbl&gt;</th><th scope=col>&lt;dbl&gt;</th></tr>\n",
       "</thead>\n",
       "<tbody>\n",
       "\t<tr><th scope=row>14</th><td>1.1</td><td>1.418601</td></tr>\n",
       "\t<tr><th scope=row>23</th><td>1.0</td><td>1.475767</td></tr>\n",
       "\t<tr><th scope=row>80</th><td>3.5</td><td>4.083548</td></tr>\n",
       "\t<tr><th scope=row>119</th><td>6.9</td><td>5.756361</td></tr>\n",
       "\t<tr><th scope=row>123</th><td>6.7</td><td>5.814590</td></tr>\n",
       "</tbody>\n",
       "</table>\n"
      ],
      "text/latex": [
       "A data.frame: 5 × 2\n",
       "\\begin{tabular}{r|ll}\n",
       "  & Actual & Predicted\\\\\n",
       "  & <dbl> & <dbl>\\\\\n",
       "\\hline\n",
       "\t14 & 1.1 & 1.418601\\\\\n",
       "\t23 & 1.0 & 1.475767\\\\\n",
       "\t80 & 3.5 & 4.083548\\\\\n",
       "\t119 & 6.9 & 5.756361\\\\\n",
       "\t123 & 6.7 & 5.814590\\\\\n",
       "\\end{tabular}\n"
      ],
      "text/markdown": [
       "\n",
       "A data.frame: 5 × 2\n",
       "\n",
       "| <!--/--> | Actual &lt;dbl&gt; | Predicted &lt;dbl&gt; |\n",
       "|---|---|---|\n",
       "| 14 | 1.1 | 1.418601 |\n",
       "| 23 | 1.0 | 1.475767 |\n",
       "| 80 | 3.5 | 4.083548 |\n",
       "| 119 | 6.9 | 5.756361 |\n",
       "| 123 | 6.7 | 5.814590 |\n",
       "\n"
      ],
      "text/plain": [
       "    Actual Predicted\n",
       "14  1.1    1.418601 \n",
       "23  1.0    1.475767 \n",
       "80  3.5    4.083548 \n",
       "119 6.9    5.756361 \n",
       "123 6.7    5.814590 "
      ]
     },
     "metadata": {},
     "output_type": "display_data"
    }
   ],
   "source": [
    "data.frame(Actual=iris_test$Species,Predicted=test_pred_species)\n",
    "data.frame(Actual=iris_test$Petal.Length,Predicted=test_pred_length)"
   ]
  },
  {
   "cell_type": "markdown",
   "id": "broken-editing",
   "metadata": {},
   "source": [
    "## Parameters for Fine Tuning Random Forests\n",
    "\n",
    "Just as decision trees can be fine tuned (e.g., pruned to desired level), so can random forests. Some of the most important tuning parameters are:\n",
    "\n",
    "* ntree = number of tress to grow, and the default is 500. \n",
    "* mtry = number of variables randomly sampled as candidates at each split. \n",
    "  The default is sqrt(p) for classfication and p/3 for regression\n",
    "* nodesize = minimum size of terminal nodes. \n",
    "  The default value is 1 for classification and 5 for regression\n",
    "  \n",
    "Ideally, you can try several different values of each parameter to see what yields the best results.\n",
    "\n",
    "The documentation for randomForest gives more detail on the options (parameters) and on what is stored in the model that is returned."
   ]
  },
  {
   "cell_type": "code",
   "execution_count": 25,
   "id": "through-scholarship",
   "metadata": {},
   "outputs": [],
   "source": [
    "?randomForest"
   ]
  }
 ],
 "metadata": {
  "kernelspec": {
   "display_name": "R",
   "language": "R",
   "name": "ir"
  },
  "language_info": {
   "codemirror_mode": "r",
   "file_extension": ".r",
   "mimetype": "text/x-r-source",
   "name": "R",
   "pygments_lexer": "r",
   "version": "4.0.3"
  }
 },
 "nbformat": 4,
 "nbformat_minor": 5
}
