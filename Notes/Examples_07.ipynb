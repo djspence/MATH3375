{
 "cells": [
  {
   "cell_type": "markdown",
   "id": "ranging-amplifier",
   "metadata": {},
   "source": [
    "# MATH 3375 Examples Notebook #7\n",
    "\n",
    "# Variable and Model Selection\n",
    "\n",
    "When choosing one of several possible models, there are many factors to consider. We will use the **cars2004** data set.\n"
   ]
  },
  {
   "cell_type": "code",
   "execution_count": null,
   "id": "flush-hungary",
   "metadata": {},
   "outputs": [],
   "source": [
    "#Look at data set\n",
    "car_data <- read.csv(\"cars2004.csv\", stringsAsFactors=TRUE)\n",
    "head(car_data)"
   ]
  },
  {
   "cell_type": "markdown",
   "id": "amazing-letter",
   "metadata": {},
   "source": [
    "## 1. Significance of Predictors\n",
    "\n",
    "When one model has a SUBSET of predictors of another model, we can determine if the bigger model is significantly better by performing a _**Partial F-Test**_ using ANOVA, as shown below.\n"
   ]
  },
  {
   "cell_type": "code",
   "execution_count": null,
   "id": "unusual-fight",
   "metadata": {},
   "outputs": [],
   "source": [
    "model_Invoice1 <- lm(Invoice ~ HP, data=car_data)\n",
    "model_Invoice2 <- lm(Invoice ~ HP + City.MPG, data=car_data)\n",
    "model_Invoice3 <- lm(Invoice ~ HP + City.MPG + Hwy.MPG, data=car_data)\n",
    "summary(model_Invoice1)\n",
    "summary(model_Invoice2)\n",
    "summary(model_Invoice3)\n"
   ]
  },
  {
   "cell_type": "code",
   "execution_count": null,
   "id": "ultimate-removal",
   "metadata": {},
   "outputs": [],
   "source": [
    "anova(model_Invoice1,model_Invoice2)"
   ]
  },
  {
   "cell_type": "code",
   "execution_count": null,
   "id": "medieval-klein",
   "metadata": {},
   "outputs": [],
   "source": [
    "anova(model_Invoice2,model_Invoice3)"
   ]
  },
  {
   "cell_type": "markdown",
   "id": "commercial-double",
   "metadata": {},
   "source": [
    "### CAUTION - An Incorrect Strategy: \n",
    "\n",
    "**_Question: Why can't we just start with a model that uses every available predictor, then discard the ones that are not significant?_**\n",
    "\n",
    "_Answer:_ The significance of each predictor in a given model is **CONDITIONAL**. This means the predictor is significant _based on_ the presence of the other predictors in the model. Recall the interpretation of each coefficient: \"Holding all other predictors constant...\" - This changes when other predictors are added to the model or removed from the model. \n"
   ]
  },
  {
   "cell_type": "markdown",
   "id": "strange-contamination",
   "metadata": {},
   "source": [
    "## 2. Multicollinearity\n",
    "\n",
    "First, we examine potential issues with multicollinearity."
   ]
  },
  {
   "cell_type": "markdown",
   "id": "chronic-perspective",
   "metadata": {},
   "source": [
    "\n",
    "First we'll consider a subset of possible predictors for horsepower (HP)."
   ]
  },
  {
   "cell_type": "code",
   "execution_count": null,
   "id": "built-rotation",
   "metadata": {},
   "outputs": [],
   "source": [
    "plot(car_data[,c(4,5,9,10)])"
   ]
  },
  {
   "cell_type": "markdown",
   "id": "accepted-mixer",
   "metadata": {},
   "source": [
    "#### Correlated Predictors\n",
    "\n",
    "As we might expect, MSRP and Invoice have a very strong linear relationship, and the relationship between City.MPG and Hwy.MPG is also strong and linear. We will create the model using these 4 predictors and then examine a measure of collinearity, the Variance Inflation Factor (VIF)."
   ]
  },
  {
   "cell_type": "code",
   "execution_count": null,
   "id": "mineral-sigma",
   "metadata": {},
   "outputs": [],
   "source": [
    "hp_model1 <- lm(HP ~ City.MPG + Hwy.MPG + Invoice + MSRP, data=car_data)\n",
    "summary(hp_model1)"
   ]
  },
  {
   "cell_type": "markdown",
   "id": "bearing-subdivision",
   "metadata": {},
   "source": [
    "#### R Library for Computing VIF\n",
    "\n",
    "The cell below loads a library with the VIF function. The _**install**_ command is commented out and should only be executed if the library is not found. (Un-comment the line, run the cell, then comment the line back out.)"
   ]
  },
  {
   "cell_type": "code",
   "execution_count": null,
   "id": "iraqi-albania",
   "metadata": {},
   "outputs": [],
   "source": [
    "#ONLY run install if library fails to load (uncomment install line, run the cell, then put comment back)\n",
    "#install.packages(\"regclass\")\n",
    "library(\"regclass\")"
   ]
  },
  {
   "cell_type": "code",
   "execution_count": null,
   "id": "literary-landing",
   "metadata": {
    "scrolled": true
   },
   "outputs": [],
   "source": [
    "\n",
    "VIF(hp_model1)"
   ]
  },
  {
   "cell_type": "markdown",
   "id": "overhead-fundamentals",
   "metadata": {},
   "source": [
    "#### Evaluating the VIF numbers\n",
    "\n",
    "The original model has $R^2 = 0.7987$.  Therefore, the threshold is: \n",
    "\n",
    "$max \\left( 10,\\frac{1}{1-0.7987} \\right) = max \\left( 10,4.968 \\right) = 10$\n",
    "\n",
    "The City.MPG and Hwy.MPG variables have VIF just under the threshold of 10, so are considered acceptable (although City.MPG is perilously close to 10!) The Invoice and MSRP variables both greatly exceed the threshold, indicating an unacceptable level of multicollinearity between each of these variables and one or more others in the model. \n",
    "\n",
    "This means we should not use all of these variables as predictors at the same time. Let's drop MSRP and try the model again."
   ]
  },
  {
   "cell_type": "code",
   "execution_count": null,
   "id": "coordinated-suggestion",
   "metadata": {},
   "outputs": [],
   "source": [
    "hp_model2 <- lm(HP ~ City.MPG + Hwy.MPG + Invoice, data=car_data)\n",
    "summary(hp_model2)\n",
    "\n",
    "VIF(hp_model2)"
   ]
  },
  {
   "cell_type": "markdown",
   "id": "dying-summit",
   "metadata": {},
   "source": [
    "### Another Consequence of Multicollinearity\n",
    "\n",
    "If the linear relationship among certain coefficients is perfect or close to perfect, the coefficients cannot be computed at all, as illustrated below. "
   ]
  },
  {
   "cell_type": "code",
   "execution_count": null,
   "id": "round-google",
   "metadata": {},
   "outputs": [],
   "source": [
    "car_data$MPG_diff <- car_data$Hwy.MPG - car_data$City.MPG\n",
    "head(car_data)"
   ]
  },
  {
   "cell_type": "markdown",
   "id": "polish-nursing",
   "metadata": {},
   "source": [
    "#### Notice that MPG_diff is simply a linear combination of Hwy.MPG and City.MPG"
   ]
  },
  {
   "cell_type": "code",
   "execution_count": null,
   "id": "spectacular-packet",
   "metadata": {},
   "outputs": [],
   "source": [
    "hp_model3 <- lm(HP ~ City.MPG + Hwy.MPG + MPG_diff + Invoice, data=car_data)\n",
    "summary(hp_model3)"
   ]
  },
  {
   "cell_type": "markdown",
   "id": "boxed-smart",
   "metadata": {},
   "source": [
    "## 3. Model Complexity\n",
    "\n",
    "There is a trade-off between model complexity and predictive value. AIC and BIC scores can help compare models and choose the one with the better \"balance\".\n",
    "\n",
    "### AIC Comparison"
   ]
  },
  {
   "cell_type": "code",
   "execution_count": null,
   "id": "adjustable-cooperative",
   "metadata": {},
   "outputs": [],
   "source": [
    "hp_model4 <- lm(HP ~ City.MPG + Invoice, data=car_data)\n",
    "hp_model5 <- lm(HP ~ City.MPG, data=car_data)\n",
    "hp_model6 <- lm(HP ~ Invoice, data=car_data)\n",
    "\n",
    "AIC(hp_model2, k=2)\n",
    "AIC(hp_model4, k=2)\n",
    "AIC(hp_model5, k=2)\n",
    "AIC(hp_model6, k=2)"
   ]
  },
  {
   "cell_type": "markdown",
   "id": "entitled-decimal",
   "metadata": {},
   "source": [
    "#### Interpretation\n",
    "\n",
    "Based on the AIC criterion, Model 4 is the best balance of fit and model complexity.\n",
    "\n",
    "### BIC Comparison\n",
    "\n",
    "Compare the same 4 models using BIC:"
   ]
  },
  {
   "cell_type": "code",
   "execution_count": null,
   "id": "patient-attendance",
   "metadata": {},
   "outputs": [],
   "source": [
    "n = length(car_data[,1])\n",
    "\n",
    "AIC(hp_model2, k=log(n))\n",
    "AIC(hp_model4, k=log(n))\n",
    "AIC(hp_model5, k=log(n))\n",
    "AIC(hp_model6, k=log(n))"
   ]
  },
  {
   "cell_type": "markdown",
   "id": "relative-fantasy",
   "metadata": {},
   "source": [
    "### Stepwise Regression"
   ]
  },
  {
   "cell_type": "code",
   "execution_count": null,
   "id": "soviet-stevens",
   "metadata": {},
   "outputs": [],
   "source": [
    "hp_model0 <- lm(HP ~ 1, data=car_data)\n",
    "\n",
    "hp_model_full <- lm(HP ~ MSRP+Invoice+EngineSize+Cylinders+City.MPG+Hwy.MPG+Weight+WheelBase, data=car_data)\n",
    "hp_model_best = step(hp_model0, scope=list(lower=hp_model0, upper=hp_model_full), direction = \"forward\", k=2)\n"
   ]
  },
  {
   "cell_type": "code",
   "execution_count": null,
   "id": "special-jones",
   "metadata": {},
   "outputs": [],
   "source": [
    "summary(hp_model_best)"
   ]
  }
 ],
 "metadata": {
  "kernelspec": {
   "display_name": "R",
   "language": "R",
   "name": "ir"
  },
  "language_info": {
   "codemirror_mode": "r",
   "file_extension": ".r",
   "mimetype": "text/x-r-source",
   "name": "R",
   "pygments_lexer": "r",
   "version": "4.0.3"
  }
 },
 "nbformat": 4,
 "nbformat_minor": 5
}
