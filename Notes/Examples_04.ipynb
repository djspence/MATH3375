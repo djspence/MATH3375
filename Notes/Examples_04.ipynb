{
 "cells": [
  {
   "cell_type": "markdown",
   "id": "ranging-amplifier",
   "metadata": {},
   "source": [
    "# MATH 3375 Examples Notebook #4\n",
    "# Data Preparation\n",
    "\n",
    "We will look at three aspects of data preparation using the car data set that you are acquainted with from Project 1.\n"
   ]
  },
  {
   "cell_type": "code",
   "execution_count": null,
   "id": "after-henry",
   "metadata": {},
   "outputs": [],
   "source": [
    "\n",
    "car_data <- read.csv(\"cars2004.csv\", stringsAsFactors=TRUE)\n",
    "head(car_data)\n",
    "car_data$Length = as.integer(as.character(car_data$Length))\n",
    "car_data$Width = as.integer(as.character(car_data$Width))\n",
    "tail(car_data)\n"
   ]
  },
  {
   "cell_type": "markdown",
   "id": "atlantic-uncle",
   "metadata": {},
   "source": [
    "## 1. Transformations\n",
    "\n",
    "Transformations can help when\n",
    "\n",
    "* The relationship between predictor and response is not linear\n",
    "* The scale of one variable (relative to the other) makes the plot difficult to interpret\n",
    "\n",
    "### Example: City MPG and Engine Size\n",
    "\n",
    "Examine the plot of City MPG by Engine Size."
   ]
  },
  {
   "cell_type": "code",
   "execution_count": null,
   "id": "decimal-prime",
   "metadata": {},
   "outputs": [],
   "source": [
    "plot(City.MPG ~ EngineSize, data=car_data, main=\"City MPG by Engine Size\")"
   ]
  },
  {
   "cell_type": "markdown",
   "id": "eleven-transmission",
   "metadata": {},
   "source": [
    "##### What do we notice?\n",
    "\n",
    "There is clearly a relationship, but it is not linear.  \n",
    "\n",
    "#### Log Transformation\n",
    "A very common remedy for this is a logarithmic transformation. We take the log of the response variable."
   ]
  },
  {
   "cell_type": "code",
   "execution_count": null,
   "id": "catholic-provider",
   "metadata": {},
   "outputs": [],
   "source": [
    "plot(log(City.MPG) ~ EngineSize, data=car_data, main=\"Log(City MPG) by Engine Size\")"
   ]
  },
  {
   "cell_type": "markdown",
   "id": "wicked-virus",
   "metadata": {},
   "source": [
    "#### Square Root Transformation\n",
    "\n",
    "Another possible transformation is to take the square root of the response variable."
   ]
  },
  {
   "cell_type": "code",
   "execution_count": null,
   "id": "taken-lighter",
   "metadata": {},
   "outputs": [],
   "source": [
    "plot(sqrt(City.MPG) ~ EngineSize, data=car_data, main=\"Square Root of City MPG by Engine Size\")"
   ]
  },
  {
   "cell_type": "markdown",
   "id": "paperback-bumper",
   "metadata": {},
   "source": [
    "##### Effect of Transformations\n",
    "\n",
    "We can see that both transformations improve the linearity of the relationship. We can explore this improvement by comparing the regression models for each variant of the response variable (raw data, log transformation, square root transformation)."
   ]
  },
  {
   "cell_type": "code",
   "execution_count": null,
   "id": "iraqi-juice",
   "metadata": {},
   "outputs": [],
   "source": [
    "mpg_model01 <- lm(City.MPG ~ EngineSize, data=car_data)\n",
    "summary(mpg_model01)"
   ]
  },
  {
   "cell_type": "code",
   "execution_count": null,
   "id": "marine-decision",
   "metadata": {},
   "outputs": [],
   "source": [
    "mpg_model02 <- lm(log(City.MPG) ~ EngineSize, data=car_data)\n",
    "summary(mpg_model02)"
   ]
  },
  {
   "cell_type": "code",
   "execution_count": null,
   "id": "third-tractor",
   "metadata": {},
   "outputs": [],
   "source": [
    "mpg_model03 <- lm(sqrt(City.MPG) ~ EngineSize, data=car_data)\n",
    "summary(mpg_model03)"
   ]
  },
  {
   "cell_type": "markdown",
   "id": "narrow-daily",
   "metadata": {},
   "source": [
    "##### Observations\n",
    "\n",
    "Both transformations result in a better $R^2$, but the log transformation seems to do the best of the three. \n",
    "\n",
    "##### Visualize Linear Model with Data\n",
    "It is also useful to view the plot of each model with the corresponding scatter plot."
   ]
  },
  {
   "cell_type": "code",
   "execution_count": null,
   "id": "incorrect-cover",
   "metadata": {},
   "outputs": [],
   "source": [
    "plot(City.MPG ~ EngineSize, data=car_data, main=\"City MPG by Engine Size\")\n",
    "abline(mpg_model01,lwd=2,col=\"blue\")"
   ]
  },
  {
   "cell_type": "code",
   "execution_count": null,
   "id": "leading-validity",
   "metadata": {},
   "outputs": [],
   "source": [
    "plot(log(City.MPG) ~ EngineSize, data=car_data, main=\"Log(City MPG) by Engine Size\")\n",
    "abline(mpg_model02,lwd=2,col=\"blue\")"
   ]
  },
  {
   "cell_type": "code",
   "execution_count": null,
   "id": "proved-probe",
   "metadata": {},
   "outputs": [],
   "source": [
    "plot(sqrt(City.MPG) ~ EngineSize, data=car_data, main=\"Square Root of City MPG by Engine Size\")\n",
    "abline(mpg_model03,lwd=2,col=\"blue\")"
   ]
  },
  {
   "cell_type": "markdown",
   "id": "internal-finnish",
   "metadata": {},
   "source": [
    "##### Diagnostic Plots\n",
    "\n",
    "Finally, diagnostic plots can show how transformations improve the model fit."
   ]
  },
  {
   "cell_type": "code",
   "execution_count": null,
   "id": "commercial-specific",
   "metadata": {},
   "outputs": [],
   "source": [
    "par(mfrow=c(2,2))\n",
    "plot(mpg_model01, which=1:2)\n",
    "plot(mpg_model02, which=1:2)\n",
    "plot(mpg_model03, which=1:2)"
   ]
  },
  {
   "cell_type": "markdown",
   "id": "facial-patent",
   "metadata": {},
   "source": [
    "\n",
    "## 2. Scaling and Standardizing Variables\n",
    "\n",
    "Scaling variables is advisable to ensure that the scale and range of different variables is comparable.  Consider the following example, where the Weight and Engine Size of a car are measured on very different scales.  In particular, pay attendion to the model coefficients for each regression model."
   ]
  },
  {
   "cell_type": "code",
   "execution_count": null,
   "id": "comic-england",
   "metadata": {},
   "outputs": [],
   "source": [
    "hist(car_data$Weight)\n",
    "hist(car_data$EngineSize)\n",
    "plot(EngineSize ~ Weight, data = car_data)"
   ]
  },
  {
   "cell_type": "code",
   "execution_count": null,
   "id": "standard-reaction",
   "metadata": {},
   "outputs": [],
   "source": [
    "eng_model01 <- lm(EngineSize ~ Weight, data=car_data)\n",
    "summary(eng_model01)"
   ]
  },
  {
   "cell_type": "markdown",
   "id": "developing-knock",
   "metadata": {},
   "source": [
    "### Common Scaling\n",
    "\n",
    "With common scaling, all the values in a given column are scaled so that they fall between 0 and 1.\n",
    "\n",
    "In the example below, both variables are scaled with common scaling, and another regression model is created. What has changed? What has remained the same?"
   ]
  },
  {
   "cell_type": "code",
   "execution_count": null,
   "id": "alternate-arrangement",
   "metadata": {},
   "outputs": [],
   "source": [
    "max_Weight <- max(car_data$Weight)\n",
    "min_Weight <- min(car_data$Weight)\n",
    "car_data$Weight_scaled <- (car_data$Weight - min_Weight)/(max_Weight - min_Weight)\n",
    "\n",
    "max_EngineSize <- max(car_data$EngineSize)\n",
    "min_EngineSize <- min(car_data$EngineSize)\n",
    "car_data$EngineSize_scaled <- (car_data$EngineSize - min_EngineSize)/(max_EngineSize - min_EngineSize)\n",
    "\n",
    "hist(car_data$Weight_scaled)\n",
    "hist(car_data$EngineSize_scaled)\n",
    "plot(EngineSize_scaled ~ Weight_scaled, data = car_data)"
   ]
  },
  {
   "cell_type": "code",
   "execution_count": null,
   "id": "funky-prague",
   "metadata": {},
   "outputs": [],
   "source": [
    "eng_model02 <- lm(EngineSize_scaled ~ Weight_scaled, data=car_data)\n",
    "summary(eng_model02)"
   ]
  },
  {
   "cell_type": "markdown",
   "id": "functional-potential",
   "metadata": {},
   "source": [
    "### Standardizing\n",
    "\n",
    "With standardizing, the values are transformed so that they have a distribution with mean 0 and standard deviation 1. If the original distribution is normal, this transformation results in the **_standard normal distribution_**.\n",
    "\n",
    "This is effectively computing the **_z-score_** of each value.\n",
    "\n",
    "In the example below, both variables are standardized, and a third regression model is created. What has changed? What has remained the same?"
   ]
  },
  {
   "cell_type": "code",
   "execution_count": null,
   "id": "hawaiian-external",
   "metadata": {},
   "outputs": [],
   "source": [
    "mean_Weight <- mean(car_data$Weight)\n",
    "sd_Weight <- sd(car_data$Weight)\n",
    "car_data$Weight_std <- (car_data$Weight - mean_Weight)/sd_Weight\n",
    "\n",
    "mean_EngineSize <- mean(car_data$EngineSize)\n",
    "sd_EngineSize <- sd(car_data$EngineSize)\n",
    "car_data$EngineSize_std <- (car_data$EngineSize - mean_EngineSize)/sd_EngineSize\n",
    "\n",
    "hist(car_data$Weight_std)\n",
    "hist(car_data$EngineSize_std)\n",
    "plot(EngineSize_std ~ Weight_std, data = car_data)"
   ]
  },
  {
   "cell_type": "code",
   "execution_count": null,
   "id": "perfect-chase",
   "metadata": {},
   "outputs": [],
   "source": [
    "eng_model03 <- lm(EngineSize_std ~ Weight_std, data=car_data)\n",
    "summary(eng_model03)"
   ]
  },
  {
   "cell_type": "markdown",
   "id": "attached-vietnam",
   "metadata": {},
   "source": [
    "## 3. Missing Data \n",
    "\n",
    "Recall that 2 of the variables in this data set have missing data.  One way to handle this is to omit these data points from the data set altogether.\n",
    "\n",
    "By default, when plotting data or creating a regression model, R will skip rows where a value is missing in the response variable or a predictor. "
   ]
  },
  {
   "cell_type": "code",
   "execution_count": null,
   "id": "through-disney",
   "metadata": {},
   "outputs": [],
   "source": [
    "weight_model01 <- lm(Weight ~ Length, data=car_data)\n",
    "summary(weight_model01)\n",
    "\n",
    "plot(Weight ~ Length, data=car_data)\n",
    "abline(weight_model01, lwd=2, col=\"blue\")"
   ]
  },
  {
   "cell_type": "markdown",
   "id": "compliant-anxiety",
   "metadata": {},
   "source": [
    "### Imputation\n",
    "\n",
    "Another way to handle missing values is to **_impute_** the missing values based on the _other_ values of the variable in the data set. The most simplistic imputation is to use the **median** of the other data values (or, if the variable is categorical, use the **mode**.)\n",
    "\n",
    "Notice the distributions of the Length variable before and after imputation:"
   ]
  },
  {
   "cell_type": "code",
   "execution_count": null,
   "id": "organized-serve",
   "metadata": {},
   "outputs": [],
   "source": [
    "hist(car_data$Length, main=\"Car Length Distribution - Before Imputation\")\n",
    "\n",
    "car_data$Length[is.na(car_data$Length)] <- median(car_data$Length,na.rm=TRUE)\n",
    "hist(car_data$Length, main=\"Car Length Distribution - After Imputation\")"
   ]
  },
  {
   "cell_type": "markdown",
   "id": "delayed-vietnam",
   "metadata": {},
   "source": [
    "#### Effect of Imputation on the Model\n",
    "\n",
    "Now that there are no missing values for the length variable, create a new regression model.  How is it different?"
   ]
  },
  {
   "cell_type": "code",
   "execution_count": null,
   "id": "annoying-coral",
   "metadata": {},
   "outputs": [],
   "source": [
    "weight_model02 <- lm(Weight ~ Length, data=car_data)\n",
    "summary(weight_model02)\n",
    "\n",
    "plot(Weight ~ Length, data=car_data)\n",
    "abline(weight_model02, lwd=2, col=\"blue\")"
   ]
  },
  {
   "cell_type": "markdown",
   "id": "sticky-reality",
   "metadata": {},
   "source": [
    "#### Final Notes\n",
    "\n",
    "There are many more sophisticated methods of imputation, including:\n",
    "\n",
    "* Stratified Imputation - Divide data set up based on values of the _response_ variable (e.g., lowest to highest 25% of values) and for the variable being imputed assign the median value of that group to missing values in that subset of data.) \n",
    "* Create a linear model using other features in the data set to predict the variable with missing values. \n"
   ]
  },
  {
   "cell_type": "markdown",
   "id": "quality-nylon",
   "metadata": {},
   "source": [
    "### Suggestion \n",
    "\n",
    "Use one or more code cells below to practice the steps above by exploring other possible regression models."
   ]
  },
  {
   "cell_type": "code",
   "execution_count": null,
   "id": "driven-administrator",
   "metadata": {},
   "outputs": [],
   "source": []
  }
 ],
 "metadata": {
  "kernelspec": {
   "display_name": "R",
   "language": "R",
   "name": "ir"
  },
  "language_info": {
   "codemirror_mode": "r",
   "file_extension": ".r",
   "mimetype": "text/x-r-source",
   "name": "R",
   "pygments_lexer": "r",
   "version": "4.0.3"
  }
 },
 "nbformat": 4,
 "nbformat_minor": 5
}
