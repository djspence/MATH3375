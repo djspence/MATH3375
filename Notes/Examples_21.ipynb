{
 "cells": [
  {
   "cell_type": "markdown",
   "id": "ranging-amplifier",
   "metadata": {},
   "source": [
    "# MATH 3375 Examples Notebook #21\n",
    "\n",
    "# K-Means Clustering\n",
    "\n",
    "Previous models have been _**supervised**_ models, meaning that we knew in advance what the 'response' should be; we used that information to train models to recognize that known response.\n",
    "\n",
    "Another type of model is _**unsupervised**_. This means we analyze the data to find similarities and differences, and use those to classify the data as appropriately as possible.\n",
    "\n",
    "The technique shown below is a very common unsupervised model, called K-Means Clustering.  \n"
   ]
  },
  {
   "cell_type": "code",
   "execution_count": null,
   "id": "coastal-bandwidth",
   "metadata": {},
   "outputs": [],
   "source": [
    "#Look at data set\n",
    "head(iris)"
   ]
  },
  {
   "cell_type": "code",
   "execution_count": null,
   "id": "hazardous-might",
   "metadata": {},
   "outputs": [],
   "source": [
    "set.seed(3375)\n",
    "km_2_2 <- kmeans(iris[,1:2],centers=2,nstart=10)\n",
    "km_2_2"
   ]
  },
  {
   "cell_type": "code",
   "execution_count": null,
   "id": "encouraging-spider",
   "metadata": {},
   "outputs": [],
   "source": [
    "km_2_2$cluster"
   ]
  },
  {
   "cell_type": "code",
   "execution_count": null,
   "id": "found-april",
   "metadata": {},
   "outputs": [],
   "source": [
    "plot(Sepal.Length ~ Sepal.Width, col=km_2_2$cluster, data=iris)"
   ]
  },
  {
   "cell_type": "code",
   "execution_count": null,
   "id": "connected-lexington",
   "metadata": {},
   "outputs": [],
   "source": [
    "s.length <- (iris$Sepal.Length - min(iris$Sepal.Length))/(max(iris$Sepal.Length) - min(iris$Sepal.Length))\n",
    "s.width <- (iris$Sepal.Width - min(iris$Sepal.Width))/(max(iris$Sepal.Width)- min(iris$Sepal.Width))\n",
    "p.length <- (iris$Petal.Length - min(iris$Petal.Length))/(max(iris$Petal.Length) - min(iris$Petal.Length))\n",
    "p.width <- (iris$Petal.Width - min(iris$Petal.Width))/(max(iris$Petal.Width)- min(iris$Petal.Width))\n",
    "\n",
    "iris_scaled <- data.frame(s.length,s.width,p.length,p.width)\n",
    "\n",
    "summary(iris_scaled)"
   ]
  },
  {
   "cell_type": "code",
   "execution_count": null,
   "id": "confident-police",
   "metadata": {},
   "outputs": [],
   "source": [
    "kms_2_2 <- kmeans(iris_scaled[,1:2],centers=2,nstart=10)\n",
    "kms_2_2"
   ]
  },
  {
   "cell_type": "code",
   "execution_count": null,
   "id": "helpful-bikini",
   "metadata": {},
   "outputs": [],
   "source": [
    "kms_2_2$cluster"
   ]
  },
  {
   "cell_type": "code",
   "execution_count": null,
   "id": "impressive-carroll",
   "metadata": {},
   "outputs": [],
   "source": [
    "plot(s.length ~ s.width, col=kms_2_2$cluster, data=iris_scaled,\n",
    "    main=\"K-Means Clusters, 2 dimensions, k=2\")"
   ]
  },
  {
   "cell_type": "code",
   "execution_count": null,
   "id": "behavioral-boutique",
   "metadata": {},
   "outputs": [],
   "source": [
    "plot(Sepal.Length ~ Sepal.Width, col=kms_2_2$cluster, data=iris,\n",
    "    main=\"K-Means Clusters, 2 dimensions, k=2\")"
   ]
  },
  {
   "cell_type": "code",
   "execution_count": null,
   "id": "respective-immunology",
   "metadata": {},
   "outputs": [],
   "source": [
    "kms_2_2"
   ]
  },
  {
   "cell_type": "code",
   "execution_count": null,
   "id": "hawaiian-input",
   "metadata": {},
   "outputs": [],
   "source": [
    "kms_2_2$totss"
   ]
  },
  {
   "cell_type": "code",
   "execution_count": null,
   "id": "built-publisher",
   "metadata": {},
   "outputs": [],
   "source": [
    "kms_2_2$betweenss"
   ]
  },
  {
   "cell_type": "code",
   "execution_count": null,
   "id": "textile-cowboy",
   "metadata": {},
   "outputs": [],
   "source": [
    "kms_2_2$tot.withinss"
   ]
  },
  {
   "cell_type": "markdown",
   "id": "identified-reality",
   "metadata": {},
   "source": [
    "## Using More Dimensions\n",
    "\n",
    "We will run the algorithm again with all 4 features as dimensions. For purposes of _**visualizing**_ the clusters, we will use 2 features as plotting dimensions. Keep in mind that the algorithm is using more than just these 2 features to create the clusters."
   ]
  },
  {
   "cell_type": "code",
   "execution_count": null,
   "id": "exotic-pressing",
   "metadata": {},
   "outputs": [],
   "source": [
    "kms_4_2 <- kmeans(iris_scaled[,1:4],centers=2,nstart=10)\n",
    "kms_4_2"
   ]
  },
  {
   "cell_type": "code",
   "execution_count": null,
   "id": "covered-understanding",
   "metadata": {},
   "outputs": [],
   "source": [
    "plot(Sepal.Length ~ Sepal.Width, col=kms_4_2$cluster, data=iris,\n",
    "    main=\"K-Means Clusters, 4 dimensions, k=2\")"
   ]
  },
  {
   "cell_type": "code",
   "execution_count": null,
   "id": "adaptive-municipality",
   "metadata": {},
   "outputs": [],
   "source": [
    "plot(Petal.Length ~ Sepal.Width, col=kms_4_2$cluster, data=iris,\n",
    "    main=\"K-Means Clusters, 4 dimensions, k=2\")"
   ]
  },
  {
   "cell_type": "code",
   "execution_count": null,
   "id": "transparent-medline",
   "metadata": {},
   "outputs": [],
   "source": [
    "plot(Petal.Length ~ Petal.Width, col=kms_4_2$cluster, data=iris,\n",
    "    main=\"K-Means Clusters, 4 dimensions, k=2\")"
   ]
  },
  {
   "cell_type": "markdown",
   "id": "global-thickness",
   "metadata": {},
   "source": [
    "## Choosing Best Value for K\n",
    "\n",
    "How should we choose the best value for K? In other words, how do we decide the optimal number of clusters? The following procedure is an accepted practice for choosing K.\n",
    "\n",
    "* Run clustering algorithm on data set with several values of k\n",
    "* Keep track of the **_total within cluster SS_** for each k\n",
    "* Plot the results with k on x-axis and withinSS on y-axis\n",
    "\n",
    "The plot is called an 'elbow' graph. Beyond a certain point, the SS value begins to drop much more slowly, meaning that the value of adding more clusters is minimal. This \"optimal\" point on the graph often appears to be the 'crook' of the elbow. \n",
    "\n",
    "We carry out this process below. Notice that we start with k=1 so we can see the \"improvement\" from a single group to one divided into 2 clusters."
   ]
  },
  {
   "cell_type": "code",
   "execution_count": null,
   "id": "crazy-counter",
   "metadata": {},
   "outputs": [],
   "source": [
    "ss <- vector(length=6)\n",
    "for (k in 1:6) {\n",
    "    km <- kmeans(iris_scaled[,1:4],centers=k,nstart=10)\n",
    "    ss[k] <- km$tot.withinss\n",
    "}\n",
    "\n",
    "k <- 1:6\n",
    "plot(ss~k,pch=19,type=\"b\",main=\"Elbow Graph for K-Means\",\n",
    "     ylab=\"Total Within-Group Sum of Squares\")"
   ]
  },
  {
   "cell_type": "markdown",
   "id": "beneficial-edwards",
   "metadata": {},
   "source": [
    "### Reading the Elbow Graph\n",
    "\n",
    "Based on the above graph, k=2 has the most obvious 'crook', but there is still a slight crook at k=3.  Notice, however, that the SS does drop substantially from k=2 to k=3, whereas it does not drop near as much from k=3 to k=4. In other words, k=3 is the point at which the plot really begins to level off. For this reason, it would be most reasonable to select k=3.\n"
   ]
  },
  {
   "cell_type": "markdown",
   "id": "tracked-conjunction",
   "metadata": {},
   "source": [
    "## Review More on Your Own\n",
    "\n",
    "Remember that the **kmeans** function in R has documentation that you can review to learn more-- see the help page by running the next cell."
   ]
  },
  {
   "cell_type": "code",
   "execution_count": null,
   "id": "physical-spread",
   "metadata": {},
   "outputs": [],
   "source": [
    "?kmeans"
   ]
  }
 ],
 "metadata": {
  "kernelspec": {
   "display_name": "R",
   "language": "R",
   "name": "ir"
  },
  "language_info": {
   "codemirror_mode": "r",
   "file_extension": ".r",
   "mimetype": "text/x-r-source",
   "name": "R",
   "pygments_lexer": "r",
   "version": "4.0.3"
  }
 },
 "nbformat": 4,
 "nbformat_minor": 5
}
