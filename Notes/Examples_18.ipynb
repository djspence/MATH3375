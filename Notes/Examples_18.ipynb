{
 "cells": [
  {
   "cell_type": "markdown",
   "id": "ranging-amplifier",
   "metadata": {},
   "source": [
    "# MATH 3375 Examples Notebook #18\n",
    "\n",
    "# Regression Trees\n",
    "\n",
    "We have used trees for classification, but they can also be used to predict numeric (continuous) response variables. When used this way, they are called regression trees.\n",
    "\n",
    "Trees are often referred to as **CART**, or **C**lassification **A**nd **R**egression **T**rees.\n",
    "\n",
    "* Classification Trees assign the **_majority class_** of all observations in each terminal node\n",
    "* Regression Trees assign the **_average_** of the response variable for all observations in each terminal node\n",
    "\n",
    "We will illustrate with the **iris** data set, attempting to predict Petal Length.\n"
   ]
  },
  {
   "cell_type": "code",
   "execution_count": null,
   "id": "absolute-anchor",
   "metadata": {},
   "outputs": [],
   "source": [
    "#install.packages(\"rpart\")\n",
    "#install.packages(\"rpart.plot\")\n",
    "library(rpart)\n",
    "library(rpart.plot)"
   ]
  },
  {
   "cell_type": "code",
   "execution_count": null,
   "id": "flush-hungary",
   "metadata": {},
   "outputs": [],
   "source": [
    "#Look at data set\n",
    "head(iris)"
   ]
  },
  {
   "cell_type": "markdown",
   "id": "overall-tumor",
   "metadata": {},
   "source": [
    "## Example: Iris Petal Length\n",
    "\n",
    "We predict petal length using all other variables in the data set.\n",
    "\n",
    "Again, we hold out 5 rows that we can use for testing. We will train the tree with the remaining 145 rows.\n",
    "\n",
    "The model is pruned with default parameter settings in **rpart**."
   ]
  },
  {
   "cell_type": "code",
   "execution_count": null,
   "id": "crazy-counter",
   "metadata": {},
   "outputs": [],
   "source": [
    "test_rows <- c(14,23,80,119,123)\n",
    "iris_test <- iris[test_rows,]\n",
    "iris_train <- iris[-test_rows,]\n",
    "\n",
    "#Create model\n",
    "iris_model_tree_01 <- rpart(Petal.Length~.,data=iris_train)\n",
    "\n",
    "print(iris_model_tree_01)\n",
    "\n",
    "#View model sketch and show group sizes\n",
    "par(xpd=NA)\n",
    "plot(iris_model_tree_01)\n",
    "text(iris_model_tree_01,use.n=TRUE)"
   ]
  },
  {
   "cell_type": "code",
   "execution_count": null,
   "id": "antique-collectible",
   "metadata": {},
   "outputs": [],
   "source": [
    "rpart.plot(iris_model_tree_01)"
   ]
  },
  {
   "cell_type": "markdown",
   "id": "magnetic-deadline",
   "metadata": {},
   "source": [
    "## Using the Regression Tree for Prediction\n",
    "\n",
    "Using the test set that we set aside, we will see how the tree can be used for prediction.  _**Try using the tree above on the data below to compute for yourself what you expect the tree will predict.**_"
   ]
  },
  {
   "cell_type": "code",
   "execution_count": null,
   "id": "underlying-relationship",
   "metadata": {},
   "outputs": [],
   "source": [
    "iris_test\n"
   ]
  },
  {
   "cell_type": "code",
   "execution_count": null,
   "id": "biblical-manor",
   "metadata": {},
   "outputs": [],
   "source": [
    "test_pred <- predict(iris_model_tree_01,iris_test)\n",
    "test_pred"
   ]
  },
  {
   "cell_type": "markdown",
   "id": "careful-aquatic",
   "metadata": {},
   "source": [
    "### Comparing Predictions with Actual Values"
   ]
  },
  {
   "cell_type": "code",
   "execution_count": null,
   "id": "desperate-intellectual",
   "metadata": {},
   "outputs": [],
   "source": [
    "data.frame(Actual=iris_test$Petal.Length,Predicted=test_pred)"
   ]
  }
 ],
 "metadata": {
  "kernelspec": {
   "display_name": "R",
   "language": "R",
   "name": "ir"
  },
  "language_info": {
   "codemirror_mode": "r",
   "file_extension": ".r",
   "mimetype": "text/x-r-source",
   "name": "R",
   "pygments_lexer": "r",
   "version": "4.0.3"
  }
 },
 "nbformat": 4,
 "nbformat_minor": 5
}
