{
 "cells": [
  {
   "cell_type": "markdown",
   "id": "increasing-vacation",
   "metadata": {},
   "source": [
    "# MATH 3375 Examples Notebook #23\n",
    "\n",
    "# Non-Parametric Tests\n",
    "\n",
    "Many common statistical tests use distributions (such as the t-test) that may focus on the mean or standard deviation, or the test may have underlying assumptions that may not be a good fit (e.g., the assumption of normally distributed data). There are a number of alternative tests that  include simulation-based tests and non-parametric tests. \n",
    "\n",
    "## 1. McNemar's Test\n",
    "\n",
    "This test performs a comparison between 2 treatments, but for a binary result (whereas t-tests compare means for quantitative results). It is different from a 2-proportion z-test, because: \n",
    "1. A 2-proportion z-test assumes each observation is independent, whereas McNemar's Test works on paired data (each observation in the first sample is paired with (related or identical to) a corresponding observation in the second sample.\n",
    "2. A 2-proportion z-test can only compare the overall proportion of a given outcome between the 2 groups (because all observations are independent). McNemar's Test focuses on the frequency of disparate results for each set of paired observations.\n",
    "\n",
    "#### Background:\n",
    "100 patients are infected with a virus. It is possible that each patient has a slightly different mutation of the virus. Samples are drawn from each of the 100 patients, and 2 cultures are prepared for each patient.  For each patient, one culture is treated with Treatment A and the other is treated with Treatment B. \n",
    "\n",
    "* Treatment A successfully eradicated the virus in 61 of the 100 cases.\n",
    "* Treatment B successfully eradicated the virus in 61 of the 100 cases.\n",
    "\n",
    "Note that it is not sufficient to compare the proportion of successes in each case (as we would in a 2-proportion z-test.) See the 2 possible scenarios below for a better illustration of how McNemar's Test is different (and more powerful).\n",
    "\n",
    "#### Results: Scenario 1\n",
    "\n",
    "* 32 cases: Neither treatment worked\n",
    "* 61 cases: Both treatments worked\n",
    "* 7 cases: B worked, A did not\n",
    "* 0 cases: A worked, B did not\n",
    "\n",
    "#### Results: Scenario 2\n",
    "\n",
    "* 12 cases: Neither treatment worked\n",
    "* 41 cases: Both treatments worked\n",
    "* 27 cases: B worked, A did not\n",
    "* 20 cases: A worked, B did not\n"
   ]
  },
  {
   "cell_type": "code",
   "execution_count": 1,
   "id": "surrounded-sigma",
   "metadata": {},
   "outputs": [
    {
     "data": {
      "text/html": [
       "<table>\n",
       "<caption>A matrix: 2 × 2 of type dbl</caption>\n",
       "<thead>\n",
       "\t<tr><th></th><th scope=col>B Worked</th><th scope=col>B Did Not</th></tr>\n",
       "</thead>\n",
       "<tbody>\n",
       "\t<tr><th scope=row>A Worked</th><td>61</td><td> 0</td></tr>\n",
       "\t<tr><th scope=row>A Did Not</th><td> 7</td><td>32</td></tr>\n",
       "</tbody>\n",
       "</table>\n"
      ],
      "text/latex": [
       "A matrix: 2 × 2 of type dbl\n",
       "\\begin{tabular}{r|ll}\n",
       "  & B Worked & B Did Not\\\\\n",
       "\\hline\n",
       "\tA Worked & 61 &  0\\\\\n",
       "\tA Did Not &  7 & 32\\\\\n",
       "\\end{tabular}\n"
      ],
      "text/markdown": [
       "\n",
       "A matrix: 2 × 2 of type dbl\n",
       "\n",
       "| <!--/--> | B Worked | B Did Not |\n",
       "|---|---|---|\n",
       "| A Worked | 61 |  0 |\n",
       "| A Did Not |  7 | 32 |\n",
       "\n"
      ],
      "text/plain": [
       "          B Worked B Did Not\n",
       "A Worked  61        0       \n",
       "A Did Not  7       32       "
      ]
     },
     "metadata": {},
     "output_type": "display_data"
    }
   ],
   "source": [
    "# Set up outcome matrix, Scenario 1\n",
    "\n",
    "data_tbl_1 <- matrix(c(61,0,7,32), ncol=2, byrow=TRUE)\n",
    "colnames(data_tbl_1) <- c('B Worked', 'B Did Not')\n",
    "rownames(data_tbl_1) <- c('A Worked', 'A Did Not')\n",
    "\n",
    "data_tbl_1"
   ]
  },
  {
   "cell_type": "code",
   "execution_count": 2,
   "id": "bottom-audio",
   "metadata": {},
   "outputs": [
    {
     "data": {
      "text/plain": [
       "\n",
       "\tMcNemar's Chi-squared test with continuity correction\n",
       "\n",
       "data:  data_tbl_1\n",
       "McNemar's chi-squared = 5.1429, df = 1, p-value = 0.02334\n"
      ]
     },
     "metadata": {},
     "output_type": "display_data"
    }
   ],
   "source": [
    "# Run McNemar's Test\n",
    "mcnemar.test(data_tbl_1)"
   ]
  },
  {
   "cell_type": "code",
   "execution_count": 3,
   "id": "chemical-candle",
   "metadata": {},
   "outputs": [
    {
     "data": {
      "text/html": [
       "<table>\n",
       "<caption>A matrix: 2 × 2 of type dbl</caption>\n",
       "<thead>\n",
       "\t<tr><th></th><th scope=col>B Worked</th><th scope=col>B Did Not</th></tr>\n",
       "</thead>\n",
       "<tbody>\n",
       "\t<tr><th scope=row>A Worked</th><td>41</td><td>20</td></tr>\n",
       "\t<tr><th scope=row>A Did Not</th><td>27</td><td>12</td></tr>\n",
       "</tbody>\n",
       "</table>\n"
      ],
      "text/latex": [
       "A matrix: 2 × 2 of type dbl\n",
       "\\begin{tabular}{r|ll}\n",
       "  & B Worked & B Did Not\\\\\n",
       "\\hline\n",
       "\tA Worked & 41 & 20\\\\\n",
       "\tA Did Not & 27 & 12\\\\\n",
       "\\end{tabular}\n"
      ],
      "text/markdown": [
       "\n",
       "A matrix: 2 × 2 of type dbl\n",
       "\n",
       "| <!--/--> | B Worked | B Did Not |\n",
       "|---|---|---|\n",
       "| A Worked | 41 | 20 |\n",
       "| A Did Not | 27 | 12 |\n",
       "\n"
      ],
      "text/plain": [
       "          B Worked B Did Not\n",
       "A Worked  41       20       \n",
       "A Did Not 27       12       "
      ]
     },
     "metadata": {},
     "output_type": "display_data"
    }
   ],
   "source": [
    "# Set up outcome matrix, Scenario 2\n",
    "\n",
    "data_tbl_2 <- matrix(c(41,20,27,12), ncol=2, byrow=TRUE)\n",
    "colnames(data_tbl_2) <- c('B Worked', 'B Did Not')\n",
    "rownames(data_tbl_2) <- c('A Worked', 'A Did Not')\n",
    "\n",
    "data_tbl_2"
   ]
  },
  {
   "cell_type": "code",
   "execution_count": 4,
   "id": "handled-import",
   "metadata": {},
   "outputs": [
    {
     "data": {
      "text/plain": [
       "\n",
       "\tMcNemar's Chi-squared test with continuity correction\n",
       "\n",
       "data:  data_tbl_2\n",
       "McNemar's chi-squared = 0.76596, df = 1, p-value = 0.3815\n"
      ]
     },
     "metadata": {},
     "output_type": "display_data"
    }
   ],
   "source": [
    "# Run McNemar's Test\n",
    "mcnemar.test(data_tbl_2)"
   ]
  },
  {
   "cell_type": "markdown",
   "id": "minimal-success",
   "metadata": {},
   "source": [
    "### Test Results\n",
    "\n",
    "Scenario 1 would provide sufficient evidence that Treatment B is better, with $p \\approx 0.02 \\lt 0.05$.\n",
    "\n",
    "Scenario 2 would **not** provide sufficient evidence that either treatment is better, with $p \\approx 0.38 \\ge 0.05$.\n"
   ]
  },
  {
   "cell_type": "markdown",
   "id": "thorough-penny",
   "metadata": {},
   "source": [
    "## 2. Wilcoxon Signed Rank Test\n",
    "\n",
    "This test focuses on medians rather than means. This is especially useful for non-normal data or data with outliers or skewed distributions (where mean and standard deviation are heavily influenced by outliers or skewness).\n",
    "\n",
    "### Two variations of the test:\n",
    "\n",
    "#### a. Compare median of sample to specific value\n",
    "Application is analogous to 1-sample t-test, but focusing on median instead of mean.\n",
    "\n"
   ]
  },
  {
   "cell_type": "code",
   "execution_count": 5,
   "id": "incoming-invitation",
   "metadata": {},
   "outputs": [
    {
     "data": {
      "image/png": "[encoded data removed]",
      "text/plain": [
       "plot without title"
      ]
     },
     "metadata": {
      "image/png": {
       "height": 420,
       "width": 420
      }
     },
     "output_type": "display_data"
    }
   ],
   "source": [
    "#Example with single sample: petal length of iris sample\n",
    "\n",
    "M = median(iris$Petal.Length)\n",
    "boxplot(Petal.Length~Species,data=iris)\n",
    "abline(h=M,col=\"red\")\n",
    "\n"
   ]
  },
  {
   "cell_type": "code",
   "execution_count": 6,
   "id": "vertical-relationship",
   "metadata": {},
   "outputs": [
    {
     "data": {
      "text/plain": [
       "\n",
       "\tWilcoxon signed rank test with continuity correction\n",
       "\n",
       "data:  Petal.setosa\n",
       "V = 0, p-value = 6.415e-10\n",
       "alternative hypothesis: true location is not equal to 4.35\n"
      ]
     },
     "metadata": {},
     "output_type": "display_data"
    },
    {
     "data": {
      "text/plain": [
       "\n",
       "\tWilcoxon signed rank test with continuity correction\n",
       "\n",
       "data:  Petal.versicolor\n",
       "V = 576.5, p-value = 0.5588\n",
       "alternative hypothesis: true location is not equal to 4.35\n"
      ]
     },
     "metadata": {},
     "output_type": "display_data"
    },
    {
     "data": {
      "text/plain": [
       "\n",
       "\tWilcoxon signed rank test with continuity correction\n",
       "\n",
       "data:  Petal.virginica\n",
       "V = 1275, p-value = 7.579e-10\n",
       "alternative hypothesis: true location is not equal to 4.35\n"
      ]
     },
     "metadata": {},
     "output_type": "display_data"
    }
   ],
   "source": [
    "#Test each species separately\n",
    "\n",
    "Petal.setosa <- iris$Petal.Length[iris$Species==\"setosa\"]\n",
    "Petal.versicolor <- iris$Petal.Length[iris$Species==\"versicolor\"]\n",
    "Petal.virginica <- iris$Petal.Length[iris$Species==\"virginica\"]\n",
    "\n",
    "wilcox.test(Petal.setosa, mu=M)\n",
    "wilcox.test(Petal.versicolor, mu=M)\n",
    "wilcox.test(Petal.virginica, mu=M)"
   ]
  },
  {
   "cell_type": "markdown",
   "id": "particular-barcelona",
   "metadata": {},
   "source": [
    "\n",
    "#### b. Compare median of 2 _paired_ samples to each other\n",
    "Application is analogous to matched pairs t-test, but focusing on median instead of mean.\n",
    "\n",
    "The scenario below compares reaction times for participants' left and right hands in a computer-based task.\n",
    "\n",
    "Null hypothesis: Median difference in reaction time is zero\n",
    "Alternative: Median difference in reaction time is NOT zero"
   ]
  },
  {
   "cell_type": "code",
   "execution_count": 7,
   "id": "artificial-alert",
   "metadata": {},
   "outputs": [
    {
     "data": {
      "image/png": "[encoded data removed]",
      "text/plain": [
       "Plot with title “Reaction Time Difference (Left-Right)”"
      ]
     },
     "metadata": {
      "image/png": {
       "height": 420,
       "width": 420
      }
     },
     "output_type": "display_data"
    }
   ],
   "source": [
    "left <- c(50, 47, 62, 81, 77, 49, 56, 78)\n",
    "right <- c(45, 48, 64, 82, 74, 42, 52, 72)\n",
    "\n",
    "boxplot (left-right,horizontal=TRUE,main=\"Reaction Time Difference (Left-Right)\")\n"
   ]
  },
  {
   "cell_type": "code",
   "execution_count": 8,
   "id": "incredible-treatment",
   "metadata": {},
   "outputs": [
    {
     "data": {
      "text/plain": [
       "\n",
       "\tWilcoxon signed rank test with continuity correction\n",
       "\n",
       "data:  left and right\n",
       "V = 30, p-value = 0.1069\n",
       "alternative hypothesis: true location shift is not equal to 0\n"
      ]
     },
     "metadata": {},
     "output_type": "display_data"
    }
   ],
   "source": [
    "#Non-Parametric Test for Median Difference\n",
    "\n",
    "wilcox.test(left,right, paired = TRUE, exact=FALSE)"
   ]
  },
  {
   "cell_type": "markdown",
   "id": "extreme-wonder",
   "metadata": {},
   "source": [
    "## 3. Mann-Whitney Test\n",
    "\n",
    "This test is analogous to a 2-Sample t-test for independent samples, but focusing on median instead of mean. It is a variant of the Wilcoxon Rank Test.\n",
    "\n",
    "We demonstrate below using a test to compare median horsepower and mpg between manual and automatic transmission cars.\n",
    "\n",
    "Notice how the test compares to the t-test in each case.\n"
   ]
  },
  {
   "cell_type": "code",
   "execution_count": 9,
   "id": "damaged-sensitivity",
   "metadata": {},
   "outputs": [
    {
     "data": {
      "text/html": [
       "<table>\n",
       "<caption>A data.frame: 3 × 11</caption>\n",
       "<thead>\n",
       "\t<tr><th></th><th scope=col>mpg</th><th scope=col>cyl</th><th scope=col>disp</th><th scope=col>hp</th><th scope=col>drat</th><th scope=col>wt</th><th scope=col>qsec</th><th scope=col>vs</th><th scope=col>am</th><th scope=col>gear</th><th scope=col>carb</th></tr>\n",
       "\t<tr><th></th><th scope=col>&lt;dbl&gt;</th><th scope=col>&lt;dbl&gt;</th><th scope=col>&lt;dbl&gt;</th><th scope=col>&lt;dbl&gt;</th><th scope=col>&lt;dbl&gt;</th><th scope=col>&lt;dbl&gt;</th><th scope=col>&lt;dbl&gt;</th><th scope=col>&lt;dbl&gt;</th><th scope=col>&lt;dbl&gt;</th><th scope=col>&lt;dbl&gt;</th><th scope=col>&lt;dbl&gt;</th></tr>\n",
       "</thead>\n",
       "<tbody>\n",
       "\t<tr><th scope=row>Mazda RX4</th><td>21.0</td><td>6</td><td>160</td><td>110</td><td>3.90</td><td>2.620</td><td>16.46</td><td>0</td><td>1</td><td>4</td><td>4</td></tr>\n",
       "\t<tr><th scope=row>Mazda RX4 Wag</th><td>21.0</td><td>6</td><td>160</td><td>110</td><td>3.90</td><td>2.875</td><td>17.02</td><td>0</td><td>1</td><td>4</td><td>4</td></tr>\n",
       "\t<tr><th scope=row>Datsun 710</th><td>22.8</td><td>4</td><td>108</td><td> 93</td><td>3.85</td><td>2.320</td><td>18.61</td><td>1</td><td>1</td><td>4</td><td>1</td></tr>\n",
       "</tbody>\n",
       "</table>\n"
      ],
      "text/latex": [
       "A data.frame: 3 × 11\n",
       "\\begin{tabular}{r|lllllllllll}\n",
       "  & mpg & cyl & disp & hp & drat & wt & qsec & vs & am & gear & carb\\\\\n",
       "  & <dbl> & <dbl> & <dbl> & <dbl> & <dbl> & <dbl> & <dbl> & <dbl> & <dbl> & <dbl> & <dbl>\\\\\n",
       "\\hline\n",
       "\tMazda RX4 & 21.0 & 6 & 160 & 110 & 3.90 & 2.620 & 16.46 & 0 & 1 & 4 & 4\\\\\n",
       "\tMazda RX4 Wag & 21.0 & 6 & 160 & 110 & 3.90 & 2.875 & 17.02 & 0 & 1 & 4 & 4\\\\\n",
       "\tDatsun 710 & 22.8 & 4 & 108 &  93 & 3.85 & 2.320 & 18.61 & 1 & 1 & 4 & 1\\\\\n",
       "\\end{tabular}\n"
      ],
      "text/markdown": [
       "\n",
       "A data.frame: 3 × 11\n",
       "\n",
       "| <!--/--> | mpg &lt;dbl&gt; | cyl &lt;dbl&gt; | disp &lt;dbl&gt; | hp &lt;dbl&gt; | drat &lt;dbl&gt; | wt &lt;dbl&gt; | qsec &lt;dbl&gt; | vs &lt;dbl&gt; | am &lt;dbl&gt; | gear &lt;dbl&gt; | carb &lt;dbl&gt; |\n",
       "|---|---|---|---|---|---|---|---|---|---|---|---|\n",
       "| Mazda RX4 | 21.0 | 6 | 160 | 110 | 3.90 | 2.620 | 16.46 | 0 | 1 | 4 | 4 |\n",
       "| Mazda RX4 Wag | 21.0 | 6 | 160 | 110 | 3.90 | 2.875 | 17.02 | 0 | 1 | 4 | 4 |\n",
       "| Datsun 710 | 22.8 | 4 | 108 |  93 | 3.85 | 2.320 | 18.61 | 1 | 1 | 4 | 1 |\n",
       "\n"
      ],
      "text/plain": [
       "              mpg  cyl disp hp  drat wt    qsec  vs am gear carb\n",
       "Mazda RX4     21.0 6   160  110 3.90 2.620 16.46 0  1  4    4   \n",
       "Mazda RX4 Wag 21.0 6   160  110 3.90 2.875 17.02 0  1  4    4   \n",
       "Datsun 710    22.8 4   108   93 3.85 2.320 18.61 1  1  4    1   "
      ]
     },
     "metadata": {},
     "output_type": "display_data"
    }
   ],
   "source": [
    "head(mtcars,3)"
   ]
  },
  {
   "cell_type": "markdown",
   "id": "stock-devil",
   "metadata": {},
   "source": [
    "#### Tests for Horsepower: Median and Mean"
   ]
  },
  {
   "cell_type": "code",
   "execution_count": 10,
   "id": "rising-forum",
   "metadata": {},
   "outputs": [
    {
     "data": {
      "image/png": "[encoded data removed]",
      "text/plain": [
       "Plot with title “Histogram of mtcars$hp”"
      ]
     },
     "metadata": {
      "image/png": {
       "height": 420,
       "width": 420
      }
     },
     "output_type": "display_data"
    }
   ],
   "source": [
    "hist(mtcars$hp)"
   ]
  },
  {
   "cell_type": "code",
   "execution_count": 11,
   "id": "occasional-samuel",
   "metadata": {},
   "outputs": [
    {
     "data": {
      "image/png": "[encoded data removed]",
      "text/plain": [
       "plot without title"
      ]
     },
     "metadata": {
      "image/png": {
       "height": 420,
       "width": 420
      }
     },
     "output_type": "display_data"
    }
   ],
   "source": [
    "boxplot(hp~am,data=mtcars)"
   ]
  },
  {
   "cell_type": "code",
   "execution_count": 12,
   "id": "aggressive-stroke",
   "metadata": {},
   "outputs": [
    {
     "data": {
      "text/plain": [
       "\n",
       "\tWilcoxon rank sum test with continuity correction\n",
       "\n",
       "data:  hp by am\n",
       "W = 176, p-value = 0.0457\n",
       "alternative hypothesis: true location shift is not equal to 0\n"
      ]
     },
     "metadata": {},
     "output_type": "display_data"
    }
   ],
   "source": [
    "# Median test (non-parametric)\n",
    "wilcox.test(hp~am,data=mtcars,exact=FALSE)"
   ]
  },
  {
   "cell_type": "code",
   "execution_count": 13,
   "id": "attractive-manual",
   "metadata": {},
   "outputs": [
    {
     "data": {
      "text/plain": [
       "\n",
       "\tWelch Two Sample t-test\n",
       "\n",
       "data:  hp by am\n",
       "t = 1.2662, df = 18.715, p-value = 0.221\n",
       "alternative hypothesis: true difference in means is not equal to 0\n",
       "95 percent confidence interval:\n",
       " -21.87858  88.71259\n",
       "sample estimates:\n",
       "mean in group 0 mean in group 1 \n",
       "       160.2632        126.8462 \n"
      ]
     },
     "metadata": {},
     "output_type": "display_data"
    }
   ],
   "source": [
    "# Mean test (parametric)\n",
    "t.test(hp~am,data=mtcars,exact=FALSE)"
   ]
  },
  {
   "cell_type": "markdown",
   "id": "metric-mortgage",
   "metadata": {},
   "source": [
    "##### Observations\n",
    "Notice that the t-test was not significant for the comparison, but the Mann Whitney test was. This is related to the strongly skewed distribution and presence of outliers for the horsepower variable.\n"
   ]
  },
  {
   "cell_type": "markdown",
   "id": "dominant-local",
   "metadata": {},
   "source": [
    "#### Tests for MPG: Median and Mean"
   ]
  },
  {
   "cell_type": "code",
   "execution_count": 14,
   "id": "northern-astronomy",
   "metadata": {},
   "outputs": [
    {
     "data": {
      "image/png": "[encoded data removed]",
      "text/plain": [
       "Plot with title “Histogram of mtcars$mpg”"
      ]
     },
     "metadata": {
      "image/png": {
       "height": 420,
       "width": 420
      }
     },
     "output_type": "display_data"
    }
   ],
   "source": [
    "hist(mtcars$mpg)"
   ]
  },
  {
   "cell_type": "code",
   "execution_count": 15,
   "id": "sitting-syracuse",
   "metadata": {},
   "outputs": [
    {
     "data": {
      "image/png": "[encoded data removed]",
      "text/plain": [
       "plot without title"
      ]
     },
     "metadata": {
      "image/png": {
       "height": 420,
       "width": 420
      }
     },
     "output_type": "display_data"
    }
   ],
   "source": [
    "boxplot(mpg~am,data=mtcars)"
   ]
  },
  {
   "cell_type": "code",
   "execution_count": 16,
   "id": "ready-adolescent",
   "metadata": {},
   "outputs": [
    {
     "data": {
      "text/plain": [
       "\n",
       "\tWilcoxon rank sum test with continuity correction\n",
       "\n",
       "data:  mpg by am\n",
       "W = 42, p-value = 0.001871\n",
       "alternative hypothesis: true location shift is not equal to 0\n"
      ]
     },
     "metadata": {},
     "output_type": "display_data"
    }
   ],
   "source": [
    "wilcox.test(mpg~am,data=mtcars,exact=FALSE)"
   ]
  },
  {
   "cell_type": "code",
   "execution_count": 17,
   "id": "anticipated-sunrise",
   "metadata": {},
   "outputs": [
    {
     "data": {
      "text/plain": [
       "\n",
       "\tWelch Two Sample t-test\n",
       "\n",
       "data:  mpg by am\n",
       "t = -3.7671, df = 18.332, p-value = 0.001374\n",
       "alternative hypothesis: true difference in means is not equal to 0\n",
       "95 percent confidence interval:\n",
       " -11.280194  -3.209684\n",
       "sample estimates:\n",
       "mean in group 0 mean in group 1 \n",
       "       17.14737        24.39231 \n"
      ]
     },
     "metadata": {},
     "output_type": "display_data"
    }
   ],
   "source": [
    "t.test(mpg~am,data=mtcars,exact=FALSE)"
   ]
  },
  {
   "cell_type": "markdown",
   "id": "characteristic-warrior",
   "metadata": {},
   "source": [
    "##### Observations\n",
    "Notice that for MPG, the distribution was closer to symmetric with no outliers. In this case, the t-test and Mann Whitney test were both able to detect a significant difference. \n"
   ]
  }
 ],
 "metadata": {
  "kernelspec": {
   "display_name": "R",
   "language": "R",
   "name": "ir"
  },
  "language_info": {
   "codemirror_mode": "r",
   "file_extension": ".r",
   "mimetype": "text/x-r-source",
   "name": "R",
   "pygments_lexer": "r",
   "version": "4.0.3"
  }
 },
 "nbformat": 4,
 "nbformat_minor": 5
}
