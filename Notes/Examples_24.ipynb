{
 "cells": [
  {
   "cell_type": "markdown",
   "id": "increasing-vacation",
   "metadata": {},
   "source": [
    "# MATH 3375 Examples Notebook #24\n",
    "\n",
    "# Non-Parametric Tests\n",
    "\n",
    "Many common statistical tests use distributions (such as the t-test) that may focus on the mean or standard deviation, or the test may have underlying assumptions that may not be a good fit (e.g., the assumption of normally distributed data). There are a number of alternative tests that  include simulation-based tests and non-parametric tests. \n",
    "\n",
    "## 1. McNemar's Test\n",
    "\n",
    "This test performs a comparison between 2 treatments, but for a binary result (whereas t-tests compare means for quantitative results). It is different from a 2-proportion z-test, because: \n",
    "1. A 2-proportion z-test assumes each observation is independent, whereas McNemar's Test works on paired data (each observation in the first sample is paired with (related or identical to) a corresponding observation in the second sample.\n",
    "2. A 2-proportion z-test can only compare the overall proportion of a given outcome between the 2 groups (because all observations are independent). McNemar's Test focuses on the frequency of disparate results for each set of paired observations.\n",
    "\n",
    "#### Background:\n",
    "100 patients are infected with a virus. It is possible that each patient has a slightly different mutation of the virus. Samples are drawn from each of the 100 patients, and 2 cultures are prepared for each patient.  For each patient, one culture is treated with Treatment A and the other is treated with Treatment B. \n",
    "\n",
    "* Treatment A successfully eradicated the virus in 61 of the 100 cases.\n",
    "* Treatment B successfully eradicated the virus in 68 of the 100 cases.\n",
    "\n",
    "Note that it is not sufficient to compare the proportion of successes in each case (as we would in a 2-proportion z-test.) See the 2 possible scenarios below for a better illustration of how McNemar's Test is different (and more powerful).\n",
    "\n",
    "#### Results: Scenario 1\n",
    "\n",
    "* 32 cases: Neither treatment worked\n",
    "* 61 cases: Both treatments worked\n",
    "* 7 cases: B worked, A did not\n",
    "* 0 cases: A worked, B did not\n",
    "\n",
    "#### Results: Scenario 2\n",
    "\n",
    "* 12 cases: Neither treatment worked\n",
    "* 41 cases: Both treatments worked\n",
    "* 27 cases: B worked, A did not\n",
    "* 20 cases: A worked, B did not\n"
   ]
  },
  {
   "cell_type": "code",
   "execution_count": null,
   "id": "surrounded-sigma",
   "metadata": {},
   "outputs": [],
   "source": [
    "# Set up outcome matrix, Scenario 1\n",
    "\n",
    "data_tbl_1 <- matrix(c(61,0,7,32), ncol=2, byrow=TRUE)\n",
    "colnames(data_tbl_1) <- c('B Worked', 'B Did Not')\n",
    "rownames(data_tbl_1) <- c('A Worked', 'A Did Not')\n",
    "\n",
    "data_tbl_1"
   ]
  },
  {
   "cell_type": "code",
   "execution_count": null,
   "id": "bottom-audio",
   "metadata": {},
   "outputs": [],
   "source": [
    "# Run McNemar's Test\n",
    "mcnemar.test(data_tbl_1)"
   ]
  },
  {
   "cell_type": "code",
   "execution_count": null,
   "id": "chemical-candle",
   "metadata": {},
   "outputs": [],
   "source": [
    "# Set up outcome matrix, Scenario 2\n",
    "\n",
    "data_tbl_2 <- matrix(c(41,20,27,12), ncol=2, byrow=TRUE)\n",
    "colnames(data_tbl_2) <- c('B Worked', 'B Did Not')\n",
    "rownames(data_tbl_2) <- c('A Worked', 'A Did Not')\n",
    "\n",
    "data_tbl_2"
   ]
  },
  {
   "cell_type": "code",
   "execution_count": null,
   "id": "handled-import",
   "metadata": {},
   "outputs": [],
   "source": [
    "# Run McNemar's Test\n",
    "mcnemar.test(data_tbl_2)"
   ]
  },
  {
   "cell_type": "markdown",
   "id": "minimal-success",
   "metadata": {},
   "source": [
    "### Test Results\n",
    "\n",
    "Scenario 1 would provide sufficient evidence that Treatment B is better, with $p \\approx 0.02 \\lt 0.05$.\n",
    "\n",
    "Scenario 2 would **not** provide sufficient evidence that either treatment is better, with $p \\approx 0.38 \\ge 0.05$.\n"
   ]
  },
  {
   "cell_type": "markdown",
   "id": "thorough-penny",
   "metadata": {},
   "source": [
    "## 2. Wilcoxon Signed Rank Test\n",
    "\n",
    "This test focuses on medians rather than means. This is especially useful for non-normal data or data with outliers or skewed distributions (where mean and standard deviation are heavily influenced by outliers or skewness).\n",
    "\n",
    "### Two variations of the test:\n",
    "\n",
    "#### a. Compare median of sample to specific value\n",
    "Application is analogous to 1-sample t-test, but focusing on median instead of mean.\n",
    "\n"
   ]
  },
  {
   "cell_type": "code",
   "execution_count": null,
   "id": "incoming-invitation",
   "metadata": {},
   "outputs": [],
   "source": [
    "#Example with single sample: petal length of iris sample\n",
    "\n",
    "M = median(iris$Petal.Length)\n",
    "boxplot(Petal.Length~Species,data=iris)\n",
    "abline(h=M,col=\"red\")\n",
    "\n"
   ]
  },
  {
   "cell_type": "code",
   "execution_count": null,
   "id": "vertical-relationship",
   "metadata": {},
   "outputs": [],
   "source": [
    "#Test each species separately\n",
    "\n",
    "Petal.setosa <- iris$Petal.Length[iris$Species==\"setosa\"]\n",
    "Petal.versicolor <- iris$Petal.Length[iris$Species==\"versicolor\"]\n",
    "Petal.virginica <- iris$Petal.Length[iris$Species==\"virginica\"]\n",
    "\n",
    "wilcox.test(Petal.setosa, mu=M)\n",
    "wilcox.test(Petal.versicolor, mu=M)\n",
    "wilcox.test(Petal.virginica, mu=M)"
   ]
  },
  {
   "cell_type": "markdown",
   "id": "particular-barcelona",
   "metadata": {},
   "source": [
    "\n",
    "#### b. Compare median of 2 _paired_ samples to each other\n",
    "Application is analogous to matched pairs t-test, but focusing on median instead of mean.\n",
    "\n",
    "The scenario below compares reaction times for participants' left and right hands in a computer-based task.\n",
    "\n",
    "Null hypothesis: Median difference in reaction time is zero\n",
    "Alternative: Median difference in reaction time is NOT zero"
   ]
  },
  {
   "cell_type": "code",
   "execution_count": null,
   "id": "artificial-alert",
   "metadata": {},
   "outputs": [],
   "source": [
    "left <- c(50, 47, 62, 81, 77, 49, 56, 78)\n",
    "right <- c(45, 48, 64, 82, 74, 42, 52, 72)\n",
    "\n",
    "boxplot (left-right,horizontal=TRUE,main=\"Reaction Time Difference (Left-Right)\")\n"
   ]
  },
  {
   "cell_type": "code",
   "execution_count": null,
   "id": "incredible-treatment",
   "metadata": {},
   "outputs": [],
   "source": [
    "#Non-Parametric Test for Median Difference\n",
    "\n",
    "wilcox.test(left,right, paired = TRUE, exact=FALSE)"
   ]
  },
  {
   "cell_type": "markdown",
   "id": "extreme-wonder",
   "metadata": {},
   "source": [
    "## 3. Mann-Whitney Test\n",
    "\n",
    "This test is analogous to a 2-Sample t-test for independent samples, but focusing on median instead of mean. It is a variant of the Wilcoxon Rank Test.\n",
    "\n",
    "We demonstrate below using a test to compare median horsepower and mpg between manual and automatic transmission cars.\n",
    "\n",
    "Notice how the test compares to the t-test in each case.\n"
   ]
  },
  {
   "cell_type": "code",
   "execution_count": null,
   "id": "damaged-sensitivity",
   "metadata": {},
   "outputs": [],
   "source": [
    "head(mtcars,3)"
   ]
  },
  {
   "cell_type": "markdown",
   "id": "stock-devil",
   "metadata": {},
   "source": [
    "#### Tests for Horsepower: Median and Mean"
   ]
  },
  {
   "cell_type": "code",
   "execution_count": null,
   "id": "rising-forum",
   "metadata": {},
   "outputs": [],
   "source": [
    "hist(mtcars$hp)"
   ]
  },
  {
   "cell_type": "code",
   "execution_count": null,
   "id": "occasional-samuel",
   "metadata": {},
   "outputs": [],
   "source": [
    "boxplot(hp~am,data=mtcars)"
   ]
  },
  {
   "cell_type": "code",
   "execution_count": null,
   "id": "aggressive-stroke",
   "metadata": {},
   "outputs": [],
   "source": [
    "# Median test (non-parametric)\n",
    "wilcox.test(hp~am,data=mtcars,exact=FALSE)"
   ]
  },
  {
   "cell_type": "code",
   "execution_count": null,
   "id": "attractive-manual",
   "metadata": {},
   "outputs": [],
   "source": [
    "# Mean test (parametric)\n",
    "t.test(hp~am,data=mtcars,exact=FALSE)"
   ]
  },
  {
   "cell_type": "markdown",
   "id": "metric-mortgage",
   "metadata": {},
   "source": [
    "##### Observations\n",
    "Notice that the t-test was not significant for the comparison, but the Mann Whitney test was. This is related to the strongly skewed distribution and presence of outliers for the horsepower variable.\n"
   ]
  },
  {
   "cell_type": "markdown",
   "id": "dominant-local",
   "metadata": {},
   "source": [
    "#### Tests for MPG: Median and Mean"
   ]
  },
  {
   "cell_type": "code",
   "execution_count": null,
   "id": "northern-astronomy",
   "metadata": {},
   "outputs": [],
   "source": [
    "hist(mtcars$mpg)"
   ]
  },
  {
   "cell_type": "code",
   "execution_count": null,
   "id": "sitting-syracuse",
   "metadata": {},
   "outputs": [],
   "source": [
    "boxplot(mpg~am,data=mtcars)"
   ]
  },
  {
   "cell_type": "code",
   "execution_count": null,
   "id": "ready-adolescent",
   "metadata": {},
   "outputs": [],
   "source": [
    "wilcox.test(mpg~am,data=mtcars,exact=FALSE)"
   ]
  },
  {
   "cell_type": "code",
   "execution_count": null,
   "id": "anticipated-sunrise",
   "metadata": {},
   "outputs": [],
   "source": [
    "t.test(mpg~am,data=mtcars,exact=FALSE)"
   ]
  },
  {
   "cell_type": "markdown",
   "id": "characteristic-warrior",
   "metadata": {},
   "source": [
    "##### Observations\n",
    "Notice that for MPG, the distribution was closer to symmetric with no outliers. In this case, the t-test and Mann Whitney test were both able to detect a significant difference. \n"
   ]
  }
 ],
 "metadata": {
  "kernelspec": {
   "display_name": "R",
   "language": "R",
   "name": "ir"
  },
  "language_info": {
   "codemirror_mode": "r",
   "file_extension": ".r",
   "mimetype": "text/x-r-source",
   "name": "R",
   "pygments_lexer": "r",
   "version": "4.0.3"
  }
 },
 "nbformat": 4,
 "nbformat_minor": 5
}
