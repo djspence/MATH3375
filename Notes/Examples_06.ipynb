{
 "cells": [
  {
   "cell_type": "markdown",
   "id": "ranging-amplifier",
   "metadata": {},
   "source": [
    "# MATH 3375 Examples Notebook #6\n",
    "# Variable Interactions\n",
    "\n",
    "Using the cars data set, we will look at possible _interactions_ between predictors and how they can be accounted for in a regression model.\n"
   ]
  },
  {
   "cell_type": "code",
   "execution_count": null,
   "id": "after-henry",
   "metadata": {},
   "outputs": [],
   "source": [
    "\n",
    "car_data <- read.csv(\"cars2004.csv\", stringsAsFactors=TRUE)\n",
    "head(car_data)\n",
    "car_data$Length = as.integer(as.character(car_data$Length))\n",
    "car_data$Width = as.integer(as.character(car_data$Width))\n",
    "tail(car_data)\n"
   ]
  },
  {
   "cell_type": "markdown",
   "id": "atlantic-uncle",
   "metadata": {},
   "source": [
    "## Preliminaries: Add Two Columns\n",
    "\n",
    "To keep the first couple of models simple, we create two binary variables: 1) Sport, to indicate whether a vehicle is a sports car (using the 'Body' feature); and 2) RWD, to indicate whether a vehicle has rear wheel drive (using the 'WheelDrive' feature.)  We will use these variables to visualize how one predictor can be related to another."
   ]
  },
  {
   "cell_type": "code",
   "execution_count": null,
   "id": "variable-monaco",
   "metadata": {},
   "outputs": [],
   "source": [
    "car_data$Sport <- as.integer(car_data$Body == \"Sport\")\n",
    "car_data$RWD <- as.integer(car_data$WheelDrive == \"Rear\")\n",
    "\n",
    "head(car_data,3)\n",
    "tail(car_data,3)"
   ]
  },
  {
   "cell_type": "markdown",
   "id": "communist-growth",
   "metadata": {},
   "source": [
    "## Example 1: Horsepower predicted by Engine Size\n",
    "\n",
    "Below we create a plot of Horsepower by Engine Size, color coding the points to reflect whether the vehicle is a sports car. The plot includes a simple linear regression line of HP by Engine Size, which does NOT take the sports car designation into account."
   ]
  },
  {
   "cell_type": "code",
   "execution_count": null,
   "id": "sonic-centre",
   "metadata": {},
   "outputs": [],
   "source": [
    "model_HP <- lm(HP ~ EngineSize, data=car_data)"
   ]
  },
  {
   "cell_type": "code",
   "execution_count": null,
   "id": "decimal-prime",
   "metadata": {},
   "outputs": [],
   "source": [
    "shapes = c(16,17)\n",
    "colors = c(\"red\", \"blue\")\n",
    "plot(HP ~ EngineSize, data=car_data, main=\"Horsepower by Engine Size\",\n",
    "    col=colors[factor(car_data$Sport)], pch=shapes[factor(car_data$Sport)])\n",
    "abline(model_HP, lwd=2)\n",
    "\n",
    "legend(\"topleft\",\n",
    "       legend = c(\"Sport: NO\", \"Sport: YES\"),\n",
    "       pch = shapes,\n",
    "       col = colors)"
   ]
  },
  {
   "cell_type": "markdown",
   "id": "removed-dover",
   "metadata": {},
   "source": [
    "### Observations\n",
    "\n",
    "* The regression line doesn't look like a great fit for the sports cars in particular\n",
    "* We might get a better prediction by creating a separate model for sports and non-sports cars. We do this below, by following these steps:\n",
    "     1. Create 2 separate data sets, one with all the sports cars and one with all the others\n",
    "     2. Create a model for each one."
   ]
  },
  {
   "cell_type": "code",
   "execution_count": null,
   "id": "cooperative-links",
   "metadata": {},
   "outputs": [],
   "source": [
    "car_sport <- car_data[car_data$Sport == 1,]\n",
    "car_nonsport <- car_data[car_data$Sport == 0,]\n",
    "head(car_sport,3)\n",
    "head(car_nonsport,3)"
   ]
  },
  {
   "cell_type": "code",
   "execution_count": null,
   "id": "injured-delhi",
   "metadata": {},
   "outputs": [],
   "source": [
    "model_HP_sport <- lm(HP ~ EngineSize, data=car_sport)\n",
    "model_HP_nonsport <- lm(HP ~ EngineSize, data=car_nonsport)\n"
   ]
  },
  {
   "cell_type": "markdown",
   "id": "aging-melissa",
   "metadata": {},
   "source": [
    "### Visualize the Two Separate Models"
   ]
  },
  {
   "cell_type": "code",
   "execution_count": null,
   "id": "normal-madonna",
   "metadata": {},
   "outputs": [],
   "source": [
    "shapes = c(16,17)\n",
    "colors = c(\"red\", \"blue\")\n",
    "plot(HP ~ EngineSize, data=car_data, main=\"Horsepower by Engine Size\",\n",
    "    col=colors[factor(car_data$Sport)], pch=shapes[factor(car_data$Sport)])\n",
    "\n",
    "abline(model_HP_sport,col=\"blue\",lwd=2)\n",
    "abline(model_HP_nonsport,col=\"red\",lwd=2)\n",
    "\n",
    "legend(\"topleft\",\n",
    "       legend = c(\"Sport: NO\", \"Sport: YES\"),\n",
    "       pch = shapes,\n",
    "       col = colors)"
   ]
  },
  {
   "cell_type": "markdown",
   "id": "communist-determination",
   "metadata": {},
   "source": [
    "### Comparing the Models\n",
    "\n",
    "Visually comparing the models, we see that:\n",
    "\n",
    "* The sport car model has a higher intercept\n",
    "* The sport car model has a similar slope, but it is slightly steeper\n",
    "\n",
    "We can verify our observations by looking at the model summary."
   ]
  },
  {
   "cell_type": "code",
   "execution_count": null,
   "id": "sophisticated-grounds",
   "metadata": {},
   "outputs": [],
   "source": [
    "summary(model_HP_nonsport)"
   ]
  },
  {
   "cell_type": "code",
   "execution_count": null,
   "id": "iraqi-alcohol",
   "metadata": {},
   "outputs": [],
   "source": [
    "summary(model_HP_sport)"
   ]
  },
  {
   "cell_type": "markdown",
   "id": "personalized-sleeve",
   "metadata": {},
   "source": [
    "### Using 'Sport' as a second predictor\n",
    "\n",
    "The next model adds 'Sport' as a predictor. Note that we can't easily visualize this model, but we can compare the intercept and EngineSize coefficients with the individual models above."
   ]
  },
  {
   "cell_type": "code",
   "execution_count": null,
   "id": "deadly-singer",
   "metadata": {},
   "outputs": [],
   "source": [
    "model_HP_both <- lm(HP ~ EngineSize + Sport, data=car_data)\n",
    "summary(model_HP_both)"
   ]
  },
  {
   "cell_type": "markdown",
   "id": "another-syndication",
   "metadata": {},
   "source": [
    "### Adding an Interaction Term\n",
    "\n",
    "Because the slopes are different in the sport and non-sport models, we should look at a model with an interaction term. This model is created below."
   ]
  },
  {
   "cell_type": "code",
   "execution_count": null,
   "id": "integral-exhaust",
   "metadata": {},
   "outputs": [],
   "source": [
    "model_HP_sport_int <- lm(HP ~ EngineSize + Sport + EngineSize*Sport, data=car_data)\n",
    "summary(model_HP_sport_int)"
   ]
  },
  {
   "cell_type": "markdown",
   "id": "understanding-particle",
   "metadata": {},
   "source": [
    "### Comparing All Four Models\n",
    "\n",
    "| Coefficient | HP_nonsport | HP_sport | HP_both | HP_both_int |\n",
    "|:------|------------:|------:|------:|------:|\n",
    "|Intercept| 52.604 | 82.820  |   48.773|  52.604 |\n",
    "|EngineSize| 49.003  | 58.660  | 50.214  | 49.003  |\n",
    "|Sport|  |   | 62.592  | 30.216  |\n",
    "|EngineSize $\\times$ Sport|  |   |   | 9.656  |\n",
    "\n",
    "Observe that the model with the interaction will effectively produces the exact same predictions as the two separate models we created for sport and non-sport vehicles.  Specifically:\n",
    "\n",
    "* The intercept and **EngineSize** coefficient for the non-sport model are identical to the ones in the model with an interaction term.\n",
    "* The sport model intercept is $82.82$, which is equivalent to the sum of the intercept and **Sport** coefficient in the model with interaction term ($52.604 + 30.216$).\n",
    "* The sport model EngineSize coefficient is $58.660$, which is equivalent to the sum of the **EngineSize** coefficient and the **EngineSize $\\times$ Sport** coefficient in the interaction model ($49.003 + 9.656$).\n",
    "\n",
    "Based on the above observations, our original plot of the 2 separate models **IS** an accurate visual representation of the model with the interaction term included.\n",
    "\n",
    "To visualize the combined model WITHOUT the interaction term, we can plot lines using the values from the 'HP_both' model. Here, note that:\n",
    "\n",
    "* Both lines have an identical slope, indicating the assumption of NO interaction.\n",
    "* The intercept of the model is the intercept for NON-sport vehicles.\n",
    "* The **Sport** coefficient is effectively an ADJUSTMENT to the intercept, raising the entire line up. (This makes the intercept for sport vehicles $50.214 + 62.592 = 112.806$.)"
   ]
  },
  {
   "cell_type": "code",
   "execution_count": null,
   "id": "maritime-favorite",
   "metadata": {},
   "outputs": [],
   "source": [
    "shapes = c(16,17)\n",
    "colors = c(\"red\", \"blue\")\n",
    "plot(HP ~ EngineSize, data=car_data, main=\"Horsepower by Engine Size\",\n",
    "    col=colors[factor(car_data$Sport)], pch=shapes[factor(car_data$Sport)])\n",
    "\n",
    "abline(a=50.214, b=48.773, col=\"red\",lwd=2)\n",
    "abline(a=(50.214+62.592), b=48.773, col=\"blue\",lwd=2)\n",
    "\n",
    "legend(\"topleft\",\n",
    "       legend = c(\"Sport: NO\", \"Sport: YES\"),\n",
    "       pch = shapes,\n",
    "       col = colors)"
   ]
  },
  {
   "cell_type": "markdown",
   "id": "brazilian-humidity",
   "metadata": {},
   "source": [
    "### Which Model is Better?\n",
    "\n",
    "Notice that the interaction term is only significant at $\\alpha = 0.1$, so the effect is weak.  This is consistent with the separate models having _similar_ slopes, but still slightly different.  Adding the interaction term accounts for the slight difference in slope, but also adds complexity to the model.  This is considered a _**trade-off**_.\n",
    "\n",
    "### How to Create Predictions with Each Model\n",
    "\n",
    "The model coefficients for the combined models (with and without interaction terms) are given here as a reference:\n",
    "\n",
    "| Coefficient | HP_both | HP_both_int |\n",
    "|:------|------:|------:|\n",
    "|Intercept|    48.773|  52.604 |\n",
    "|EngineSize|  50.214  | 49.003  |\n",
    "|Sport|62.592  | 30.216  |\n",
    "|EngineSize $\\times$ Sport|   | 9.656  |\n",
    "\n",
    "#### Model without interaction term\n",
    "\n",
    "A _**non-sport**_ car with engine size 3.5 would be predicted to have:\n",
    "\n",
    "$\\widehat{HP} = 48.773 + 50.214(3.5) + 62.592(0) = 224.522$\n",
    "\n",
    "A **_sport car_** with engine size 3.5 would be predicted to have:\n",
    "\n",
    "$\\widehat{HP} = 48.773 + 50.214(3.5) + 62.592(1) = 287.114$\n",
    "\n",
    "#### Model WITH interaction term\n",
    "\n",
    "A _**non-sport**_ car with engine size 3.5 would be predicted to have:\n",
    "\n",
    "$\\widehat{HP} = 52.604 + 49.003(3.5) + 30.216(0) + 9.656(3.5)(0) = 224.1145$\n",
    "\n",
    "A **_sport car_** with engine size 3.5 would be predicted to have:\n",
    "\n",
    "$\\widehat{HP} = 52.604 + 49.003(3.5) + 30.216(1) + 9.656(3.5)(1) = 288.1265$"
   ]
  },
  {
   "cell_type": "markdown",
   "id": "neural-fisher",
   "metadata": {},
   "source": [
    "## Example 2: Highway MPG predicted by Engine Size\n",
    "\n",
    "This time, we create a plot of Highway MPG by Engine Size, color coding the points to reflect whether the vehicle has rear wheel drive."
   ]
  },
  {
   "cell_type": "code",
   "execution_count": null,
   "id": "labeled-worship",
   "metadata": {},
   "outputs": [],
   "source": [
    "\n",
    "shapes = c(16,17)\n",
    "colors = c(\"green\", \"purple\")\n",
    "plot(Hwy.MPG ~ EngineSize, data=car_data, main=\"Highway MPG by Engine Size\",\n",
    "    col=colors[factor(car_data$RWD)], pch=shapes[factor(car_data$RWD)])\n",
    "\n",
    "legend(\"topleft\",\n",
    "       legend = c(\"RWD: NO\", \"RWD: YES\"),\n",
    "       pch = shapes,\n",
    "       col = colors)"
   ]
  },
  {
   "cell_type": "markdown",
   "id": "ordinary-syracuse",
   "metadata": {},
   "source": [
    "### Create 2 Data Sets and Visualize Separate Models"
   ]
  },
  {
   "cell_type": "code",
   "execution_count": null,
   "id": "excess-upgrade",
   "metadata": {},
   "outputs": [],
   "source": [
    "car_RWD <- car_data[car_data$RWD == 1,]\n",
    "car_nonRWD <- car_data[car_data$RWD == 0,]\n",
    "head(car_RWD,3)\n",
    "head(car_nonRWD,3)"
   ]
  },
  {
   "cell_type": "code",
   "execution_count": null,
   "id": "grand-windows",
   "metadata": {},
   "outputs": [],
   "source": [
    "model_mpg_RWD <- lm(Hwy.MPG ~ EngineSize, data=car_RWD)\n",
    "model_mpg_nonRWD <- lm(Hwy.MPG ~ EngineSize, data=car_nonRWD)\n"
   ]
  },
  {
   "cell_type": "code",
   "execution_count": null,
   "id": "found-philippines",
   "metadata": {},
   "outputs": [],
   "source": [
    "shapes = c(16,17)\n",
    "colors = c(\"forestgreen\", \"purple\")\n",
    "plot(Hwy.MPG ~ EngineSize, data=car_data, main=\"Highway MPG by Engine Size\",\n",
    "    col=colors[factor(car_data$RWD)], pch=shapes[factor(car_data$RWD)])\n",
    "\n",
    "abline(model_mpg_nonRWD,col=\"forestgreen\", lwd=2)\n",
    "abline(model_mpg_RWD,col=\"purple\", lwd=2)\n",
    "\n",
    "legend(\"topleft\",\n",
    "       legend = c(\"RWD: NO\", \"RWD: YES\"),\n",
    "       pch = shapes,\n",
    "       col = colors)"
   ]
  },
  {
   "cell_type": "markdown",
   "id": "committed-venture",
   "metadata": {},
   "source": [
    "### Observations\n",
    "\n",
    "These models show a much stronger interaction: The lines have very different slopes and intersect each other in the middle of the plot. \n",
    "\n",
    "As before, we will create models with and without interaction terms."
   ]
  },
  {
   "cell_type": "code",
   "execution_count": null,
   "id": "insured-execution",
   "metadata": {},
   "outputs": [],
   "source": [
    "model_mpg_both <- lm(Hwy.MPG ~ EngineSize + RWD, data=car_data)\n",
    "model_mpg_both_int <- lm(Hwy.MPG ~ EngineSize + RWD + EngineSize*RWD, data=car_data)"
   ]
  },
  {
   "cell_type": "markdown",
   "id": "sorted-automation",
   "metadata": {},
   "source": [
    "### View All Four Model Summaries"
   ]
  },
  {
   "cell_type": "code",
   "execution_count": null,
   "id": "motivated-cooking",
   "metadata": {},
   "outputs": [],
   "source": [
    "summary(model_mpg_nonRWD)\n",
    "summary(model_mpg_RWD)\n",
    "summary(model_mpg_both)\n",
    "summary(model_mpg_both_int)"
   ]
  },
  {
   "cell_type": "markdown",
   "id": "simplified-budapest",
   "metadata": {},
   "source": [
    "### Compare All Four Models\n",
    "\n",
    "Again, notice how the coefficients in the interaction model relate to those in the separate models.\n",
    "\n",
    "| Coefficient | mpg_nonRWD | mpg_RWD | mpg_both | mpg_both_int |\n",
    "|:------|------------:|------:|------:|------:|\n",
    "|Intercept| 40.3318 | 32.1783  |   38.6129|  40.3318 |\n",
    "|EngineSize| -4.3375  | -1.9105  | -3.7673  | -4.3375  |\n",
    "|RWD|  |   | 0.3945  | -8.1535  |\n",
    "|EngineSize $\\times$ RWD|  |   |   | 2.4270  |\n",
    "\n",
    "Also notice that the coefficient for the interaction term is highly significant this time. This is consistent with our observation of the very different slopes in the separate models."
   ]
  },
  {
   "cell_type": "markdown",
   "id": "accompanied-milan",
   "metadata": {},
   "source": [
    "## More Extensive Models\n",
    "\n",
    "Recall that 'Sport' was just one of several body types in the original data set. The model in Example 1 above was focused only on the binary (0/1) value for the 'sport' body type.  \n",
    "\n",
    "Below we show a model where potential interactions are considered using **_all_** possible body types.  First we show a summary of all body types in the data set, for reference."
   ]
  },
  {
   "cell_type": "code",
   "execution_count": null,
   "id": "catholic-provider",
   "metadata": {},
   "outputs": [],
   "source": [
    "summary(car_data$Body)\n",
    "\n",
    "model_HP_body <- lm(HP ~ EngineSize + Body + EngineSize*Body, data=car_data)\n",
    "summary(model_HP_body)"
   ]
  },
  {
   "cell_type": "markdown",
   "id": "framed-paradise",
   "metadata": {},
   "source": [
    "#### Questions to Consider\n",
    "\n",
    "* Which body type is the 'baseline' to which all others are compared?\n",
    "* Which body type coefficients are significant at the $\\alpha = 0.05$ level?\n",
    "* Which body types have a significant interaction with engine size at the $\\alpha = 0.05$ level?\n",
    "* What is the predicted horsepower of an SUV with an engine size of 4.0?"
   ]
  },
  {
   "cell_type": "markdown",
   "id": "quality-nylon",
   "metadata": {},
   "source": [
    "### Suggestion \n",
    "\n",
    "Use one or more code cells below to practice the steps above by exploring other possible regression models."
   ]
  },
  {
   "cell_type": "code",
   "execution_count": null,
   "id": "immune-secretary",
   "metadata": {},
   "outputs": [],
   "source": []
  }
 ],
 "metadata": {
  "kernelspec": {
   "display_name": "R",
   "language": "R",
   "name": "ir"
  },
  "language_info": {
   "codemirror_mode": "r",
   "file_extension": ".r",
   "mimetype": "text/x-r-source",
   "name": "R",
   "pygments_lexer": "r",
   "version": "4.0.3"
  }
 },
 "nbformat": 4,
 "nbformat_minor": 5
}
