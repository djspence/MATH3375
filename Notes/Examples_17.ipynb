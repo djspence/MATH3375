{
 "cells": [
  {
   "cell_type": "markdown",
   "id": "ranging-amplifier",
   "metadata": {},
   "source": [
    "# MATH 3375 Examples Notebook #17\n",
    "\n",
    "# Decision Trees\n",
    "\n",
    "We explore another algorithm for predicting classification (categorical response), using the **mtcars** and **iris** data sets.\n",
    "\n",
    "Again, our response variable is **am**, the transmission type, where 0=automatic, and 1=manual.\n"
   ]
  },
  {
   "cell_type": "code",
   "execution_count": null,
   "id": "absolute-anchor",
   "metadata": {},
   "outputs": [],
   "source": [
    "#install.packages(\"rpart\")\n",
    "library(rpart)\n",
    "library(rpart.plot)"
   ]
  },
  {
   "cell_type": "code",
   "execution_count": null,
   "id": "flush-hungary",
   "metadata": {},
   "outputs": [],
   "source": [
    "#Look at data set\n",
    "head(mtcars)"
   ]
  },
  {
   "cell_type": "markdown",
   "id": "growing-establishment",
   "metadata": {},
   "source": [
    "## Decision Tree with Default Configuration Parameters \n",
    "\n",
    "Our first model is a decision tree created using the **rpart** library, with default values for all parameters."
   ]
  },
  {
   "cell_type": "code",
   "execution_count": null,
   "id": "mobile-debate",
   "metadata": {},
   "outputs": [],
   "source": [
    "#Create model\n",
    "tran_model_tree_01 <- rpart(am~.,data=mtcars,method=\"class\")\n",
    "\n",
    "#Print model summary\n",
    "print(tran_model_tree_01)\n",
    "\n",
    "#View model sketch and show group sizes\n",
    "par(xpd=NA)\n",
    "plot(tran_model_tree_01)\n",
    "text(tran_model_tree_01,use.n=TRUE)"
   ]
  },
  {
   "cell_type": "markdown",
   "id": "valid-message",
   "metadata": {},
   "source": [
    "### A More Refined Plot\n",
    "\n",
    "The plot below is easier to read, but does not show the precise count of data points in each group.  However, it does provide:\n",
    "\n",
    "* Branch labels (yes/no)\n",
    "* Majority class at each node\n",
    "* Proportion of each node that has class 1 (manual transmission)\n",
    "* Proportion of overall data set at each node"
   ]
  },
  {
   "cell_type": "code",
   "execution_count": null,
   "id": "quantitative-links",
   "metadata": {},
   "outputs": [],
   "source": [
    "rpart.plot(tran_model_tree_01)"
   ]
  },
  {
   "cell_type": "markdown",
   "id": "sustained-version",
   "metadata": {},
   "source": [
    "### Surprisingly Simple?\n",
    "\n",
    "This model only uses one variable, and makes a very simple comparison. Yet the final nodes are not \"pure\" (exclusively containing records of only one class.)  Is this the best we can do?\n",
    "\n",
    "The default parameters for a decision tree prevent the tree from branching to trivial comparisons that are likely to be overfit to the training data.  We will look at these 3 parameters to control how much the tree is \"pruned\".\n",
    "\n",
    "* **cp** - Complexity Parameter - Minimum improvement in fit that must be accomplished to warrant splitting a node\n",
    "* **minsplit** - Minimum number of data points in node before it can be split\n",
    "* **minbucket** - Minimum number of data points in a terminal node ('leaf')\n",
    "\n",
    "For more information on the parameters that govern tree construction, view the documentation for rpart by running the cells below."
   ]
  },
  {
   "cell_type": "code",
   "execution_count": null,
   "id": "hungarian-symphony",
   "metadata": {},
   "outputs": [],
   "source": [
    "?rpart"
   ]
  },
  {
   "cell_type": "code",
   "execution_count": null,
   "id": "exposed-pierce",
   "metadata": {},
   "outputs": [],
   "source": [
    "?rpart.control"
   ]
  },
  {
   "cell_type": "markdown",
   "id": "sporting-wrapping",
   "metadata": {},
   "source": [
    "### An Un-Pruned Tree\n",
    "\n",
    "Using the above parameters, we can force a tree not to be pruned.  The tree is very likely to be overfit, but is useful for getting a better idea of how trees work, and how the parameters can affect the tree. Notice that the unpruned tree continues until every terminal node is pure (every 'leaf' contains only one class of data points)."
   ]
  },
  {
   "cell_type": "code",
   "execution_count": null,
   "id": "ranging-passion",
   "metadata": {},
   "outputs": [],
   "source": [
    "#Create model\n",
    "tran_model_tree_02 <- rpart(am~.,data=mtcars,method=\"class\",minsplit=2,minbucket=1)\n",
    "\n",
    "print(tran_model_tree_02)\n",
    "\n",
    "#View model sketch and show group sizes\n",
    "par(xpd=NA)\n",
    "plot(tran_model_tree_02)\n",
    "text(tran_model_tree_02,use.n=TRUE)"
   ]
  },
  {
   "cell_type": "code",
   "execution_count": null,
   "id": "comfortable-hobby",
   "metadata": {},
   "outputs": [],
   "source": [
    "rpart.plot(tran_model_tree_02)"
   ]
  },
  {
   "cell_type": "markdown",
   "id": "overall-tumor",
   "metadata": {},
   "source": [
    "## Second Example: Iris Species\n",
    "\n",
    "We examine a non-binary classification example with the **iris** data set, where _Species_ has 3 possible values.\n",
    "\n",
    "This time, we hold out 5 rows that we can use for testing. We will train the first tree with the remaining 145 rows.\n",
    "\n",
    "The first model is pruned with default parameter settings in **rpart**."
   ]
  },
  {
   "cell_type": "code",
   "execution_count": null,
   "id": "crazy-counter",
   "metadata": {},
   "outputs": [],
   "source": [
    "test_rows <- c(14,23,80,119,123)\n",
    "iris_test <- iris[test_rows,]\n",
    "iris_train <- iris[-test_rows,]\n",
    "\n",
    "#Create model\n",
    "iris_model_tree_01 <- rpart(Species~.,data=iris_train,method=\"class\")\n",
    "\n",
    "print(iris_model_tree_01)\n",
    "\n",
    "#View model sketch and show group sizes\n",
    "par(xpd=NA)\n",
    "plot(iris_model_tree_01)\n",
    "text(iris_model_tree_01,use.n=TRUE)"
   ]
  },
  {
   "cell_type": "code",
   "execution_count": null,
   "id": "antique-collectible",
   "metadata": {},
   "outputs": [],
   "source": [
    "rpart.plot(iris_model_tree_01)"
   ]
  },
  {
   "cell_type": "markdown",
   "id": "demanding-traffic",
   "metadata": {},
   "source": [
    "### Reduce Pruning\n",
    "\n",
    "We will train the remaining trees with the full data set, so we will NOT test these models.  \n",
    "\n",
    "The examples below illustrate levels of pruning different from the default. First we use the minsplit and minbucket parameters to increase splitting (reduce pruning). "
   ]
  },
  {
   "cell_type": "code",
   "execution_count": null,
   "id": "massive-vitamin",
   "metadata": {},
   "outputs": [],
   "source": [
    "iris_model_tree_02 <- rpart(Species~.,data=iris,method=\"class\",minsplit=2,minbucket=1)\n",
    "rpart.plot(iris_model_tree_02)"
   ]
  },
  {
   "cell_type": "markdown",
   "id": "informal-summary",
   "metadata": {},
   "source": [
    "### Complexity Parameter\n",
    "\n",
    "This time, notice that even with **minsplit** and **minbucket** set to the lowest possible values, the terminal nodes are not pure. This is because the _complexity parameter_ prevents a node from splitting if there is not sufficient improvement to the model fit.  The default complexity parameter is 0.01, representing the minimum improvement needed in overall classification accuracy before a node will be split.  Below, we show what happens if we reduce this value."
   ]
  },
  {
   "cell_type": "code",
   "execution_count": null,
   "id": "exciting-resource",
   "metadata": {},
   "outputs": [],
   "source": [
    "iris_model_tree_03 <- rpart(Species~.,data=iris,method=\"class\",minsplit=2,minbucket=1,cp=0.001)\n",
    "rpart.plot(iris_model_tree_03)"
   ]
  },
  {
   "cell_type": "markdown",
   "id": "color-texture",
   "metadata": {},
   "source": [
    "### Completely Un-Pruned Tree\n",
    "\n",
    "By reducing the complexity parameter threshold, we have prevented any pruning of the tree, and every terminal node is pure. \n",
    "\n",
    "The tree above is almost certainly overfit to the particular data set that we used to train it."
   ]
  },
  {
   "cell_type": "markdown",
   "id": "magnetic-deadline",
   "metadata": {},
   "source": [
    "## Using Decision Trees for Prediction\n",
    "\n",
    "Using the test set that we set aside when creating the first model, we will see how the trees can be used for prediction."
   ]
  },
  {
   "cell_type": "code",
   "execution_count": null,
   "id": "underlying-relationship",
   "metadata": {},
   "outputs": [],
   "source": [
    "iris_test\n"
   ]
  },
  {
   "cell_type": "code",
   "execution_count": null,
   "id": "biblical-manor",
   "metadata": {},
   "outputs": [],
   "source": [
    "test_pred <- predict(iris_model_tree_01,iris_test)\n",
    "test_pred"
   ]
  },
  {
   "cell_type": "markdown",
   "id": "careful-aquatic",
   "metadata": {},
   "source": [
    "### Predicting Class Directly"
   ]
  },
  {
   "cell_type": "code",
   "execution_count": null,
   "id": "desperate-intellectual",
   "metadata": {},
   "outputs": [],
   "source": [
    "test_pred <- predict(iris_model_tree_01,iris_test,type=\"class\")\n",
    "test_pred"
   ]
  },
  {
   "cell_type": "markdown",
   "id": "psychological-arbor",
   "metadata": {},
   "source": [
    "## Suggestion\n",
    "\n",
    "Explore decision trees more on your own using any data set that has a binary or categorical variable."
   ]
  },
  {
   "cell_type": "code",
   "execution_count": null,
   "id": "dressed-nickname",
   "metadata": {},
   "outputs": [],
   "source": []
  }
 ],
 "metadata": {
  "kernelspec": {
   "display_name": "R",
   "language": "R",
   "name": "ir"
  },
  "language_info": {
   "codemirror_mode": "r",
   "file_extension": ".r",
   "mimetype": "text/x-r-source",
   "name": "R",
   "pygments_lexer": "r",
   "version": "4.0.3"
  }
 },
 "nbformat": 4,
 "nbformat_minor": 5
}
